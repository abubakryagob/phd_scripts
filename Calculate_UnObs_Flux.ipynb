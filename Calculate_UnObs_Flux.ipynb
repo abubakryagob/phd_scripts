{
 "cells": [
  {
   "cell_type": "code",
   "execution_count": 28,
   "metadata": {},
   "outputs": [],
   "source": [
    "import matplotlib.pyplot as plt\n",
    "import numpy as np\n",
    "import sys\n",
    "import math\n",
    "import numpy as np\n",
    "from astropy.time import Time\n"
   ]
  },
  {
   "cell_type": "code",
   "execution_count": 29,
   "metadata": {},
   "outputs": [],
   "source": [
    "#Reading the data\n",
    "file= 'xmm-nustar_SGRJ1935_un-obs-flux.dat'\n",
    "Data = np.loadtxt(file)\n",
    "\n",
    "\n",
    "MJD = Data[:,0]\n",
    "log10F = Data[:,1]\n",
    "log10F_lower_error = Data[:,2]\n",
    "log10F_upper_error = Data[:,3]\n",
    "obs_name = Data[:,4]"
   ]
  },
  {
   "cell_type": "code",
   "execution_count": 30,
   "metadata": {},
   "outputs": [
    {
     "data": {
      "text/plain": [
       "array([-10.7547, -10.8428])"
      ]
     },
     "execution_count": 30,
     "metadata": {},
     "output_type": "execute_result"
    }
   ],
   "source": [
    "log10F"
   ]
  },
  {
   "cell_type": "code",
   "execution_count": 31,
   "metadata": {},
   "outputs": [
    {
     "name": "stdout",
     "output_type": "stream",
     "text": [
      "### Initial flux values:\n",
      " [1.75913836e-11 1.43615065e-11]\n"
     ]
    }
   ],
   "source": [
    "# get the mjd from \"datetime.ipynb\", get the everage (start+end)/2\n",
    "# To calculate the fux obtained from xspec 10e*flux\n",
    "\n",
    "Flux = 10**log10F\n",
    "print('### Initial flux values:\\n', Flux)"
   ]
  },
  {
   "cell_type": "code",
   "execution_count": 32,
   "metadata": {},
   "outputs": [
    {
     "name": "stdout",
     "output_type": "stream",
     "text": [
      "### initial lower error of the flux:\n",
      " [-10.7583 -10.8469]\n",
      "### initial upper error of the flux:\n",
      " [-10.7512 -10.8387]\n"
     ]
    }
   ],
   "source": [
    "print('### initial lower error of the flux:\\n', log10F_lower_error)\n",
    "print('### initial upper error of the flux:\\n', log10F_upper_error)"
   ]
  },
  {
   "cell_type": "code",
   "execution_count": 37,
   "metadata": {},
   "outputs": [],
   "source": [
    "# Get the natuaral logrithm for the flux uncertunity\n",
    "Flux_lower = 10**log10F_lower_error\n",
    "Flux_upper = 10**log10F_upper_error\n"
   ]
  },
  {
   "cell_type": "code",
   "execution_count": 42,
   "metadata": {},
   "outputs": [
    {
     "name": "stdout",
     "output_type": "stream",
     "text": [
      "### flux of the lower error:\n",
      " [1.45217659e-13 1.34943248e-13]\n",
      "### flux of the upper error:\n",
      " [1.42342605e-13 1.36223225e-13]\n"
     ]
    }
   ],
   "source": [
    "Error_lower = Flux - Flux_lower\n",
    "Error_upper = Flux_upper - Flux  \n",
    "\n",
    "print('### flux of the lower error:\\n', Error_lower)\n",
    "print('### flux of the upper error:\\n', Error_upper)\n"
   ]
  },
  {
   "cell_type": "code",
   "execution_count": 43,
   "metadata": {},
   "outputs": [
    {
     "data": {
      "image/png": "[encoded data removed]",
      "text/plain": [
       "<Figure size 432x288 with 1 Axes>"
      ]
     },
     "metadata": {
      "needs_background": "light"
     },
     "output_type": "display_data"
    }
   ],
   "source": [
    "label = obs_name\n",
    "#Flux Plot\n",
    "plt.figure()\n",
    "plt.xlabel(\"Time [MJD]\")\n",
    "plt.ylabel(r\"Flux [erg cm$^{-2}$s$^{-1}$]\")\n",
    "plt.title(\"Absorbed flux\")\n",
    "plt.errorbar(MJD, Flux, yerr=[Error_lower,Error_upper], fmt='.k', ecolor='black', marker='o')# elinewidth=1,  mfc='k')\n",
    "plt.gca().set_yscale('log')\n",
    "plt.grid(which='both')\n",
    "#plt.legend(p, label)\n",
    "\n",
    "plt.savefig(\"xmm-nustar_J1818_un-obs-flux.png\")\n",
    "plt.show()"
   ]
  },
  {
   "cell_type": "code",
   "execution_count": 48,
   "metadata": {},
   "outputs": [
    {
     "name": "stdout",
     "output_type": "stream",
     "text": [
      "### Best Luminosity:\n",
      " [9.16808630e+34 7.48477402e+34]\n",
      "### Luminosity with lower uncertunities:\n",
      " [7.56829629e+32 7.03282565e+32]\n",
      "### Luminosity with upper uncertunities:\n",
      " [7.41845730e+32 7.09953413e+32]\n"
     ]
    }
   ],
   "source": [
    "#======================================================\n",
    "\t\t# Calculate the luminosity\n",
    "#======================================================\n",
    "#dpc = 4.8 #kpc = 4800 pc\n",
    "#d = 1.4811e+22 #distance in units of centimeter\n",
    "d = 2.0365e+22 #d =6.6 kpc\n",
    "L_best = 4*np.pi*Flux*d**2\n",
    "print('### Best Luminosity:\\n', L_best)\n",
    "\n",
    "L_lower = L_best - (Flux_lower*4*np.pi*d**2)\n",
    "L_upper = Flux_upper*(4*np.pi*d**2) - L_best\n",
    "\n",
    "print('### Luminosity with lower uncertunities:\\n', L_lower)\n",
    "print('### Luminosity with upper uncertunities:\\n', L_upper)"
   ]
  },
  {
   "cell_type": "code",
   "execution_count": 49,
   "metadata": {},
   "outputs": [
    {
     "data": {
      "image/png": "[encoded data removed]",
      "text/plain": [
       "<Figure size 432x288 with 1 Axes>"
      ]
     },
     "metadata": {
      "needs_background": "light"
     },
     "output_type": "display_data"
    }
   ],
   "source": [
    "#Plot\n",
    "plt.figure()\n",
    "plt.xlabel(\"Time [MJD]\")\n",
    "plt.ylabel(r\"Luminosity [erg s$^{-1}$]\")\n",
    "plt.title(\"Luminosity\")\n",
    "plt.errorbar(MJD, L_best, yerr=[L_lower,L_upper], fmt='.k', ecolor='black')# elinewidth=5,  mfc='k')\n",
    "#plt.gca().set_yscale('log')\n",
    "plt.grid(which='both')\n",
    "plt.savefig(\"xmm-nustar_J1818_un-obs-flux_luminosity_.png\")\n",
    "plt.show()\n",
    "\n"
   ]
  }
 ],
 "metadata": {
  "anaconda-cloud": {},
  "kernelspec": {
   "display_name": "Python 3",
   "language": "python",
   "name": "python3"
  },
  "language_info": {
   "codemirror_mode": {
    "name": "ipython",
    "version": 3
   },
   "file_extension": ".py",
   "mimetype": "text/x-python",
   "name": "python",
   "nbconvert_exporter": "python",
   "pygments_lexer": "ipython3",
   "version": "3.8.5"
  }
 },
 "nbformat": 4,
 "nbformat_minor": 4
}
