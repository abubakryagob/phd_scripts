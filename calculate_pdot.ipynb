{
 "cells": [
  {
   "cell_type": "code",
   "execution_count": 38,
   "id": "hollow-newfoundland",
   "metadata": {},
   "outputs": [],
   "source": [
    "import matplotlib.pyplot as plt\n",
    "import numpy as np\n",
    "import sys\n",
    "import math\n",
    "import numpy as np\n",
    "from astropy.time import Time\n"
   ]
  },
  {
   "cell_type": "code",
   "execution_count": 39,
   "id": "fallen-mirror",
   "metadata": {},
   "outputs": [],
   "source": [
    "#Reading the data\n",
    "file= \"fdot_xmm-nustar_obs.dat\"\n",
    "Data = np.loadtxt(file)\n",
    "\n",
    "\n",
    "mjd = Data[:,0]\n",
    "Freq = Data[:,1]"
   ]
  },
  {
   "cell_type": "code",
   "execution_count": 40,
   "id": "extended-shaft",
   "metadata": {},
   "outputs": [
    {
     "name": "stdout",
     "output_type": "stream",
     "text": [
      "[58923.41541667 58943.82887153 58972.36673032 59030.38083333\n",
      " 59031.92434028 59099.52295139 58923.4710706  58943.36010995\n",
      " 59099.78876157 59130.73395833]\n",
      "[0.73341022 0.73335405 0.73329004 0.73318165 0.73316316 0.73305014\n",
      " 0.73341466 0.733359   0.73304277 0.73300908]\n"
     ]
    }
   ],
   "source": [
    "print(mjd)\n",
    "\n",
    "print(Freq)"
   ]
  },
  {
   "cell_type": "code",
   "execution_count": 41,
   "id": "imperial-royal",
   "metadata": {},
   "outputs": [],
   "source": [
    "m, b = np.polyfit(mjd, Freq, 1, cov=True)\n",
    "#m = slope, b = intercept"
   ]
  },
  {
   "cell_type": "code",
   "execution_count": 42,
   "id": "unsigned-investor",
   "metadata": {},
   "outputs": [
    {
     "name": "stdout",
     "output_type": "stream",
     "text": [
      "(-1.9850205875266524e-06, 5.7125533503184037e-08)\n",
      "(0.8503633023641344, 0.0033709735850258504)\n"
     ]
    }
   ],
   "source": [
    "#So you need to return the covariance matrix, V, for which the square root\n",
    "#of the diagonals are the estimated standard-deviation for each of the fitted coefficients. \n",
    "#This of course generalised to higher dimensions.\n",
    "#best_fit = m[0]*mjd + b[0]\n",
    "#best_fit = m*mjd + b\n",
    "x1_error= (m[0],np.sqrt(b[0][0]))\n",
    "x2_error= (m[1],np.sqrt(b[1][1]))\n",
    "print(x1_error)\n",
    "print(x2_error)\n",
    "\n",
    "#print(\"x_1: {} +/- {}\".format(m[0], np.sqrt(b[0][0])))\n",
    "#print(\"x_2: {} +/- {}\".format(m[1], np.sqrt(b[1][1])))\n",
    "uncer = 5.7125533503184037e-08/86400\n",
    "uncer\n",
    "uncer_minus=6.611751562868523e-13"
   ]
  },
  {
   "cell_type": "code",
   "execution_count": 43,
   "id": "juvenile-security",
   "metadata": {},
   "outputs": [
    {
     "name": "stdout",
     "output_type": "stream",
     "text": [
      "The slope [-1.98502059e-06  8.50363302e-01]\n",
      "The spin-freq derivative [-2.29747753e-11  9.84216785e-06]\n"
     ]
    }
   ],
   "source": [
    "print('The slope', m)\n",
    "#print('The intercept', b)\n",
    "Fdot = m/86400 #Hz=1/s\n",
    "print('The spin-freq derivative', Fdot)"
   ]
  },
  {
   "cell_type": "code",
   "execution_count": 60,
   "id": "synthetic-major",
   "metadata": {},
   "outputs": [
    {
     "data": {
      "text/plain": [
       "((), (), (10,))"
      ]
     },
     "execution_count": 60,
     "metadata": {},
     "output_type": "execute_result"
    }
   ],
   "source": [
    "best_fit = (m*mjd) + b\n",
    "b.shape, m.shape, mjd.shape"
   ]
  },
  {
   "cell_type": "code",
   "execution_count": 64,
   "id": "democratic-planner",
   "metadata": {},
   "outputs": [
    {
     "data": {
      "image/png": "[encoded data removed]",
      "text/plain": [
       "<Figure size 432x288 with 1 Axes>"
      ]
     },
     "metadata": {},
     "output_type": "display_data"
    }
   ],
   "source": [
    "style.use('ggplot')\n",
    "plt.scatter(mjd, Freq,color='#003F72')\n",
    "plt.plot(mjd, best_fit)\n",
    "#plt.errorbar(mjd, Freq, yerr=[uncer_minus,uncer])\n",
    "plt.xlabel(\"Time [MJD]\")\n",
    "plt.ylabel(\"Spin Freq [Hz]\")\n",
    "plt.title(\"Spin Freq derivative\")\n",
    "plt.savefig(\"fdot_nustar_obs.png\")"
   ]
  },
  {
   "cell_type": "code",
   "execution_count": 62,
   "id": "quick-pillow",
   "metadata": {},
   "outputs": [
    {
     "data": {
      "text/plain": [
       "-0.17150577884352805"
      ]
     },
     "execution_count": 62,
     "metadata": {},
     "output_type": "execute_result"
    }
   ],
   "source": [
    "m*86400"
   ]
  },
  {
   "cell_type": "code",
   "execution_count": 47,
   "id": "tested-electric",
   "metadata": {},
   "outputs": [],
   "source": [
    "#F0 = 0.73341022\n",
    "#t0 = 58923.41541667\n",
    "#F = F0 + Fdot*(mjd-t0)*86400\n",
    "\n",
    "#print(Fdot)"
   ]
  },
  {
   "cell_type": "code",
   "execution_count": 48,
   "id": "involved-verification",
   "metadata": {},
   "outputs": [],
   "source": [
    "#F(t) = F0 + Fdot*(t-t0), where F0 is the frequency at time t0 and t0 is the time of your first observation. The uncertainty on the slope should be provided by the fitting function you use (usually)."
   ]
  },
  {
   "cell_type": "code",
   "execution_count": 59,
   "id": "junior-active",
   "metadata": {},
   "outputs": [
    {
     "name": "stdout",
     "output_type": "stream",
     "text": [
      "-1.98502058846676e-06\n",
      "My work Fdot -2.2974775329476387e-11\n",
      "NICER paper, Fdot -2.48e-11\n"
     ]
    }
   ],
   "source": [
    "#https://pythonprogramming.net/how-to-program-best-fit-line-machine-learning-tutorial/\n",
    "#Reading the data\n",
    "file= \"fdot_xmm-nustar_obs.dat\"\n",
    "data = np.loadtxt(file)\n",
    "\n",
    "xs = data[:,0]\n",
    "ys = data[:,1]\n",
    "\n",
    "from statistics import mean\n",
    "import numpy as np\n",
    "\n",
    "\n",
    "def best_fit_slope_and_intercept(xs,ys):\n",
    "    m = (((mean(xs)*mean(ys)) - mean(xs*ys)) /\n",
    "         ((mean(xs)*mean(xs)) - mean(xs*xs)))\n",
    "    \n",
    "    b = mean(ys) - m*mean(xs)\n",
    "    \n",
    "    return m, b\n",
    "\n",
    "m, b = best_fit_slope_and_intercept(xs,ys)\n",
    "\n",
    "print(m)\n",
    "mm = m/86400 #fdot\n",
    "print(\"My work Fdot\", mm)\n",
    "print(\"NICER paper, Fdot -2.48e-11\")"
   ]
  },
  {
   "cell_type": "code",
   "execution_count": 53,
   "id": "changing-toyota",
   "metadata": {},
   "outputs": [],
   "source": [
    "regression_line = [(m*x)+b for x in xs]"
   ]
  },
  {
   "cell_type": "code",
   "execution_count": 54,
   "id": "oriental-facing",
   "metadata": {},
   "outputs": [
    {
     "data": {
      "image/png": "[encoded data removed]",
      "text/plain": [
       "<Figure size 432x288 with 1 Axes>"
      ]
     },
     "metadata": {},
     "output_type": "display_data"
    }
   ],
   "source": [
    "import matplotlib.pyplot as plt\n",
    "from matplotlib import style\n",
    "style.use('ggplot')\n",
    "#This will allow us to make graphs, and make them not so ugly. Now at the end:\n",
    "\n",
    "plt.scatter(xs,ys,color='#003F72')\n",
    "plt.plot(xs, regression_line)\n",
    "plt.show()"
   ]
  },
  {
   "cell_type": "code",
   "execution_count": null,
   "id": "consistent-collins",
   "metadata": {},
   "outputs": [],
   "source": []
  },
  {
   "cell_type": "code",
   "execution_count": null,
   "id": "purple-kinase",
   "metadata": {},
   "outputs": [],
   "source": []
  }
 ],
 "metadata": {
  "kernelspec": {
   "display_name": "Python 3 (ipykernel)",
   "language": "python",
   "name": "python3"
  },
  "language_info": {
   "codemirror_mode": {
    "name": "ipython",
    "version": 3
   },
   "file_extension": ".py",
   "mimetype": "text/x-python",
   "name": "python",
   "nbconvert_exporter": "python",
   "pygments_lexer": "ipython3",
   "version": "3.8.16"
  }
 },
 "nbformat": 4,
 "nbformat_minor": 5
}
