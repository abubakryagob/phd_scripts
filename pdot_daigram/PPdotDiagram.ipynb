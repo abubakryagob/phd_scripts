{
 "cells": [
  {
   "cell_type": "markdown",
   "metadata": {
    "id": "qZxFHdjA5_T6"
   },
   "source": [
    "# P-Pdot Diagram\n",
    "\n",
    "This Google Colaboratory page generates figures related with the pulsar P-Pdot diagram. These figures are used for a review article, [Enoto T., Kisaka S., and Shibata S., \"Observational diversity of magnetized neutron stars\", Rep. Prog. Phys. 82 106901, 2019 (Doi: 10.1088/1361-6633/ab3def)](https://dx.doi.org/10.1088/1361-6633/ab3def).\n",
    "\n",
    "Original tables are uploaded in [Google spreadsheet](https://docs.google.com/spreadsheets/d/1sS95OZYOFYg9MxHtft2KVXxQHdPxBPyoFTdFGgSLhis/edit?usp=sharing)\n",
    "\n",
    "## Draw ATNF Pulsar Catalog\n",
    "\n",
    "Let us draw the P-Pdot diagram based on the [ATNF pulsar catalog](http://www.atnf.csiro.au/research/pulsar/psrcat/). The version history of this catalog is listed [here](http://www.atnf.csiro.au/research/pulsar/psrcat/catalogueHistory.html).\n",
    "\n",
    "From this catalog, please download the columns of \"Name\", \"P0\", \"P1\", \"Assoc\", \"Binary\", and \"Type\" through \"Text Output\" (output style = \"Short csv without errors\") into your local disk. Then, upload it into this Google colaboratory using the left \"UPLOAD\" bottun.  \n",
    "\n",
    "In this example page, you can download the required text file from Teru's Dropbox folder in the following lines.\n",
    "\n",
    "-- You can also find [HEASARC version](HEASarc https://heasarc.gsfc.nasa.gov/W3Browse/all/atnfpulsar.html).\n",
    "\n",
    "-- Note. Some CSV format error could be found in the downloaded file, where you see additional \";\" is included. We need to convert it to \":"
   ]
  },
  {
   "cell_type": "markdown",
   "metadata": {},
   "source": [
    "!pip3.9 install google.colab"
   ]
  },
  {
   "cell_type": "code",
   "execution_count": 1,
   "metadata": {
    "colab": {
     "base_uri": "https://localhost:8080/"
    },
    "id": "b2FyaGns0Qeo",
    "outputId": "6d6b3e26-bcb3-40e3-c1da-e02f95716ecf"
   },
   "outputs": [
    {
     "name": "stdout",
     "output_type": "stream",
     "text": [
      "                                                      #        NAME        P0  \\\n",
      "0                                                     1  J0002+6216  0.115364   \n",
      "1                                                     2  J0006+1834  0.693748   \n",
      "2                                                     3  J0007+7303  0.315873   \n",
      "3                                                     4    J0011+08  2.552870   \n",
      "4                                                     5  J0012+5431  3.025301   \n",
      "...                                                 ...         ...       ...   \n",
      "3631  #Acknowledge use of the ATNF Pulsar Catalogue,...         NaN       NaN   \n",
      "3632  #Where practical, reference the original paper...         NaN       NaN   \n",
      "3633                 #Reference listing in basic format         NaN       NaN   \n",
      "3634                   #Reference listing in bbl format         NaN       NaN   \n",
      "3635                                        #Thank you!         NaN       NaN   \n",
      "\n",
      "            P1 BINARY                                     ASSOC           PSR  \n",
      "0     5.97e-15      *  GRS:4FGL_J0002.8+6217[aab+22],XRS:1XSPS_    HE[wcp+18]  \n",
      "1     2.10e-15      *                                         *             *  \n",
      "2     3.60e-13      *  GRS:4FGL_J0007.0+7303[aab+22],XRS:RX_J00  NRAD[aab+22]  \n",
      "3            *      *                                         *             *  \n",
      "4     1.28e-16      *                                         *  RRAT[cwp+17]  \n",
      "...        ...    ...                                       ...           ...  \n",
      "3631       NaN    NaN                                       NaN           NaN  \n",
      "3632       NaN    NaN                                       NaN           NaN  \n",
      "3633       NaN    NaN                                       NaN           NaN  \n",
      "3634       NaN    NaN                                       NaN           NaN  \n",
      "3635       NaN    NaN                                       NaN           NaN  \n",
      "\n",
      "[3636 rows x 7 columns]\n"
     ]
    },
    {
     "ename": "TypeError",
     "evalue": "argument of type 'float' is not iterable",
     "output_type": "error",
     "traceback": [
      "\u001b[0;31m---------------------------------------------------------------------------\u001b[0m",
      "\u001b[0;31mTypeError\u001b[0m                                 Traceback (most recent call last)",
      "Cell \u001b[0;32mIn[1], line 20\u001b[0m\n\u001b[1;32m     18\u001b[0m flag_axp \u001b[38;5;241m=\u001b[39m []; flag_xins \u001b[38;5;241m=\u001b[39m [];\n\u001b[1;32m     19\u001b[0m \u001b[38;5;28;01mfor\u001b[39;00m psr \u001b[38;5;129;01min\u001b[39;00m df[\u001b[38;5;124m\"\u001b[39m\u001b[38;5;124mPSR\u001b[39m\u001b[38;5;124m\"\u001b[39m]:\n\u001b[0;32m---> 20\u001b[0m   \u001b[38;5;28;01mif\u001b[39;00m \u001b[38;5;124;43m'\u001b[39;49m\u001b[38;5;124;43mAXP\u001b[39;49m\u001b[38;5;124;43m'\u001b[39;49m\u001b[43m \u001b[49m\u001b[38;5;129;43;01min\u001b[39;49;00m\u001b[43m \u001b[49m\u001b[43mpsr\u001b[49m:\n\u001b[1;32m     21\u001b[0m     flag_axp\u001b[38;5;241m.\u001b[39mappend(\u001b[38;5;28;01mTrue\u001b[39;00m)\n\u001b[1;32m     22\u001b[0m   \u001b[38;5;28;01melse\u001b[39;00m:\n",
      "\u001b[0;31mTypeError\u001b[0m: argument of type 'float' is not iterable"
     ]
    }
   ],
   "source": [
    "import os\n",
    "import pandas as pd\n",
    "import numpy as np\n",
    "#from google.colab import files\n",
    "\n",
    "#cmd = \"rm -f atnf.csv\"\n",
    "#cmd = \"wget --no-check-certificate -O atnf.csv 'https://www.dropbox.com/s/9t9loqhiluvjiv3/atnfpulsar_v1.60_shortwoerr.csv?dl=0'\"\n",
    "#os.system(cmd)\n",
    "\n",
    "#df = pd.read_csv('atnfpulsar_v1.60_shortwoerr.csv',sep=\";\",header=0,skiprows=[1])\n",
    "df = pd.read_csv('./atnf_all_old.csv',sep=\";\",header=0,skiprows=[1])\n",
    "df = df.drop('Unnamed: %d' % (len(df.columns)-1),axis=1)\n",
    "print(df)\n",
    "for column in [\"P0\",\"P1\"]:\n",
    "  df[column] = df[column].replace('*',np.nan)\n",
    "  df[column] = df[column].astype(\"float\")\n",
    "\n",
    "flag_axp = []; flag_xins = [];\n",
    "for psr in df[\"PSR\"]:\n",
    "  if 'AXP' in psr:\n",
    "    flag_axp.append(True)\n",
    "  else:\n",
    "    flag_axp.append(False)\n",
    "  if 'XINS' in psr:\n",
    "    flag_xins.append(True)\n",
    "  else:\n",
    "    flag_xins.append(False)\n",
    "\n",
    "flag_snr = [];\n",
    "for psr in df[\"ASSOC\"]:\n",
    "  if 'SNR' in psr:\n",
    "    flag_snr.append(True)\n",
    "  else:\n",
    "    flag_snr.append(False)\n",
    "\n",
    "flag_binary = [];\n",
    "for psr in df[\"BINARY\"]:\n",
    "  if not ('*' in psr):\n",
    "    flag_binary.append(True)\n",
    "  else:\n",
    "    flag_binary.append(False)\n",
    "\n",
    "flag_pulsar = np.logical_and(df[\"P0\"] > 0.0, df[\"P1\"] > 0.0)\n",
    "flag_axp = np.logical_and(flag_pulsar,flag_axp)\n",
    "flag_xins = np.logical_and(flag_pulsar,flag_xins)\n",
    "flag_snr = np.logical_and(flag_pulsar,flag_snr)\n",
    "flag_binary = np.logical_and(flag_pulsar,flag_binary)\n",
    "\n",
    "version_label = 'ATNF Pulsar Catalog v2.2 (%d pulsars)' % len(df)\n",
    "print(df[:5])"
   ]
  },
  {
   "cell_type": "code",
   "execution_count": null,
   "metadata": {},
   "outputs": [],
   "source": []
  },
  {
   "cell_type": "code",
   "execution_count": null,
   "metadata": {},
   "outputs": [],
   "source": []
  },
  {
   "cell_type": "code",
   "execution_count": null,
   "metadata": {
    "id": "-60V0zMlkJ3L"
   },
   "outputs": [],
   "source": [
    "import matplotlib.pyplot as plt\n",
    "\n",
    "xmin = 1e-3\n",
    "xmax = 1e+2\n",
    "ymin = 1e-21\n",
    "ymax = 1e-9\n",
    "\n",
    "plt.style.use('https://raw.githubusercontent.com/tenoto/macsettings/master/ppdot.mplstyle')\n",
    "plt.rcParams['xtick.major.pad'] = 10.0\n",
    "\n",
    "def plot_background(flag_landscape=False,flag_text=True):\n",
    "  fig, ax = plt.subplots()\n",
    "\n",
    "  # --- Set Magnetic Field ---\n",
    "  # http://www.atnf.csiro.au/research/pulsar/psrcat/psrcat_nradlp.html?type=normal&highlight=name#name\n",
    "  # Bsurf = 3.2e+19 (P Pdot)^0.5\n",
    "  for Bsurf in [1e+11,1e+12,1e+13,1e+14,1e+15]: # G\n",
    "    x = np.logspace(np.log10(xmin),np.log10(xmax),20)\n",
    "    y = (Bsurf/3.2e+19)**2 / x\n",
    "    plt.plot(x,y,linestyle=\"--\",c=\"#3090C7\")\n",
    "    x_pivot = 12.0\n",
    "    if Bsurf >= 1e+12 and flag_text:\n",
    "      if flag_landscape:\n",
    "        ax.text(x_pivot,0.9*(Bsurf/3.2e+19)**2/x_pivot, r'$10^{%d}$ G' % (np.log10(Bsurf)), horizontalalignment='left',verticalalignment='center',\n",
    "          color=\"#3090C7\", fontsize=20, rotation=-15)\n",
    "      else:\n",
    "        ax.text(x_pivot,0.9*(Bsurf/3.2e+19)**2/x_pivot, r'$10^{%d}$ G' % (np.log10(Bsurf)), horizontalalignment='left',verticalalignment='center',\n",
    "          color=\"#3090C7\", fontsize=25, rotation=-30)\n",
    "\n",
    "  Bsurf = 4.4e+13\n",
    "  x = np.logspace(np.log10(xmin),np.log10(xmax),20)\n",
    "  y = (Bsurf/3.2e+19)**2 / x\n",
    "  plt.plot(x,y,linestyle=\"-\",linewidth=2,c=\"#3090C7\")\n",
    "  x_pivot = 12.0\n",
    "  if flag_text:\n",
    "    if flag_landscape:\n",
    "      ax.text(x_pivot, 1.1*(Bsurf/3.2e+19)**2/x_pivot, r'$B$cr' % (np.log10(Bsurf)), horizontalalignment='left',verticalalignment='center',color=\"#3090C7\",fontsize=20, rotation=-10)\n",
    "    else:\n",
    "      ax.text(x_pivot, 1.1*(Bsurf/3.2e+19)**2/x_pivot, r'$B$cr' % (np.log10(Bsurf)), horizontalalignment='left',verticalalignment='center',color=\"#3090C7\",fontsize=25, rotation=-30)\n",
    "\n",
    "  # --- Set Age ---\n",
    "  # http://www.atnf.csiro.au/research/pulsar/psrcat/psrcat_nradlp.html?type=normal&highlight=name#name\n",
    "  # Age = P / 2Pdot\n",
    "  for age in [0.1e+3, 10e+3, 1e+6, 100e+6]: #yr\n",
    "    x = np.logspace(np.log10(xmin),np.log10(xmax),20)\n",
    "    y = 0.5 * x / (age * 365. * 24. * 60.0**2)\n",
    "    plt.plot(x,y,linestyle=\"--\", c=\"#EE9A4D\")\n",
    "\n",
    "    x_pivot = 0.0020\n",
    "    if (age/1e+3) >= 1000:\n",
    "      text = r'$%d$ Myr' % (age/1e+6)\n",
    "    elif (age/1e+3) < 1.0:\n",
    "      text = r'$%.1f$ kyr' % (age/1e+3)\n",
    "    else:\n",
    "      text = r'$%d$ kyr' % (age/1e+3)\n",
    "    if flag_text:\n",
    "      if flag_landscape:\n",
    "        ax.text(x_pivot, 4.3* 0.5 * x_pivot / (age * 365. * 24. * 60.0**2),\n",
    "          text, color=\"#EE9A4D\", fontsize=20, rotation=13,\n",
    "          horizontalalignment='left',verticalalignment='center')\n",
    "      else:\n",
    "        ax.text(x_pivot, 4.3* 0.5 * x_pivot / (age * 365. * 24. * 60.0**2),\n",
    "          text, color=\"#EE9A4D\", fontsize=25, rotation=28,\n",
    "          horizontalalignment='left',verticalalignment='center')\n",
    "\n",
    "  # --- Set Lsd ---\n",
    "  # Enoto et al., 2017\n",
    "  # Lsd = 3.9e+35 erg/s * (Pdot/1e+11) * (P/1sec)^-3\n",
    "  for Lsd in [1e+31, 1e+33, 1e+35, 1e+37]:\n",
    "    x = np.logspace(np.log10(xmin),np.log10(xmax),20)\n",
    "    y = (Lsd/3.9e+35) * x**3.0 * 1e-11\n",
    "    plt.plot(x,y,linestyle=\"--\", c=\"#8D38C9\")\n",
    "\n",
    "    x_pivot = 1e-2\n",
    "    if flag_text:\n",
    "      if flag_landscape:\n",
    "        ax.text(x_pivot, 40.0*(Lsd/3.9e+35) * x_pivot**3.0 * 1e-11,\n",
    "         r'$10^{%d}$ erg s$^{-1}$' % (np.log10(Lsd)),\n",
    "         horizontalalignment='left',  verticalalignment='center',\n",
    "         color=\"#8D38C9\", fontsize=20, rotation=43)\n",
    "      else:\n",
    "        ax.text(x_pivot, 40.0*(Lsd/3.9e+35) * x_pivot**3.0 * 1e-11,\n",
    "         r'$10^{%d}$ erg s$^{-1}$' % (np.log10(Lsd)),\n",
    "         horizontalalignment='left',  verticalalignment='center',\n",
    "         color=\"#8D38C9\", fontsize=25, rotation=60)\n",
    "\n",
    "  # --- Death Line\n",
    "  # 4 log B - 7.5 log P = 49.3\n",
    "  # Chen 1993; # Zhang 2000\n",
    "  #for period in [0.001, 100.0]:\n",
    "  #\tpdot = 10**( 2 * math.log10( period ) - 16.52 )\n",
    "  #\tgraphDeathLine.SetPoint(i, period, pdot)\n",
    "\n",
    "  ### Chen and Ruderman 1993\n",
    "  ### http://adsabs.harvard.edu/abs/1993ApJ...402..264C\n",
    "  ### 4 log B - 6.5 log P = 45.7 (Eq. 8)\n",
    "  ### 4 log B - 7.5 log P = 49.3 (Eq. 6)\n",
    "\n",
    "  x = np.logspace(np.log10(xmin),np.log10(xmax),20)\n",
    "  y = 10**(2*np.log10(x)-16.52)\n",
    "  plt.plot(x,y,linestyle=\"-\", linewidth=2, c=\"#FFA500\")\n",
    "\n",
    "  #ax.set_title(version_label,fontsize=20)\n",
    "  ax.grid(True,linestyle='--')\n",
    "  ax.set_yscale('log')\n",
    "  ax.set_xscale('log')\n",
    "  ax.set_xlim(xmin,xmax)\n",
    "  ax.set_ylim(ymin,ymax)\n",
    "  ax.set_xlabel('Period (s)',fontsize=26,labelpad=12)\n",
    "  ax.set_ylabel('Period Derivative (s s$^{-1}$)',fontsize=26,labelpad=12)\n",
    "  ax.legend(loc='lower right',scatterpoints=1,fontsize=20)\n",
    "\n",
    "  return fig, ax"
   ]
  },
  {
   "cell_type": "code",
   "execution_count": null,
   "metadata": {},
   "outputs": [],
   "source": []
  },
  {
   "cell_type": "code",
   "execution_count": null,
   "metadata": {
    "colab": {
     "base_uri": "https://localhost:8080/",
     "height": 1000
    },
    "id": "wCfNLAodSaD7",
    "outputId": "ba9e3d8f-3ae6-446a-ab1e-a4ab23872f12"
   },
   "outputs": [],
   "source": [
    "fig, ax = plot_background()\n",
    "\n",
    "ax.scatter(df[\"P0\"][flag_snr],df[\"P1\"][flag_snr],\n",
    "           label='SNR (%d)' % sum(flag_snr),\n",
    "           marker='o',edgecolors='#4AA02C',c=\"white\",linewidth=2,s=320)\n",
    "ax.scatter(df[\"P0\"][flag_binary],df[\"P1\"][flag_binary],\n",
    "           label='Binary (%d)' % sum(flag_binary),\n",
    "           marker='s',edgecolors='#488AC7',c=\"white\",linewidth=2,s=150)\n",
    "ax.scatter(df[\"P0\"][flag_pulsar],df[\"P1\"][flag_pulsar],\n",
    "           label='Pulsar (%d)' % sum(flag_pulsar),\n",
    "           marker='.',edgecolors='k',c=\"#808080\",linewidth=0.5,s=100)\n",
    "ax.scatter(df[\"P0\"][flag_axp],df[\"P1\"][flag_axp],\n",
    "           label='Magnetar ATNF (%d)' % sum(flag_axp),\n",
    "           marker=\"o\", edgecolors='k', c=\"#FF0000\", linewidth=2,s=200)\n",
    "ax.scatter(df[\"P0\"][flag_xins],df[\"P1\"][flag_xins],\n",
    "           label='XINS (%d)' % sum(flag_xins),\n",
    "           marker=\"p\", edgecolors='k', c=\"#E8A317\", linewidth=2,s=260)\n",
    "ax.set_title(version_label,fontsize=20)\n",
    "ax.legend(loc='lower right',scatterpoints=1,fontsize=20)\n",
    "plt.savefig('ppdot.pdf')"
   ]
  },
  {
   "cell_type": "markdown",
   "metadata": {
    "id": "eQ6-szBbE2j5"
   },
   "source": [
    "## Switch magnetars to the McGill Catalog\n",
    "\n",
    "The magnetar class in the ATNF catalog is sometimes obsolete. Then, as a next step, let us switch the magnetar class to [the McGill Catalog](http://www.physics.mcgill.ca/~pulsar/magnetar/main.html). The CSV file can be downloaded from [here](http://www.physics.mcgill.ca/~pulsar/magnetar/TabO1.csv).\n",
    "\n",
    "In order to further modify the magnetar database to the latest results, here we prepared the [Google spreadsheet](https://docs.google.com/spreadsheets/d/1sS95OZYOFYg9MxHtft2KVXxQHdPxBPyoFTdFGgSLhis/edit#gid=0)."
   ]
  },
  {
   "cell_type": "code",
   "execution_count": null,
   "metadata": {
    "id": "YyP4IS606F04"
   },
   "outputs": [],
   "source": [
    "import os\n",
    "def wget_gsheet(sheet_key,sheet_gid,outfile):\n",
    "  cmd = 'wget \"https://docs.google.com/spreadsheets/d/%s/export?format=csv&gid=%s\" -O %s' % (sheet_key,sheet_gid,outfile)\n",
    "  print(cmd);os.system(cmd)"
   ]
  },
  {
   "cell_type": "code",
   "execution_count": null,
   "metadata": {
    "colab": {
     "base_uri": "https://localhost:8080/"
    },
    "id": "PwjK9g_NuUX4",
    "outputId": "0723e85e-6e0c-42c8-97db-e3712aa5a93e"
   },
   "outputs": [],
   "source": [
    "wget_gsheet(\"1sS95OZYOFYg9MxHtft2KVXxQHdPxBPyoFTdFGgSLhis\",\"0\",\"magnetar.csv\")\n",
    "df_mcgill = pd.read_csv('magnetar.csv',header=1)\n",
    "\n",
    "for column in [\"P (sec)\",\"Pdot (s/s)\"]:\n",
    "  df_mcgill[column] = df_mcgill[column].replace('',np.nan)\n",
    "  df_mcgill[column] = df_mcgill[column].astype(\"float\")\n",
    "\n",
    "flag_snr_mcgill = [];\n",
    "for assoc in df_mcgill[\"Assoc\"]:\n",
    "  if type(assoc) == float:\n",
    "    flag_snr_mcgill.append(False)\n",
    "    continue\n",
    "  if 'SNR' in assoc:\n",
    "    flag_snr_mcgill.append(True)\n",
    "  else:\n",
    "    flag_snr_mcgill.append(False)\n",
    "\n",
    "flag_axp_mcgill =  np.logical_and(df_mcgill[\"P (sec)\"] > 0.0, df_mcgill[\"Pdot (s/s)\"] > 0.0)\n",
    "df_mcgill[flag_snr_mcgill]\n",
    "flag_axp_mcgill_snr =  np.logical_and(flag_axp_mcgill, flag_snr_mcgill)\n",
    "\n",
    "flag_pulsar_woaxp = np.logical_and(flag_pulsar, ~flag_axp)\n",
    "flag_snr_woaxp = np.logical_and(flag_snr,~flag_axp)\n",
    "\n",
    "version_label = 'ATNF Pulsar Catalog v1.60 (%d pulsars) + McGill Magnetar' % len(df)"
   ]
  },
  {
   "cell_type": "code",
   "execution_count": null,
   "metadata": {
    "colab": {
     "base_uri": "https://localhost:8080/",
     "height": 1000
    },
    "id": "luNgiKTOGlqE",
    "outputId": "819585b6-8f91-4a1d-cbf4-3f6a4bc1f2ec"
   },
   "outputs": [],
   "source": [
    "fig, ax = plot_background()\n",
    "\n",
    "ax.scatter(df[\"P0\"][flag_snr_woaxp],df[\"P1\"][flag_snr_woaxp],\n",
    "           label='SNR (%d)' % (sum(flag_snr_woaxp)+sum(flag_axp_mcgill_snr)),\n",
    "           marker='o',edgecolors='#4AA02C',c=\"white\",linewidth=2,s=320)\n",
    "ax.scatter(df_mcgill[\"P (sec)\"][flag_axp_mcgill_snr],df_mcgill[\"Pdot (s/s)\"][flag_axp_mcgill_snr],\n",
    "           label='',\n",
    "           # label='SNR Magnetar (%d)' % sum(flag_axp_mcgill_snr),\n",
    "           marker='o',edgecolors='#4AA02C',c=\"white\",linewidth=2,s=320)\n",
    "ax.scatter(df[\"P0\"][flag_binary],df[\"P1\"][flag_binary],\n",
    "           label='Binary (%d)' % sum(flag_binary),\n",
    "           marker='s',edgecolors='#488AC7',c=\"white\",linewidth=2,s=150)\n",
    "ax.scatter(df[\"P0\"][flag_pulsar_woaxp],df[\"P1\"][flag_pulsar_woaxp],\n",
    "           label='Pulsar (%d)' % sum(flag_pulsar_woaxp),\n",
    "           marker='.',edgecolors='k',c=\"#808080\",linewidth=0.5,s=100)\n",
    "ax.scatter(df_mcgill[\"P (sec)\"][flag_axp_mcgill],df_mcgill[\"Pdot (s/s)\"][flag_axp_mcgill],\n",
    "           label='Magnetar (%d)' % sum(flag_axp_mcgill),\n",
    "           marker=\"o\", edgecolors='k', c=\"#FF0000\", linewidth=2,s=200)\n",
    "ax.scatter(df[\"P0\"][flag_xins],df[\"P1\"][flag_xins],\n",
    "           label='XINS (%d)' % sum(flag_xins),\n",
    "           marker=\"p\", edgecolors='k', c=\"#E8A317\", linewidth=2,s=260)\n",
    "ax.set_title(version_label,fontsize=20)\n",
    "ax.legend(loc='lower right',scatterpoints=1,fontsize=20)\n",
    "plt.savefig('ppdot.pdf')"
   ]
  },
  {
   "cell_type": "markdown",
   "metadata": {
    "id": "gmDm1KaKLgx1"
   },
   "source": [
    "## Adding CCO and modifying XINS List\n",
    "The above P-Pdot diagram does not include the CCO class, and the XINS class is not accurate. Let us modify these two classes using Teru's local Google spreadsheet."
   ]
  },
  {
   "cell_type": "code",
   "execution_count": null,
   "metadata": {
    "colab": {
     "base_uri": "https://localhost:8080/"
    },
    "id": "KhsFsbV0xFFz",
    "outputId": "c5b3774f-1f78-4eb1-9c96-c79dea61f812"
   },
   "outputs": [],
   "source": [
    "wget_gsheet(\"1sS95OZYOFYg9MxHtft2KVXxQHdPxBPyoFTdFGgSLhis\",\"1124730326\",\"cco.csv\")\n",
    "df_cco = pd.read_csv(\"cco.csv\",header=1)\n",
    "\n",
    "for column in [\"P (sec)\",\"Pdot (s/s)\"]:\n",
    "  df_cco[column] = df_cco[column].replace('',np.nan)\n",
    "  df_cco[column] = df_cco[column].astype(\"float\")\n",
    "\n",
    "flag_cco =  np.logical_and(df_cco[\"P (sec)\"] > 0.0, df_cco[\"Pdot (s/s)\"] > 0.0)\n",
    "\n",
    "\n",
    "wget_gsheet(\"1sS95OZYOFYg9MxHtft2KVXxQHdPxBPyoFTdFGgSLhis\",\"306748955\",\"xins.csv\")\n",
    "df_xins = pd.read_csv(\"xins.csv\",header=1)\n",
    "\n",
    "for column in [\"P (sec)\",\"Pdot (s/s)\"]:\n",
    "  df_xins[column] = df_xins[column].replace('',np.nan)\n",
    "  df_xins[column] = df_xins[column].astype(\"float\")\n",
    "\n",
    "flag_xins =  np.logical_and(df_xins[\"P (sec)\"] > 0.0, df_xins[\"Pdot (s/s)\"] > 0.0)"
   ]
  },
  {
   "cell_type": "code",
   "execution_count": null,
   "metadata": {
    "colab": {
     "base_uri": "https://localhost:8080/",
     "height": 1000
    },
    "id": "OLx3sObTx-2n",
    "outputId": "2f24f49d-fb80-4d42-8210-3ff4113a588e"
   },
   "outputs": [],
   "source": [
    "fig, ax = plot_background()\n",
    "\n",
    "\n",
    "ax.scatter(df[\"P0\"][flag_snr_woaxp],df[\"P1\"][flag_snr_woaxp],\n",
    "           label='SNR (%d)' % (sum(flag_snr_woaxp)+sum(flag_axp_mcgill_snr)),\n",
    "           marker='o',edgecolors='#4AA02C',c=\"white\",linewidth=2,s=320)\n",
    "ax.scatter(df_mcgill[\"P (sec)\"][flag_axp_mcgill_snr],df_mcgill[\"Pdot (s/s)\"][flag_axp_mcgill_snr],\n",
    "           label='',\n",
    "           # label='SNR Magnetar (%d)' % sum(flag_axp_mcgill_snr),\n",
    "           marker='o',edgecolors='#4AA02C',c=\"white\",linewidth=2,s=320)\n",
    "ax.scatter(df[\"P0\"][flag_binary],df[\"P1\"][flag_binary],\n",
    "           label='Binary (%d)' % sum(flag_binary),\n",
    "           marker='s',edgecolors='#488AC7',c=\"white\",linewidth=2,s=150)\n",
    "ax.scatter(df[\"P0\"][flag_pulsar_woaxp],df[\"P1\"][flag_pulsar_woaxp],\n",
    "           label='Pulsar (%d)' % sum(flag_pulsar_woaxp),\n",
    "           marker='.',edgecolors='k',c=\"#808080\",linewidth=0.5,s=100)\n",
    "ax.scatter(df_mcgill[\"P (sec)\"][flag_axp_mcgill],df_mcgill[\"Pdot (s/s)\"][flag_axp_mcgill],\n",
    "           label='Magnetar (%d)' % sum(flag_axp_mcgill),\n",
    "           marker=\"o\", edgecolors='k', c=\"#FF0000\", linewidth=2,s=200)\n",
    "ax.scatter(df_xins[\"P (sec)\"][flag_xins],df_xins[\"Pdot (s/s)\"][flag_xins],\n",
    "           label='XINS (%d)' % sum(flag_xins),\n",
    "           marker=\"p\", edgecolors='k', c=\"#E8A317\", linewidth=2,s=260)\n",
    "ax.scatter(df_cco[\"P (sec)\"][flag_cco],df_cco[\"Pdot (s/s)\"][flag_cco],\n",
    "           label='CCO (%d)' % sum(flag_cco),\n",
    "           marker=\"s\", edgecolors='k', c=\"#0000FF\", linewidth=2,s=230)\n",
    "ax.set_title(version_label,fontsize=20)\n",
    "ax.legend(loc='lower right',scatterpoints=1,fontsize=20)\n",
    "plt.savefig('ppdot.pdf')"
   ]
  },
  {
   "cell_type": "markdown",
   "metadata": {
    "id": "CcUcfGoV0FiW"
   },
   "source": [
    "## High-B pulsars emitting X-rays\n",
    "\n",
    "Here we add High-B pulsars which emit X-ray radiation."
   ]
  },
  {
   "cell_type": "code",
   "execution_count": null,
   "metadata": {
    "colab": {
     "base_uri": "https://localhost:8080/"
    },
    "id": "GSUNUoj5y15H",
    "outputId": "777d3cf9-c14d-4d21-a748-9c4ee6d28fe1"
   },
   "outputs": [],
   "source": [
    "wget_gsheet(\"1sS95OZYOFYg9MxHtft2KVXxQHdPxBPyoFTdFGgSLhis\",\"1610841382\",\"hbp.csv\")\n",
    "df_hbp = pd.read_csv(\"hbp.csv\",header=1)\n",
    "\n",
    "for column in [\"P (sec)\",\"Pdot (s/s)\"]:\n",
    "  df_hbp[column] = df_hbp[column].replace('',np.nan)\n",
    "  df_hbp[column] = df_hbp[column].astype(\"float\")\n",
    "\n",
    "flag_hbp =  np.logical_and(df_hbp[\"P (sec)\"] > 0.0, df_hbp[\"Pdot (s/s)\"] > 0.0)"
   ]
  },
  {
   "cell_type": "code",
   "execution_count": null,
   "metadata": {
    "id": "Zlt6ZbJty_sC"
   },
   "outputs": [],
   "source": [
    "def plot_pulsars(fig,ax,flag_color=True):\n",
    "  if flag_color:\n",
    "    ax.scatter(df[\"P0\"][flag_snr_woaxp],df[\"P1\"][flag_snr_woaxp],\n",
    "               label='SNR',\n",
    "               marker='o',edgecolors='#4AA02C',c=\"white\",linewidth=2,s=320)\n",
    "  else:\n",
    "    ax.scatter(df[\"P0\"][flag_snr_woaxp],df[\"P1\"][flag_snr_woaxp],\n",
    "               label='',\n",
    "               marker='o',edgecolors='#808080',c=\"white\",linewidth=2,s=320)\n",
    "\n",
    "  if flag_color:\n",
    "    ax.scatter(df_mcgill[\"P (sec)\"][flag_axp_mcgill_snr],df_mcgill[\"Pdot (s/s)\"][flag_axp_mcgill_snr],\n",
    "               label='',\n",
    "               marker='o',edgecolors='#4AA02C',c=\"white\",linewidth=2,s=320)\n",
    "  else:\n",
    "    ax.scatter(df_mcgill[\"P (sec)\"][flag_axp_mcgill_snr],df_mcgill[\"Pdot (s/s)\"][flag_axp_mcgill_snr],\n",
    "               label='',\n",
    "               marker='o',edgecolors='#808080',c=\"white\",linewidth=2,s=320)\n",
    "\n",
    "  if flag_color:\n",
    "    ax.scatter(df[\"P0\"][flag_binary],df[\"P1\"][flag_binary],\n",
    "               label='Binary',\n",
    "               marker='s',edgecolors='#488AC7',c=\"white\",linewidth=2,s=150)\n",
    "  else:\n",
    "    ax.scatter(df[\"P0\"][flag_binary],df[\"P1\"][flag_binary],\n",
    "               label='',\n",
    "               marker='s',edgecolors='#808080',c=\"white\",linewidth=2,s=150)\n",
    "\n",
    "  if flag_color:\n",
    "    ax.scatter(df[\"P0\"][flag_pulsar_woaxp],df[\"P1\"][flag_pulsar_woaxp],\n",
    "               label='Pulsar',\n",
    "               marker='.',edgecolors='k',c=\"#808080\",linewidth=0.5,s=100)\n",
    "  else:\n",
    "    ax.scatter(df[\"P0\"][flag_pulsar_woaxp],df[\"P1\"][flag_pulsar_woaxp],\n",
    "               label='',\n",
    "               marker='.',edgecolors='k',c=\"#808080\",linewidth=0.5,s=100)\n",
    "\n",
    "  if flag_color:\n",
    "    ax.scatter(df_mcgill[\"P (sec)\"][flag_axp_mcgill],df_mcgill[\"Pdot (s/s)\"][flag_axp_mcgill],\n",
    "               label='Magnetar',\n",
    "               marker=\"o\", edgecolors='k', c=\"#FF0000\", linewidth=2,s=200)\n",
    "  else:\n",
    "    ax.scatter(df_mcgill[\"P (sec)\"][flag_axp_mcgill],df_mcgill[\"Pdot (s/s)\"][flag_axp_mcgill],\n",
    "             label='',\n",
    "             marker=\"o\", edgecolors='k', c=\"white\", linewidth=2,s=200)\n",
    "\n",
    "  if flag_color:\n",
    "    ax.scatter(df_xins[\"P (sec)\"][flag_xins],df_xins[\"Pdot (s/s)\"][flag_xins],\n",
    "               label='XINS',\n",
    "               marker=\"p\", edgecolors='k', c=\"#E8A317\", linewidth=2,s=260)\n",
    "  else:\n",
    "    ax.scatter(df_xins[\"P (sec)\"][flag_xins],df_xins[\"Pdot (s/s)\"][flag_xins],\n",
    "             label='',\n",
    "             marker=\"p\", edgecolors='k', c=\"white\", linewidth=2,s=260)\n",
    "\n",
    "  if flag_color:\n",
    "    ax.scatter(df_cco[\"P (sec)\"][flag_cco],df_cco[\"Pdot (s/s)\"][flag_cco],\n",
    "               label='CCO',\n",
    "               marker=\"s\", edgecolors='k', c=\"#0000FF\", linewidth=2,s=230)\n",
    "  else:\n",
    "    ax.scatter(df_cco[\"P (sec)\"][flag_cco],df_cco[\"Pdot (s/s)\"][flag_cco],\n",
    "               label='',\n",
    "               marker=\"s\", edgecolors='k', c=\"white\", linewidth=2,s=230)\n",
    "\n",
    "  if flag_color:\n",
    "    ax.scatter(df_hbp[\"P (sec)\"][flag_hbp],df_hbp[\"Pdot (s/s)\"][flag_hbp],\n",
    "               label='HBP (X-ray)',\n",
    "               marker=\"D\", edgecolors='k', c=\"#8D38C9\", linewidth=2,s=180)\n",
    "  else:\n",
    "    ax.scatter(df_hbp[\"P (sec)\"][flag_hbp],df_hbp[\"Pdot (s/s)\"][flag_hbp],\n",
    "               label='',\n",
    "               marker=\"D\", edgecolors='k', c=\"white\", linewidth=2,s=180)\n",
    "  #ax.set_title(version_label,fontsize=20)\n",
    "  if flag_color:\n",
    "    ax.legend(loc='lower right',scatterpoints=1,fontsize=20)"
   ]
  },
  {
   "cell_type": "code",
   "execution_count": null,
   "metadata": {
    "colab": {
     "base_uri": "https://localhost:8080/",
     "height": 1000
    },
    "id": "f_ccxWz2z6Co",
    "outputId": "13e0338e-66d6-42a1-a5a9-2e46bb829059"
   },
   "outputs": [],
   "source": [
    "fig, ax = plot_background()\n",
    "plot_pulsars(fig=fig,ax=ax)\n",
    "plt.savefig('ppdot_all.pdf',bbox_inches='tight',transparent=True)"
   ]
  },
  {
   "cell_type": "code",
   "execution_count": null,
   "metadata": {
    "colab": {
     "base_uri": "https://localhost:8080/",
     "height": 17
    },
    "id": "Syj5APbFzpIz",
    "outputId": "d8c9142c-3eed-43f3-deda-a03014395e55"
   },
   "outputs": [],
   "source": [
    "files.download('ppdot_all.pdf')"
   ]
  },
  {
   "cell_type": "markdown",
   "metadata": {
    "id": "SVIFQej74lSo"
   },
   "source": [
    "## Landscale plot\n"
   ]
  },
  {
   "cell_type": "code",
   "execution_count": null,
   "metadata": {
    "colab": {
     "base_uri": "https://localhost:8080/",
     "height": 1000
    },
    "id": "PkPB3UxIvnN2",
    "outputId": "f6411eb3-b258-44d5-ebd7-e77f0376053b"
   },
   "outputs": [],
   "source": [
    "plt.style.use('https://raw.githubusercontent.com/tenoto/macsettings/master/ppdot_landscape.mplstyle')\n",
    "\n",
    "fig, ax = plot_background(flag_landscape=True)\n",
    "plot_pulsars(fig=fig,ax=ax)\n",
    "plt.savefig('ppdot_landscale.pdf',bbox_inches='tight')\n",
    "\n",
    "plt.style.use('https://raw.githubusercontent.com/tenoto/macsettings/master/ppdot.mplstyle')"
   ]
  },
  {
   "cell_type": "code",
   "execution_count": null,
   "metadata": {
    "colab": {
     "base_uri": "https://localhost:8080/",
     "height": 17
    },
    "id": "zSEz3W56zxsb",
    "outputId": "7c75d0ff-8620-4d16-e4cc-d34ca176f74d"
   },
   "outputs": [],
   "source": [
    "files.download('ppdot_landscale.pdf')"
   ]
  },
  {
   "cell_type": "markdown",
   "metadata": {
    "id": "M782sxxS4nq5"
   },
   "source": [
    "## Gray scale figure and then adding glitch information"
   ]
  },
  {
   "cell_type": "code",
   "execution_count": null,
   "metadata": {
    "colab": {
     "base_uri": "https://localhost:8080/",
     "height": 1000
    },
    "id": "BJrRattg1iB3",
    "outputId": "d86e5eb0-3296-4ab6-bd9d-6100551ce73b"
   },
   "outputs": [],
   "source": [
    "fig, ax = plot_background()\n",
    "plot_pulsars(fig=fig,ax=ax,flag_color=False)\n",
    "plt.savefig('ppdot_gray.pdf',bbox_inches='tight')"
   ]
  },
  {
   "cell_type": "code",
   "execution_count": null,
   "metadata": {
    "colab": {
     "base_uri": "https://localhost:8080/",
     "height": 17
    },
    "id": "sHZqO_yz5jzx",
    "outputId": "a690be03-26aa-4886-e185-e950e66395cb"
   },
   "outputs": [],
   "source": [
    "files.download('ppdot_gray.pdf')"
   ]
  },
  {
   "cell_type": "markdown",
   "metadata": {
    "id": "PiUMx68v1Elx"
   },
   "source": [
    "Download the glitch data. P and Pdot values of the glitch data are modified for following magnetars (1E_1841-045, 1E_1048.1-5937, 1RXS_J1708-4009,\n",
    "4U_0142+61, and 1E_2259+586)."
   ]
  },
  {
   "cell_type": "code",
   "execution_count": null,
   "metadata": {
    "colab": {
     "base_uri": "https://localhost:8080/",
     "height": 1000
    },
    "id": "CdcD7K9R5Vh8",
    "outputId": "ac0e9a1d-02be-48f1-c92f-e75acadb8576"
   },
   "outputs": [],
   "source": [
    "wget_gsheet(\"1sS95OZYOFYg9MxHtft2KVXxQHdPxBPyoFTdFGgSLhis\",\"585426704\",\"glitch.csv\")\n",
    "dataset_glitch = pd.read_csv(\"glitch.csv\", header=1)\n",
    "\n",
    "glitch_P = []; glitch_Pdot = []; glitch_deltaF = []\n",
    "size_norm = 70.0\n",
    "size_offset = 6.0\n",
    "for key, row in dataset_glitch.iterrows():\n",
    "  if float(row['P (sec)'])>0.0 and float(row['Pdot (s/s)'])>0.0:\n",
    "    glitch_P.append(float(row['P (sec)']))\n",
    "    glitch_Pdot.append(float(row['Pdot (s/s)']))\n",
    "    glitch_deltaF.append(size_norm*(size_offset+np.log10(float(row['Delta_F (1e-6)']))))\n",
    "\n",
    "fig, ax = plot_background()\n",
    "plot_pulsars(fig=fig,ax=ax,flag_color=False)\n",
    "ax.scatter(np.array(glitch_P),np.array(glitch_Pdot),s=np.array(glitch_deltaF),\n",
    "           label='Glitch',\n",
    "           c=\"#FF0000\",edgecolor='k')\n",
    "ax.legend(loc='lower right',scatterpoints=1,fontsize=20)\n",
    "\n",
    "plt.savefig('ppdot_glitch.pdf',bbox_inches='tight')"
   ]
  },
  {
   "cell_type": "code",
   "execution_count": null,
   "metadata": {
    "colab": {
     "base_uri": "https://localhost:8080/",
     "height": 17
    },
    "id": "gBnfDWnx29zj",
    "outputId": "1483a26d-6075-4051-c317-20dbc8a76084"
   },
   "outputs": [],
   "source": [
    "files.download('ppdot_glitch.pdf')"
   ]
  },
  {
   "cell_type": "markdown",
   "metadata": {
    "id": "-ROETs8j6HfQ"
   },
   "source": [
    "## RRAT, Mode change, Nuller, and Intermittent\n"
   ]
  },
  {
   "cell_type": "code",
   "execution_count": null,
   "metadata": {
    "colab": {
     "base_uri": "https://localhost:8080/",
     "height": 1000
    },
    "id": "EfmcqP1E7Yyd",
    "outputId": "668007a7-9275-410e-bb80-ca16c3965c14"
   },
   "outputs": [],
   "source": [
    "wget_gsheet(\"1sS95OZYOFYg9MxHtft2KVXxQHdPxBPyoFTdFGgSLhis\",\"1732409989\",\"rrat.csv\")\n",
    "dataset_rrat = pd.read_csv(\"rrat.csv\", header=1)\n",
    "rrat_p    = []; rrat_pdot    = []\n",
    "for key, row in dataset_rrat.iterrows():\n",
    "  if float(row['P (sec)'])>0.0 and float(row['Pdot (s/s)'])>0.0:\n",
    "    rrat_p.append(float(row['P (sec)']))\n",
    "    rrat_pdot.append(float(row['Pdot (s/s)']))\n",
    "\n",
    "fig, ax = plot_background()\n",
    "plot_pulsars(fig=fig,ax=ax,flag_color=False)\n",
    "ax.scatter(np.array(rrat_p),np.array(rrat_pdot),\n",
    "           label=\"RRAT\",\n",
    "           marker=\"d\", edgecolors='k', c=\"red\",linewidth=2, s=300)\n",
    "ax.legend(loc='lower right',scatterpoints=1,fontsize=20)\n",
    "plt.savefig('ppdot_rrat.pdf',bbox_inches='tight')\n",
    "files.download('ppdot_rrat.pdf')"
   ]
  },
  {
   "cell_type": "code",
   "execution_count": null,
   "metadata": {
    "colab": {
     "base_uri": "https://localhost:8080/",
     "height": 1000
    },
    "id": "yO1ruSLG1ohY",
    "outputId": "33de2494-c532-4096-8d44-2a83a9587fcf"
   },
   "outputs": [],
   "source": [
    "wget_gsheet(\"1sS95OZYOFYg9MxHtft2KVXxQHdPxBPyoFTdFGgSLhis\",\"1461529538\",\"modechange.csv\")\n",
    "dataset_modechange = pd.read_csv(\"modechange.csv\", header=1)\n",
    "modechange_p    = []; modechange_pdot    = []\n",
    "for key, row in dataset_modechange.iterrows():\n",
    "  if float(row['P (sec)'])>0.0 and float(row['Pdot (s/s)'])>0.0:\n",
    "    modechange_p.append(float(row['P (sec)']))\n",
    "    modechange_pdot.append(float(row['Pdot (s/s)']))\n",
    "\n",
    "fig, ax = plot_background()\n",
    "plot_pulsars(fig=fig,ax=ax,flag_color=False)\n",
    "ax.scatter(np.array(modechange_p),np.array(modechange_pdot),\n",
    "           label=\"Mode change + Nuller\",\n",
    "           marker=\"d\", edgecolors='k', c=\"red\",linewidth=2, s=300)\n",
    "ax.legend(loc='lower right',scatterpoints=1,fontsize=20)\n",
    "plt.savefig('ppdot_modechange_nuller.pdf',bbox_inches='tight')\n",
    "files.download('ppdot_modechange_nuller.pdf')\n"
   ]
  },
  {
   "cell_type": "code",
   "execution_count": null,
   "metadata": {
    "colab": {
     "base_uri": "https://localhost:8080/",
     "height": 1000
    },
    "id": "IBgkTRYH2G-Y",
    "outputId": "ff52133e-d56a-4cfc-d678-262eb5174d22"
   },
   "outputs": [],
   "source": [
    "wget_gsheet(\"1sS95OZYOFYg9MxHtft2KVXxQHdPxBPyoFTdFGgSLhis\",\"1500065469\",\"intermittent.csv\")\n",
    "dataset_intermittent = pd.read_csv(\"intermittent.csv\", header=1)\n",
    "intermittent_p    = []; intermittent_pdot    = []\n",
    "for key, row in dataset_intermittent.iterrows():\n",
    "  if float(row['P (sec)'])>0.0 and float(row['Pdot (s/s)'])>0.0:\n",
    "    intermittent_p.append(float(row['P (sec)']))\n",
    "    intermittent_pdot.append(float(row['Pdot (s/s)']))\n",
    "\n",
    "fig, ax = plot_background()\n",
    "plot_pulsars(fig=fig,ax=ax,flag_color=False)\n",
    "ax.scatter(np.array(intermittent_p),np.array(intermittent_pdot),\n",
    "           label=\"Intermittent\",\n",
    "           marker=\"d\", edgecolors='k', c=\"red\",linewidth=2, s=300)\n",
    "ax.legend(loc='lower right',scatterpoints=1,fontsize=20)\n",
    "plt.savefig('ppdot_intermittent.pdf',bbox_inches='tight')\n",
    "files.download('ppdot_intermittent.pdf')"
   ]
  },
  {
   "cell_type": "markdown",
   "metadata": {
    "id": "7XNdDOUsg-mt"
   },
   "source": [
    "## Giant Radio Pulses"
   ]
  },
  {
   "cell_type": "code",
   "execution_count": null,
   "metadata": {
    "colab": {
     "base_uri": "https://localhost:8080/",
     "height": 1000
    },
    "id": "K6w692cLAFzf",
    "outputId": "3e35d5f6-b25d-4751-c7c7-3984099eb957"
   },
   "outputs": [],
   "source": [
    "wget_gsheet(\"1sS95OZYOFYg9MxHtft2KVXxQHdPxBPyoFTdFGgSLhis\",\"366806027\",\"grp.csv\")\n",
    "dataset_grp = pd.read_csv(\"grp.csv\", header=1)\n",
    "\n",
    "grp_p = []; grp_pdot = [];\n",
    "for key, row in dataset_grp.iterrows():\n",
    "\tperiod = float(row['P (sec)'])\n",
    "\tpdot   = float(row['Pdot (s/s)'])\n",
    "\tif period > 0 and pdot > 0:\n",
    "\t\tgrp_p.append(period)\n",
    "\t\tgrp_pdot.append(pdot)\n",
    "\n",
    "fig, ax = plot_background()\n",
    "plot_pulsars(fig=fig,ax=ax,flag_color=False)\n",
    "ax.scatter(np.array(grp_p),np.array(grp_pdot),\n",
    "           label=\"Giant Radio Pulse\",\n",
    "           marker=\"d\", edgecolors='k', c=\"red\",linewidth=2, s=300)\n",
    "ax.legend(loc='lower right',scatterpoints=1,fontsize=20)\n",
    "plt.savefig('ppdot_grp.pdf',bbox_inches='tight')\n",
    "files.download('ppdot_grp.pdf')"
   ]
  },
  {
   "cell_type": "markdown",
   "metadata": {
    "id": "dA2E4ibsidZL"
   },
   "source": [
    "## Zoom-up view"
   ]
  },
  {
   "cell_type": "code",
   "execution_count": null,
   "metadata": {
    "colab": {
     "base_uri": "https://localhost:8080/",
     "height": 1000
    },
    "id": "Ch1aqwYXifZe",
    "outputId": "ed13e6d0-c738-49e6-91ef-e1240048439c"
   },
   "outputs": [],
   "source": [
    "xmin_zoom = 0.1\n",
    "xmax_zoom = 30\n",
    "ymin_zoom = 1e-15\n",
    "ymax_zoom = 1e-9\n",
    "\n",
    "fig, ax = plot_background(flag_text=False)\n",
    "ax.set_xlim(xmin_zoom,xmax_zoom)\n",
    "ax.set_ylim(ymin_zoom,ymax_zoom)\n",
    "plot_pulsars(fig=fig,ax=ax)\n",
    "ax.scatter(np.array(rrat_p),np.array(rrat_pdot),c=\"#ADD8E6\",edgecolor='k',\n",
    "           marker=\"^\", linewidth='2',s=200, label='RRAT')\n",
    "ax.legend(loc='upper left',scatterpoints=1,fontsize=15)\n",
    "plt.savefig('ppdot_zoom.pdf',bbox_inches='tight')\n",
    "files.download('ppdot_zoom.pdf')"
   ]
  },
  {
   "cell_type": "markdown",
   "metadata": {
    "id": "eAQ5Un0btiIb"
   },
   "source": [
    "## Transient behaviours\n"
   ]
  },
  {
   "cell_type": "code",
   "execution_count": null,
   "metadata": {
    "id": "EKtD4-c-tkQ5"
   },
   "outputs": [],
   "source": [
    "wget_gsheet(\"1sS95OZYOFYg9MxHtft2KVXxQHdPxBPyoFTdFGgSLhis\",\"1733027220\",\"radiomagnetar.csv\")\n",
    "dataset_radiomagnetar = pd.read_csv(\"radiomagnetar.csv\", header=1)\n",
    "radiomagnetar_p  = []; radiomagnetar_pdot  = []\n",
    "for key, row in dataset_radiomagnetar.iterrows():\n",
    "  if '<' in str(row['Pdot (s/s)']):\n",
    "    continue\n",
    "  if float(row['P (sec)'])>0.0 and float(row['Pdot (s/s)'])>0.0:\n",
    "    radiomagnetar_p.append(float(row['P (sec)']))\n",
    "    radiomagnetar_pdot.append(float(row['Pdot (s/s)']))\n",
    "\n",
    "wget_gsheet(\"1sS95OZYOFYg9MxHtft2KVXxQHdPxBPyoFTdFGgSLhis\",\"185595326\",\"transient.csv\")\n",
    "dataset_transient = pd.read_csv(\"transient.csv\", header=1)\n",
    "transient_p  = []; transient_pdot  = []\n",
    "for key, row in dataset_transient.iterrows():\n",
    "  if '<' in str(row['Pdot (s/s)']):\n",
    "    continue\n",
    "  if float(row['P (sec)'])>0.0 and float(row['Pdot (s/s)'])>0.0:\n",
    "    transient_p.append(float(row['P (sec)']))\n",
    "    transient_pdot.append(float(row['Pdot (s/s)']))\n",
    "\n",
    "wget_gsheet(\"1sS95OZYOFYg9MxHtft2KVXxQHdPxBPyoFTdFGgSLhis\",\"1394748107\",\"giantflare.csv\")\n",
    "dataset_giantflare = pd.read_csv(\"giantflare.csv\", header=1)\n",
    "giantflare_p  = []; giantflare_pdot  = []\n",
    "for key, row in dataset_giantflare.iterrows():\n",
    "  if '<' in str(row['Pdot (s/s)']):\n",
    "    continue\n",
    "  if float(row['P (sec)'])>0.0 and float(row['Pdot (s/s)'])>0.0:\n",
    "    giantflare_p.append(float(row['P (sec)']))\n",
    "    giantflare_pdot.append(float(row['Pdot (s/s)']))\n",
    "\n",
    "fig, ax = plot_background(flag_text=False)\n",
    "ax.set_xlim(xmin_zoom,xmax_zoom)\n",
    "ax.set_ylim(ymin_zoom,ymax_zoom)\n",
    "ax.scatter(np.array(radiomagnetar_p),np.array(radiomagnetar_pdot),c=\"#D6DBDF\",\n",
    "  marker=\"*\", linewidth='2',s=2500,label=\"Radio-emitting Magnetar\")\n",
    "\n",
    "plot_pulsars(fig=fig,ax=ax,flag_color=False)\n",
    "\n",
    "ax.scatter(np.array(rrat_p),np.array(rrat_pdot),c=\"#FFFFFF\",edgecolor='k',\n",
    "           marker=\"^\", linewidth='2',s=200)\n",
    "ax.scatter(np.array(giantflare_p),np.array(giantflare_pdot),c=\"#FF0000\",edgecolor='k',\n",
    "  marker=\"*\", linewidth='2',s=1020,label=\"Giant Flare\")\n",
    "ax.scatter(np.array(transient_p),np.array(transient_pdot),c=\"#FF0000\",edgecolor='k',\n",
    "  marker=\"o\", linewidth='2',s=250, label=\"X-ray Outburst\")\n",
    "ax.legend(loc='upper left',scatterpoints=1,fontsize=20)\n",
    "plt.savefig('ppdot_zoom_transient.pdf',bbox_inches='tight')\n",
    "files.download('ppdot_zoom_transient.pdf')\n"
   ]
  },
  {
   "cell_type": "markdown",
   "metadata": {
    "id": "uoc4ltRUj2qn"
   },
   "source": [
    "## Pulsar evolution (empirical)"
   ]
  },
  {
   "cell_type": "code",
   "execution_count": null,
   "metadata": {
    "id": "LrRrR3kejPRx"
   },
   "outputs": [],
   "source": [
    "def drange(start, stop, step):\n",
    "\tr = start\n",
    "\twhile r < stop:\n",
    "\t\tyield r\n",
    "\t\tr += step\n",
    "\n",
    "# ======================\n",
    "# Pulsar Evolution\n",
    "# ======================\n",
    "#MomentOfInertia = 1.61e+45 # g/cm2\n",
    "MomentOfInertia = 1e+45 # g/cm2\n",
    "VelocityOfLight = 3e+10 # cm/s\n",
    "#RadiusOfNS      = 1.2e+6  # cm\n",
    "RadiusOfNS      = 1e+6  # cm\n",
    "factor          = 8 * np.pi**2 * RadiusOfNS**6 / (3 * MomentOfInertia * VelocityOfLight**3)\n",
    "\n",
    "kyr = 1e+3 * 365 * 24 * 60 * 60 # sec\n",
    "Myr = 1e+3 * kyr\t\t\t\t# sec\n",
    "Gyr = 1e+3 * Myr\t\t\t\t# sec\n",
    "\n",
    "def getPeriodPdotBfield(t, Pi, Bi, tau):\n",
    "\tperiod = np.sqrt(Pi**2 + factor * Bi**2 * tau * (1-np.exp(-2*t/tau)))\n",
    "\tB = Bi * np.exp(-t/tau)\n",
    "\tpdot   = factor * B**2  / period\n",
    "\treturn period, pdot, B\n",
    "\n",
    "graphEvolution = []\n",
    "timeArray  = [1.0]\n",
    "timeArray += [ (10**i)*kyr for i in drange(0, 10, 0.001)]\n",
    "Bi_list = [1e+12, 1e+13, 1e+14, 1e+15]\n",
    "for Bi in Bi_list:\n",
    "\tpath_x = []\n",
    "\tpath_y = []\n",
    "\tfor time in timeArray:\n",
    "\t\tperiod, pdot, B = getPeriodPdotBfield(time, Pi=0.001, Bi=Bi, tau=100.0*Myr/(Bi/1.0e+12)**1.5)\n",
    "\t\tpath_x.append(period)\n",
    "\t\tpath_y.append(pdot)\n",
    "\tgraphEvolution.append([path_x,path_y])\n",
    "\n",
    "def plot_evolution(ax):\n",
    "  for i in range(len(Bi_list)):\n",
    "    ax.plot(np.array(graphEvolution[i][0]),np.array(graphEvolution[i][1]),\n",
    "    linestyle=\"-\",color=\"gray\",linewidth=4)"
   ]
  },
  {
   "cell_type": "code",
   "execution_count": null,
   "metadata": {
    "id": "noaiDZ5HkYT7"
   },
   "outputs": [],
   "source": [
    "fig, ax = plot_background(flag_text=False)\n",
    "plot_evolution(ax=ax)\n",
    "ax.set_xlim(xmin_zoom,xmax_zoom)\n",
    "ax.set_ylim(ymin_zoom,ymax_zoom)\n",
    "plot_pulsars(fig=fig,ax=ax)\n",
    "ax.legend(loc='upper left',scatterpoints=1,fontsize=20)\n",
    "plt.savefig('ppdot_zoom_evolution.pdf',bbox_inches='tight')\n",
    "#files.download('ppdot_zoom_evolution.pdf')"
   ]
  },
  {
   "cell_type": "markdown",
   "metadata": {
    "id": "zpHjFd_Cphb4"
   },
   "source": [
    "## Braking Index"
   ]
  },
  {
   "cell_type": "code",
   "execution_count": null,
   "metadata": {
    "id": "tOr1Nkmnk1KZ"
   },
   "outputs": [],
   "source": [
    "wget_gsheet(\"1sS95OZYOFYg9MxHtft2KVXxQHdPxBPyoFTdFGgSLhis\",\"1790375017\",\"braking_index.csv\")\n",
    "dataset_bk = pd.read_csv(\"braking_index.csv\", header=1)\n",
    "\n",
    "xmin_zoom2 = 1e-2\n",
    "xmax_zoom2 = 1e+2\n",
    "ymin_zoom2 = 1e-15\n",
    "ymax_zoom2 = 1e-9\n",
    "\n",
    "fig, ax = plot_background(flag_text=False)\n",
    "plot_evolution(ax=ax)\n",
    "ax.set_xlim(xmin_zoom2,xmax_zoom2)\n",
    "ax.set_ylim(ymin_zoom2,ymax_zoom2)\n",
    "plot_pulsars(fig=fig,ax=ax,flag_color=False)\n",
    "\n",
    "for key, row in dataset_bk.iterrows():\n",
    "\tif row['P (sec)'] > 0.0:\n",
    "\t\t#print(key,row[0],row['n'],row['P'],row['Pdot'])\n",
    "\t\tslope = 2. - float(row['n'])\n",
    "\n",
    "\t\tu = 1.0\n",
    "\t\tv = slope\n",
    "\t\tnorm = np.sqrt(u**2+v**2)\n",
    "\t\tu = u/norm\n",
    "\t\tv = v/norm\n",
    "\t\t#print(u,v,row['n'],slope)\n",
    "\t\tplt.quiver(row['P (sec)'],row['Pdot (s/s)'],\n",
    "\t\t\tu, v, angles='uv',\n",
    "\t\t\tunits='inches',scale_units='inches',scale=1.2,edgecolor='k',\n",
    "\t\t\tlinewidth=1,color=\"#FF0000\") #,\n",
    "\t\t\t#units='width',scale_units='width',scale=0.01)\n",
    "\n",
    "\t\tif row['n2'] != '':\n",
    "\t\t\t#print(key,row[0],row['n2'],row['P'],row['Pdot'])\n",
    "\t\t\tslope = 2. - float(row['n2'])\n",
    "\n",
    "\t\t\tu = 1.0\n",
    "\t\t\tv = slope\n",
    "\t\t\tnorm = np.sqrt(u**2+v**2)\n",
    "\t\t\tu = u/norm\n",
    "\t\t\tv = v/norm\n",
    "\t\t\t#print(u,v,row['n'],slope)\n",
    "\t\t\tplt.quiver(row['P (sec)'],row['Pdot (s/s)'],\n",
    "\t\t\t\tu, v, angles='uv',\n",
    "\t\t\t\tunits='inches',scale_units='inches',scale=1.2, edgecolor='k',\n",
    "\t\t\t\tlinewidth=1,color=\"#E8A317\") #,\n",
    "\t\t\t\t#units='width',scale_units='width',scale=0.01)\n",
    "\n",
    "#ax.legend(loc='upper left',scatterpoints=1,fontsize=20)\n",
    "plt.savefig('ppdot_zoom_evolution_index.pdf',bbox_inches='tight')\n",
    "files.download('ppdot_zoom_evolution_index.pdf')"
   ]
  },
  {
   "cell_type": "markdown",
   "metadata": {
    "id": "6IFLaR39vRAC"
   },
   "source": [
    "## P-Pdot diagram for multiwavelength observations"
   ]
  },
  {
   "cell_type": "code",
   "execution_count": null,
   "metadata": {
    "id": "janU8hIiqNuN"
   },
   "outputs": [],
   "source": [
    "wget_gsheet(\"1sS95OZYOFYg9MxHtft2KVXxQHdPxBPyoFTdFGgSLhis\",\"1096978210\",\"multiband.csv\")\n",
    "dataset_multiband = pd.read_csv(\"multiband.csv\", header=1)\n",
    "radio_p = []; radio_pdot = [];\n",
    "optical_p = []; optical_pdot = [];\n",
    "xray_p = []; xray_pdot = [];\n",
    "gamma_p = []; gamma_pdot = [];\n",
    "for key, row in dataset_multiband.iterrows():\n",
    "  if row['Energy Band']==\"Radio\":\n",
    "    radio_p.append(float(row['P (sec)']))\n",
    "    radio_pdot.append(float(row['Pdot (s/s)']))\n",
    "  if row['Energy Band']==\"Optical\":\n",
    "    optical_p.append(float(row['P (sec)']))\n",
    "    optical_pdot.append(float(row['Pdot (s/s)']))\n",
    "  if row['Energy Band']==\"X-ray\":\n",
    "    xray_p.append(float(row['P (sec)']))\n",
    "    xray_pdot.append(float(row['Pdot (s/s)']))\n",
    "  if row['Energy Band']==\"γ-ray\":\n",
    "    gamma_p.append(float(row['P (sec)']))\n",
    "    gamma_pdot.append(float(row['Pdot (s/s)']))\n",
    "\n",
    "fig = plt.figure(figsize=(11.0,15.0))\n",
    "plt.subplots_adjust(left=0.10, right=0.96, top=0.96, bottom=0.10)\n",
    "ax  = fig.add_subplot(1,1,1)\n",
    "ax.scatter(np.array(np.log10(radio_p)),np.array(np.log10(radio_pdot)),c=\"#808080\",marker=\".\",linewidth=0.5,s=150,label=\"Radio\")\n",
    "ax.scatter(np.array(np.log10(optical_p)),np.array(np.log10(optical_pdot)),c=\"#0000FF\",marker=\"s\",linewidth=2,s=300,edgecolor=\"k\",label=\"Optical\")\n",
    "ax.scatter(np.array(np.log10(xray_p)),np.array(np.log10(xray_pdot)),c=\"#8D38C9\",marker=\"o\",linewidth=2,s=150,edgecolor=\"k\",label=\"X-ray\")\n",
    "ax.scatter(np.array(np.log10(gamma_p)),np.array(np.log10(gamma_pdot)),c=\"#FF0000\",marker=\"D\",linewidth=2,edgecolor=\"k\",s=100,label=\"Gamma-ray\")\n",
    "\n",
    "ax.set_xlabel('Log Period (s)',fontsize=24, labelpad=8)\n",
    "ax.set_ylabel('Log Period Derivative (s s$^{-1}$)',fontsize=24, labelpad=8)\n",
    "ax.tick_params(axis='x', pad=15)\n",
    "ax.tick_params(axis='y', pad=14)\n",
    "ax.grid(True)\n",
    "ax.set_xlim(-3,2)\n",
    "ax.set_ylim(-21,-9)\n",
    "ax.legend(loc='upper left',scatterpoints=1,fontsize=20)\n",
    "\n",
    "plt.savefig('PPdot_type.pdf',bbox_inches='tight')\n",
    "files.download('PPdot_type.pdf')"
   ]
  },
  {
   "cell_type": "code",
   "execution_count": null,
   "metadata": {
    "id": "HFN2DXvevr_Q"
   },
   "outputs": [],
   "source": [
    "wget_gsheet(\"1sS95OZYOFYg9MxHtft2KVXxQHdPxBPyoFTdFGgSLhis\",\"704444321\",\"LxLsd.csv\")\n",
    "dataset_LxLsd = pd.read_csv(\"LxLsd.csv\", header=1)\n",
    "radio_Lsd = []; radio_Lnth = [];\n",
    "optical_Lsd = []; optical_Lnth = [];\n",
    "xray_Lsd = []; xray_Lnth = [];\n",
    "gamma_Lsd = []; gamma_Lnth = [];\n",
    "for key, row in dataset_LxLsd.iterrows():\n",
    "  if row['Energy Band']==\"Radio\":\n",
    "    radio_Lsd.append(float(row['Lsd (erg/s)']))\n",
    "    radio_Lnth.append(float(row['Lnth (erg/s)']))\n",
    "  if row['Energy Band']==\"Optical\":\n",
    "    optical_Lsd.append(float(row['Lsd (erg/s)']))\n",
    "    optical_Lnth.append(float(row['Lnth (erg/s)']))\n",
    "  if row['Energy Band']==\"X-ray\":\n",
    "    xray_Lsd.append(float(row['Lsd (erg/s)']))\n",
    "    xray_Lnth.append(float(row['Lnth (erg/s)']))\n",
    "  if row['Energy Band']==\"γ-ray\":\n",
    "    gamma_Lsd.append(float(row['Lsd (erg/s)']))\n",
    "    gamma_Lnth.append(float(row['Lnth (erg/s)']))\n",
    "\n",
    "fig = plt.figure(figsize=(11.0,15.0))\n",
    "plt.subplots_adjust(left=0.10, right=0.96, top=0.96, bottom=0.10)\n",
    "ax  = fig.add_subplot(1,1,1)\n",
    "\n",
    "ax.plot(np.array([xmin,xmax]),np.array([xmin,1.0*xmax]),c=\"#808080\",linestyle=\"--\")\n",
    "ax.plot(np.array([xmin,xmax]),np.array([xmin-3,xmax-3]),c=\"#808080\",linestyle=\"--\")\n",
    "ax.plot(np.array([xmin,xmax]),np.array([xmin-6,xmax-6]),c=\"#808080\",linestyle=\"--\")\n",
    "ax.plot(np.array([xmin,xmax]),np.array([xmin-9,xmax-9]),c=\"#808080\",linestyle=\"--\")\n",
    "\n",
    "ax.text(37.0,37.9,r'efficiency $\\epsilon=1$',horizontalalignment='left',verticalalignment='center',fontsize=25, rotation=45)\n",
    "ax.text(38.0,35.3,r'$\\epsilon=10^{-3}$',horizontalalignment='left',verticalalignment='center',fontsize=25, rotation=45)\n",
    "ax.text(38.0,32.3,r'$\\epsilon=10^{-6}$',horizontalalignment='left',verticalalignment='center',fontsize=25, rotation=45)\n",
    "ax.text(38.0,29.3,r'$\\epsilon=10^{-9}$',horizontalalignment='left',verticalalignment='center',fontsize=25, rotation=45)\n",
    "\n",
    "ax.scatter(np.array(np.log10(radio_Lsd)),np.array(np.log10(radio_Lnth)),c=\"#808080\",marker=\".\",linewidth=0.5,s=150,label=\"Radio\")\n",
    "ax.scatter(np.array(np.log10(optical_Lsd)),np.array(np.log10(optical_Lnth)),c=\"#0000FF\",marker=\"s\",linewidth=2,s=300,edgecolor=\"k\",label=\"Optical\")\n",
    "ax.scatter(np.array(np.log10(xray_Lsd)),np.array(np.log10(xray_Lnth)),c=\"#8D38C9\",marker=\"o\",linewidth=2,s=150,edgecolor=\"k\",label=\"X-ray\")\n",
    "ax.scatter(np.array(np.log10(gamma_Lsd)),np.array(np.log10(gamma_Lnth)),c=\"#FF0000\",marker=\"D\",linewidth=2,edgecolor=\"k\",s=100,label=\"Gamma-ray\")\n",
    "\n",
    "ax.set_xlabel('Log Spin-down Luminosity (erg s$^{-1}$)',fontsize=24, labelpad=8) #,fontweight='bold')\n",
    "ax.set_ylabel('Log Luminosity (erg s$^{-1}$)',fontsize=24, labelpad=8)\n",
    "ax.tick_params(axis='x', pad=15)\n",
    "ax.tick_params(axis='y', pad=14)\n",
    "ax.grid(True)\n",
    "ax.set_xlim(28,40)\n",
    "ax.set_ylim(24,40)\n",
    "ax.legend(loc='upper left',scatterpoints=1,fontsize=20)\n",
    "\n",
    "plt.savefig('LsdLband.pdf',bbox_inches='tight')\n",
    "files.download('LsdLband.pdf')"
   ]
  },
  {
   "cell_type": "markdown",
   "metadata": {
    "id": "Z-meeHVK19s3"
   },
   "source": [
    "## Neutron star cooling curve"
   ]
  },
  {
   "cell_type": "code",
   "execution_count": null,
   "metadata": {
    "id": "Wi5e8fJvvxA8"
   },
   "outputs": [],
   "source": [
    "import scipy.interpolate\n",
    "\n",
    "wget_gsheet(\"1sS95OZYOFYg9MxHtft2KVXxQHdPxBPyoFTdFGgSLhis\",\"1531486312\",\"cooling.csv\")\n",
    "dataset_cooling = pd.read_csv(\"cooling.csv\", header=1)\n",
    "\n",
    "nth_age = []; nth_L = []\n",
    "mag_age = []; mag_L = []\n",
    "xins_age = []; xins_L = []\n",
    "bbp_age = []; hbp_L = []\n",
    "cco_age = []; cco_L = []\n",
    "rpp_age = []; rpp_L = []\n",
    "\n",
    "\n",
    "for key, row in dataset_cooling.iterrows():\n",
    "  if row['Type']==\"RPP\" and row['L (thermal or non-thermal)']==\"Non-thermal\":\n",
    "    nth_age.append(float(row['log10 Age (yr)'])-3.0)\n",
    "    nth_L.append(float(row['log10 L (erg/s)']))\n",
    "  if row['Type']==\"MAG\" and row['L (thermal or non-thermal)']==\"Thermal\":\n",
    "    mag_age.append(float(row['log10 Age (yr)'])-3.0)\n",
    "    mag_L.append(float(row['log10 L (erg/s)']))\n",
    "  if row['Type']==\"XINS\" and row['L (thermal or non-thermal)']==\"Thermal\":\n",
    "    xins_age.append(float(row['log10 Age (yr)'])-3.0)\n",
    "    xins_L.append(float(row['log10 L (erg/s)']))\n",
    "  if row['Type']==\"HB\" and row['L (thermal or non-thermal)']==\"Thermal\":\n",
    "    bbp_age.append(float(row['log10 Age (yr)'])-3.0)\n",
    "    hbp_L.append(float(row['log10 L (erg/s)']))\n",
    "  if row['Type']==\"CCO\" and row['L (thermal or non-thermal)']==\"Thermal\":\n",
    "    cco_age.append(float(row['log10 Age (yr)'])-3.0)\n",
    "    cco_L.append(float(row['log10 L (erg/s)']))\n",
    "  if row['Type']==\"RPP\" and row['L (thermal or non-thermal)']==\"Thermal\":\n",
    "    rpp_age.append(float(row['log10 Age (yr)'])-3.0)\n",
    "    rpp_L.append(float(row['log10 L (erg/s)']))\n",
    "\n",
    "wget_gsheet(\"1sS95OZYOFYg9MxHtft2KVXxQHdPxBPyoFTdFGgSLhis\",\"48536337\",\"cooling_theory.csv\")\n",
    "dataset_cooling_theory = pd.read_csv(\"cooling_theory.csv\", header=1)\n",
    "\n",
    "sp    = scipy.interpolate.InterpolatedUnivariateSpline(dataset_cooling_theory['log10 Age (yr)']-3, dataset_cooling_theory['log10 L_th (erg/s)'])\n",
    "sx    = np.linspace(-2, 3.51, 30)\n",
    "sy    = sp(sx)\n",
    "\n",
    "fig = plt.figure(figsize=(12.4,9.0))\n",
    "# x:y = 500 : 620 = 10:12.4\n",
    "plt.subplots_adjust(left=0.10, right=0.96, top=0.96, bottom=0.12)\n",
    "ax  = fig.add_subplot(1,1,1)\n",
    "\n",
    "ax.plot(np.array(sx),np.array(sy),color=\"#808080\",linewidth=5)\n",
    "\n",
    "ax.scatter(np.array(nth_age),np.array(nth_L),c=\"#FFFFFF\",marker=\"d\",linewidth=1,s=130,edgecolor=\"#808080\",label='RPP Non-thermal')\n",
    "ax.scatter(np.array(mag_age),np.array(mag_L),c=\"#FF0000\",marker=\"o\",linewidth=2,s=220,edgecolor=\"k\",label='Magnetar')\n",
    "ax.scatter(np.array(xins_age),np.array(xins_L),c=\"#E8A317\",marker=\"p\",linewidth=2,s=260,edgecolor=\"k\",label='XINS')\n",
    "ax.scatter(np.array(bbp_age),np.array(hbp_L),c=\"#8D38C9\",marker=\"D\",linewidth=2,s=190,edgecolor=\"k\",label='HBP')\n",
    "ax.scatter(np.array(cco_age),np.array(cco_L),c=\"#0000FF\",marker=\"s\",linewidth=2,s=190,edgecolor=\"k\",label='CCO')\n",
    "ax.scatter(np.array(rpp_age),np.array(rpp_L),c=\"#ADD8E6\",marker=\"o\",linewidth=2,s=190,edgecolor=\"k\",label='RPP Thermal')\n",
    "\n",
    "ax.set_xlabel('Age (Log t/kyr)',fontsize=24, labelpad=10)\n",
    "ax.set_ylabel('Luminosity (Log $L$/(erg s$^{-1}$))',fontsize=24,labelpad=14)\n",
    "ax.legend(loc='lower left',scatterpoints=1,fontsize=20)\n",
    "ax.set_xlim(-1.2,5.0)\n",
    "ax.set_ylim(27,38)\n",
    "\n",
    "plt.savefig('cooling_thermal_nonthermal.pdf',bbox_inches='tight')\n",
    "files.download('cooling_thermal_nonthermal.pdf')"
   ]
  }
 ],
 "metadata": {
  "colab": {
   "provenance": []
  },
  "kernelspec": {
   "display_name": "Python 3 (ipykernel)",
   "language": "python",
   "name": "python3"
  },
  "language_info": {
   "codemirror_mode": {
    "name": "ipython",
    "version": 3
   },
   "file_extension": ".py",
   "mimetype": "text/x-python",
   "name": "python",
   "nbconvert_exporter": "python",
   "pygments_lexer": "ipython3",
   "version": "3.8.16"
  }
 },
 "nbformat": 4,
 "nbformat_minor": 1
}
