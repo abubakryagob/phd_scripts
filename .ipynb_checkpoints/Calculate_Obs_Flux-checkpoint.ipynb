{
 "cells": [
  {
   "cell_type": "code",
   "execution_count": 3,
   "metadata": {},
   "outputs": [],
   "source": [
    "import matplotlib.pyplot as plt\n",
    "import numpy as np\n",
    "import sys\n",
    "import math\n",
    "import numpy as np\n",
    "from astropy.time import Time\n",
    "\n"
   ]
  },
  {
   "cell_type": "code",
   "execution_count": 1,
   "metadata": {},
   "outputs": [
    {
     "name": "stdout",
     "output_type": "stream",
     "text": [
      "calculate_flux.ipynb       flux_initial_values.dat\r\n",
      "deabsorbed_flux.png        flux_lumin_calculations.py\r\n",
      "flux&limunosity.txt        luminosity.png\r\n",
      "flux_data_12swift-obs.txt\r\n"
     ]
    }
   ],
   "source": [
    "!ls"
   ]
  },
  {
   "cell_type": "code",
   "execution_count": 2,
   "metadata": {},
   "outputs": [
    {
     "name": "stdout",
     "output_type": "stream",
     "text": [
      "import matplotlib.pyplot as plt\r\n",
      "import numpy as np\r\n",
      "import sys\r\n",
      "import math\r\n",
      "import numpy as np\r\n",
      "from astropy.time import Time\r\n",
      "\r\n",
      "\r\n",
      "#Reading the data\r\n",
      "flux = sys.argv[1]\r\n",
      "Data = np.loadtxt(flux)\r\n",
      "\r\n",
      "\r\n",
      "MJD = Data[:,0]\r\n",
      "F = Data[:,1]\r\n",
      "F_lower_error = Data[:,2]\r\n",
      "F_upper_error = Data[:,3]\r\n",
      "obs_name = Data[:,4]\r\n",
      "\r\n",
      "\r\n",
      "# After changing the format of the date (start+end)/2\r\n",
      "# To calculate the fux obtained from xspec 10eflux\r\n",
      "print('### Initial flux values:\\n', F)\r\n",
      "\r\n",
      "# Get the natuaral logrithm for thr flux uncertunity\r\n",
      "f_unc_lower = math.log(10) * F * F_lower_error\r\n",
      "f_unc_upper = math.log(10) * F * F_upper_error\r\n",
      "\r\n",
      "print('### Lower uncertunities of the flux:\\n', f_unc_lower)\r\n",
      "print('### Upper uncertunities of the flux:\\n', f_unc_upper)\r\n",
      "\r\n",
      "\r\n",
      "Flux_lower = F + f_unc_lower\r\n",
      "Flux_upper = F + f_unc_upper\r\n",
      "\r\n",
      "print('### Flux with lower uncertunities:\\n', Flux_lower)\r\n",
      "print('### Flux with upper uncertunities:\\n', Flux_upper)\r\n",
      "\r\n",
      "\r\n",
      "#======================================================\r\n",
      "\t\t# Calculate the luminosity\r\n",
      "#======================================================\r\n",
      "d = 3.086e22 #units\r\n",
      "L_best = 4 * np.pi * F * d**2\r\n",
      "print('### Best Luminosity:\\n', L_best)\r\n",
      "\r\n",
      "L_lower = 4 * np.pi * Flux_lower * d**2\r\n",
      "L_upper = 4 * np.pi * Flux_upper * d**2\r\n",
      "\r\n",
      "print('### Luminosity with lower uncertunities:\\n', L_lower)\r\n",
      "print('### Luminosity with upper uncertunities:\\n', L_upper)\r\n",
      "\r\n",
      "\r\n",
      "label = obs_name\r\n",
      "#Flux Plot\r\n",
      "plt.figure()\r\n",
      "plt.xlabel(\"Time [MJD]\")\r\n",
      "plt.ylabel(r\"Flux [erg cm$^{-2}$s$^{-1}$]\")\r\n",
      "plt.title(\"De-absorbed flux\")\r\n",
      "plt.errorbar(MJD, F, yerr=[Flux_lower,Flux_upper], fmt='.k', ecolor='black', marker='o')# elinewidth=1,  mfc='k')\r\n",
      "plt.gca().set_yscale('log')\r\n",
      "plt.grid(which='both')\r\n",
      "#plt.legend(p, label)\r\n",
      "\r\n",
      "plt.savefig(\"deabsorbed_flux.png\")\r\n",
      "plt.show()\r\n",
      "\r\n",
      "'''\r\n",
      "#Plot\r\n",
      "plt.figure()\r\n",
      "plt.xlabel(\"Time [MJD]\")\r\n",
      "plt.ylabel(r\"Luminosity [erg s$^{-1}$]\")\r\n",
      "plt.title(\"Luminosity\")\r\n",
      "plt.errorbar(MJD, L_best, yerr=[L_lower,L_upper], fmt='.k', ecolor='black')# elinewidth=5,  mfc='k')\r\n",
      "plt.gca().set_yscale('log')\r\n",
      "plt.grid(which='both')\r\n",
      "plt.savefig(\"luminosity.png\")\r\n",
      "plt.show()\r\n",
      "\r\n",
      "\r\n",
      "\r\n",
      "\r\n",
      "\r\n",
      "delcomp 3 \r\n",
      "addcomp 2 bbodyrad \r\n",
      "newpar 5 0,-1 \r\n",
      "addcomp 2 powerlaw \r\n",
      "\r\n",
      "ln(10)*Fx*sigma_Fx \r\n",
      "ln(10)*2.54e-11*(-0.046)\r\n",
      "'''\r\n",
      "\r\n",
      "\r\n"
     ]
    }
   ],
   "source": [
    "!cat flux_lumin_calculations.py"
   ]
  },
  {
   "cell_type": "code",
   "execution_count": 58,
   "metadata": {},
   "outputs": [
    {
     "name": "stdout",
     "output_type": "stream",
     "text": [
      "/home/abubakar/work/scripts\r\n"
     ]
    },
    {
     "ename": "UnicodeEncodeError",
     "evalue": "'latin-1' codec can't encode character '\\u2212' in position 28: ordinal not in range(256)",
     "output_type": "error",
     "traceback": [
      "\u001b[1;31m---------------------------------------------------------------------------\u001b[0m",
      "\u001b[1;31mUnicodeEncodeError\u001b[0m                        Traceback (most recent call last)",
      "\u001b[1;32m<ipython-input-58-4f2bb0ca54b4>\u001b[0m in \u001b[0;36m<module>\u001b[1;34m()\u001b[0m\n\u001b[0;32m      2\u001b[0m \u001b[0mfilen\u001b[0m\u001b[1;33m=\u001b[0m \u001b[1;34m\"/home/abubakar/work/swift/sim-fit/flux_initial_values.dat\"\u001b[0m\u001b[1;33m\u001b[0m\u001b[0m\n\u001b[0;32m      3\u001b[0m \u001b[1;31m#filen=flux_initial_values.dat\u001b[0m\u001b[1;33m\u001b[0m\u001b[1;33m\u001b[0m\u001b[0m\n\u001b[1;32m----> 4\u001b[1;33m \u001b[0mfile\u001b[0m \u001b[1;33m=\u001b[0m \u001b[0mnp\u001b[0m\u001b[1;33m.\u001b[0m\u001b[0mloadtxt\u001b[0m\u001b[1;33m(\u001b[0m\u001b[0mfilen\u001b[0m\u001b[1;33m)\u001b[0m\u001b[1;33m\u001b[0m\u001b[0m\n\u001b[0m",
      "\u001b[1;32m/home/abubakar/anaconda3/lib/python3.5/site-packages/numpy/lib/npyio.py\u001b[0m in \u001b[0;36mloadtxt\u001b[1;34m(fname, dtype, comments, delimiter, converters, skiprows, usecols, unpack, ndmin)\u001b[0m\n\u001b[0;32m    886\u001b[0m             \u001b[1;32mwhile\u001b[0m \u001b[1;32mnot\u001b[0m \u001b[0mfirst_vals\u001b[0m\u001b[1;33m:\u001b[0m\u001b[1;33m\u001b[0m\u001b[0m\n\u001b[0;32m    887\u001b[0m                 \u001b[0mfirst_line\u001b[0m \u001b[1;33m=\u001b[0m \u001b[0mnext\u001b[0m\u001b[1;33m(\u001b[0m\u001b[0mfh\u001b[0m\u001b[1;33m)\u001b[0m\u001b[1;33m\u001b[0m\u001b[0m\n\u001b[1;32m--> 888\u001b[1;33m                 \u001b[0mfirst_vals\u001b[0m \u001b[1;33m=\u001b[0m \u001b[0msplit_line\u001b[0m\u001b[1;33m(\u001b[0m\u001b[0mfirst_line\u001b[0m\u001b[1;33m)\u001b[0m\u001b[1;33m\u001b[0m\u001b[0m\n\u001b[0m\u001b[0;32m    889\u001b[0m         \u001b[1;32mexcept\u001b[0m \u001b[0mStopIteration\u001b[0m\u001b[1;33m:\u001b[0m\u001b[1;33m\u001b[0m\u001b[0m\n\u001b[0;32m    890\u001b[0m             \u001b[1;31m# End of lines reached\u001b[0m\u001b[1;33m\u001b[0m\u001b[1;33m\u001b[0m\u001b[0m\n",
      "\u001b[1;32m/home/abubakar/anaconda3/lib/python3.5/site-packages/numpy/lib/npyio.py\u001b[0m in \u001b[0;36msplit_line\u001b[1;34m(line)\u001b[0m\n\u001b[0;32m    862\u001b[0m \u001b[1;33m\u001b[0m\u001b[0m\n\u001b[0;32m    863\u001b[0m         \"\"\"\n\u001b[1;32m--> 864\u001b[1;33m         \u001b[0mline\u001b[0m \u001b[1;33m=\u001b[0m \u001b[0masbytes\u001b[0m\u001b[1;33m(\u001b[0m\u001b[0mline\u001b[0m\u001b[1;33m)\u001b[0m\u001b[1;33m\u001b[0m\u001b[0m\n\u001b[0m\u001b[0;32m    865\u001b[0m         \u001b[1;32mif\u001b[0m \u001b[0mcomments\u001b[0m \u001b[1;32mis\u001b[0m \u001b[1;32mnot\u001b[0m \u001b[1;32mNone\u001b[0m\u001b[1;33m:\u001b[0m\u001b[1;33m\u001b[0m\u001b[0m\n\u001b[0;32m    866\u001b[0m             \u001b[0mline\u001b[0m \u001b[1;33m=\u001b[0m \u001b[0mregex_comments\u001b[0m\u001b[1;33m.\u001b[0m\u001b[0msplit\u001b[0m\u001b[1;33m(\u001b[0m\u001b[0masbytes\u001b[0m\u001b[1;33m(\u001b[0m\u001b[0mline\u001b[0m\u001b[1;33m)\u001b[0m\u001b[1;33m,\u001b[0m \u001b[0mmaxsplit\u001b[0m\u001b[1;33m=\u001b[0m\u001b[1;36m1\u001b[0m\u001b[1;33m)\u001b[0m\u001b[1;33m[\u001b[0m\u001b[1;36m0\u001b[0m\u001b[1;33m]\u001b[0m\u001b[1;33m\u001b[0m\u001b[0m\n",
      "\u001b[1;32m/home/abubakar/anaconda3/lib/python3.5/site-packages/numpy/compat/py3k.py\u001b[0m in \u001b[0;36masbytes\u001b[1;34m(s)\u001b[0m\n\u001b[0;32m     29\u001b[0m         \u001b[1;32mif\u001b[0m \u001b[0misinstance\u001b[0m\u001b[1;33m(\u001b[0m\u001b[0ms\u001b[0m\u001b[1;33m,\u001b[0m \u001b[0mbytes\u001b[0m\u001b[1;33m)\u001b[0m\u001b[1;33m:\u001b[0m\u001b[1;33m\u001b[0m\u001b[0m\n\u001b[0;32m     30\u001b[0m             \u001b[1;32mreturn\u001b[0m \u001b[0ms\u001b[0m\u001b[1;33m\u001b[0m\u001b[0m\n\u001b[1;32m---> 31\u001b[1;33m         \u001b[1;32mreturn\u001b[0m \u001b[0mstr\u001b[0m\u001b[1;33m(\u001b[0m\u001b[0ms\u001b[0m\u001b[1;33m)\u001b[0m\u001b[1;33m.\u001b[0m\u001b[0mencode\u001b[0m\u001b[1;33m(\u001b[0m\u001b[1;34m'latin1'\u001b[0m\u001b[1;33m)\u001b[0m\u001b[1;33m\u001b[0m\u001b[0m\n\u001b[0m\u001b[0;32m     32\u001b[0m \u001b[1;33m\u001b[0m\u001b[0m\n\u001b[0;32m     33\u001b[0m     \u001b[1;32mdef\u001b[0m \u001b[0masstr\u001b[0m\u001b[1;33m(\u001b[0m\u001b[0ms\u001b[0m\u001b[1;33m)\u001b[0m\u001b[1;33m:\u001b[0m\u001b[1;33m\u001b[0m\u001b[0m\n",
      "\u001b[1;31mUnicodeEncodeError\u001b[0m: 'latin-1' codec can't encode character '\\u2212' in position 28: ordinal not in range(256)"
     ]
    }
   ],
   "source": [
    "!pwd\n",
    "filen= \"/home/abubakar/work/swift/sim-fit/flux_initial_values.dat\"\n",
    "#filen=flux_initial_values.dat\n",
    "file = np.loadtxt(filen)"
   ]
  },
  {
   "cell_type": "code",
   "execution_count": 39,
   "metadata": {},
   "outputs": [
    {
     "data": {
      "text/plain": [
       "'-10.5783\\t-0.0307741,0.0295935\\tsw00013840001\\n'"
      ]
     },
     "execution_count": 39,
     "metadata": {},
     "output_type": "execute_result"
    }
   ],
   "source": [
    "MJD = np.array(name[:,0])\n",
    "DM = np.array(name[:,1])\n",
    "DM_err = np.array(name[:,2])"
   ]
  },
  {
   "cell_type": "code",
   "execution_count": null,
   "metadata": {
    "collapsed": true
   },
   "outputs": [],
   "source": []
  },
  {
   "cell_type": "code",
   "execution_count": null,
   "metadata": {
    "collapsed": true
   },
   "outputs": [],
   "source": []
  }
 ],
 "metadata": {
  "anaconda-cloud": {},
  "kernelspec": {
   "display_name": "Python 3",
   "language": "python",
   "name": "python3"
  },
  "language_info": {
   "codemirror_mode": {
    "name": "ipython",
    "version": 3
   },
   "file_extension": ".py",
   "mimetype": "text/x-python",
   "name": "python",
   "nbconvert_exporter": "python",
   "pygments_lexer": "ipython3",
   "version": "3.8.5"
  }
 },
 "nbformat": 4,
 "nbformat_minor": 4
}
