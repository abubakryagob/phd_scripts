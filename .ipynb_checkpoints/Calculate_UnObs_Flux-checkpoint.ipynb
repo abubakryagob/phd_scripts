{
 "cells": [
  {
   "cell_type": "code",
   "execution_count": 2,
   "metadata": {},
   "outputs": [],
   "source": [
    "import matplotlib.pyplot as plt\n",
    "import numpy as np\n",
    "import sys\n",
    "import math\n",
    "import numpy as np\n",
    "from astropy.time import Time\n"
   ]
  },
  {
   "cell_type": "code",
   "execution_count": 3,
   "metadata": {},
   "outputs": [],
   "source": [
    "#Reading the data\n",
    "\n",
    "\n",
    "file= 'xmm-nustar_J1818_un-obs-flux.dat'\n",
    "Data = np.loadtxt(file)\n",
    "\n",
    "\n",
    "MJD = Data[:,0]\n",
    "log10F = Data[:,1]\n",
    "log10F_lower_error = Data[:,2]\n",
    "log10F_upper_error = Data[:,3]\n",
    "obs_name = Data[:,4]"
   ]
  },
  {
   "cell_type": "code",
   "execution_count": null,
   "metadata": {},
   "outputs": [],
   "source": []
  },
  {
   "cell_type": "code",
   "execution_count": 4,
   "metadata": {},
   "outputs": [
    {
     "name": "stdout",
     "output_type": "stream",
     "text": [
      "### Initial flux values:\n",
      " [2.96824674e-11 2.37848272e-11 2.11543653e-11 1.21862477e-10\n",
      " 1.54953004e-11 9.26403101e-12 8.54673031e-12]\n"
     ]
    }
   ],
   "source": [
    "# get the mjd from \"datetime.ipynb\", get the everage (start+end)/2\n",
    "# To calculate the fux obtained from xspec 10e*flux\n",
    "\n",
    "Flux = 10**log10F\n",
    "print('### Initial flux values:\\n', Flux)\n",
    "\n"
   ]
  },
  {
   "cell_type": "code",
   "execution_count": 5,
   "metadata": {},
   "outputs": [
    {
     "name": "stdout",
     "output_type": "stream",
     "text": [
      "### initial lower error of the flux:\n",
      " [-0.00461174 -0.00472507 -0.00876463 -0.0806608  -0.0374176  -0.00633947\n",
      " -0.00653188]\n",
      "### initial upper error of the flux:\n",
      " [0.00460526 0.00470342 0.00865265 0.0594416  0.0276411  0.00646894\n",
      " 0.00646843]\n"
     ]
    }
   ],
   "source": [
    "print('### initial lower error of the flux:\\n', log10F_lower_error)\n",
    "print('### initial upper error of the flux:\\n', log10F_upper_error)"
   ]
  },
  {
   "cell_type": "code",
   "execution_count": 6,
   "metadata": {},
   "outputs": [],
   "source": [
    "# Get the natuaral logrithm for the flux uncertunity\n",
    "Flux_lower = Flux * 10**log10F_lower_error\n",
    "Flux_upper = Flux * 10**log10F_upper_error\n",
    "\n",
    "#print('### Lower value of the flux :\\n', f_unc_lower)\n",
    "#print('### Upper value of the flux :\\n', f_unc_upper)\n",
    "\n"
   ]
  },
  {
   "cell_type": "code",
   "execution_count": 7,
   "metadata": {},
   "outputs": [
    {
     "data": {
      "text/plain": [
       "array([1.01066042, 1.01088888, 1.02012326, 1.14667832, 1.06571505,\n",
       "       1.01500677, 1.01500558])"
      ]
     },
     "execution_count": 7,
     "metadata": {},
     "output_type": "execute_result"
    }
   ],
   "source": [
    "10**log10F_lower_error\n",
    "10**log10F_upper_error\n"
   ]
  },
  {
   "cell_type": "code",
   "execution_count": 8,
   "metadata": {},
   "outputs": [
    {
     "name": "stdout",
     "output_type": "stream",
     "text": [
      "### flux of the lower error:\n",
      " [3.13528247e-13 2.57373330e-13 4.22643633e-13 2.06557916e-11\n",
      " 1.27913721e-12 1.34246435e-13 1.27582774e-13]\n",
      "### flux of the upper error:\n",
      " [3.16427710e-13 2.58990171e-13 4.25694789e-13 1.78745829e-11\n",
      " 1.01827448e-12 1.39023205e-13 1.28248650e-13]\n"
     ]
    }
   ],
   "source": [
    "Error_lower = Flux - Flux_lower\n",
    "Error_upper = Flux_upper - Flux  \n",
    "\n",
    "print('### flux of the lower error:\\n', Error_lower)\n",
    "print('### flux of the upper error:\\n', Error_upper)\n"
   ]
  },
  {
   "cell_type": "code",
   "execution_count": 9,
   "metadata": {},
   "outputs": [
    {
     "data": {
      "image/png": "[encoded data removed]",
      "text/plain": [
       "<Figure size 432x288 with 1 Axes>"
      ]
     },
     "metadata": {
      "needs_background": "light"
     },
     "output_type": "display_data"
    }
   ],
   "source": [
    "label = obs_name\n",
    "#Flux Plot\n",
    "plt.figure()\n",
    "plt.xlabel(\"Time [MJD]\")\n",
    "plt.ylabel(r\"Flux [erg cm$^{-2}$s$^{-1}$]\")\n",
    "plt.title(\"Absorbed flux\")\n",
    "plt.errorbar(MJD, Flux, yerr=[Error_lower,Error_upper], fmt='.k', ecolor='black', marker='o')# elinewidth=1,  mfc='k')\n",
    "plt.gca().set_yscale('log')\n",
    "plt.grid(which='both')\n",
    "#plt.legend(p, label)\n",
    "\n",
    "plt.savefig(\"xmm-nustar_J1818_un-obs-flux.png\")\n",
    "plt.show()"
   ]
  },
  {
   "cell_type": "code",
   "execution_count": 10,
   "metadata": {},
   "outputs": [
    {
     "name": "stdout",
     "output_type": "stream",
     "text": [
      "### Best Luminosity:\n",
      " [8.18263971e-06 6.55682253e-06 5.83167656e-06 3.35941324e-05\n",
      " 4.27162805e-06 2.55383850e-06 2.35609843e-06]\n",
      "### Luminosity with lower uncertunities:\n",
      " [8.18261034e-06 6.55679901e-06 5.83165583e-06 3.35940312e-05\n",
      " 4.27161383e-06 2.55382937e-06 2.35609001e-06]\n",
      "### Luminosity with upper uncertunities:\n",
      " [-8.18260971e-06 -6.55679849e-06 -5.83165498e-06 -3.35939926e-05\n",
      " -4.27161153e-06 -2.55382909e-06 -2.35608975e-06]\n"
     ]
    }
   ],
   "source": [
    "#======================================================\n",
    "\t\t# Calculate the luminosity\n",
    "#======================================================\n",
    "dpc = 4.8 #kpc\n",
    "d = 1.4811252391159E+2 #units\n",
    "L_best = 4 * np.pi * Flux * d**2\n",
    "print('### Best Luminosity:\\n', L_best)\n",
    "\n",
    "L_lower = L_best - Flux_lower \n",
    "L_upper = Flux_upper - L_best\n",
    "\n",
    "print('### Luminosity with lower uncertunities:\\n', L_lower)\n",
    "print('### Luminosity with upper uncertunities:\\n', L_upper)"
   ]
  },
  {
   "cell_type": "code",
   "execution_count": 11,
   "metadata": {},
   "outputs": [
    {
     "data": {
      "image/png": "[encoded data removed]",
      "text/plain": [
       "<Figure size 432x288 with 1 Axes>"
      ]
     },
     "metadata": {
      "needs_background": "light"
     },
     "output_type": "display_data"
    }
   ],
   "source": [
    "#Plot\n",
    "plt.figure()\n",
    "plt.xlabel(\"Time [MJD]\")\n",
    "plt.ylabel(r\"Luminosity [erg s$^{-1}$]\")\n",
    "plt.title(\"Luminosity\")\n",
    "plt.errorbar(MJD, L_best, yerr=[L_lower,L_upper], fmt='.k', ecolor='black')# elinewidth=5,  mfc='k')\n",
    "#plt.gca().set_yscale('log')\n",
    "plt.grid(which='both')\n",
    "plt.savefig(\"xmm-nustar_J1818_un-obs-flux_luminosity_.png\")\n",
    "plt.show()\n",
    "\n"
   ]
  },
  {
   "cell_type": "code",
   "execution_count": 10,
   "metadata": {},
   "outputs": [
    {
     "name": "stdout",
     "output_type": "stream",
     "text": [
      "/Users/abubakribrahim/Desktop/observations/scripts\r\n"
     ]
    }
   ],
   "source": [
    "!pwd\n"
   ]
  },
  {
   "cell_type": "code",
   "execution_count": 11,
   "metadata": {},
   "outputs": [
    {
     "ename": "NameError",
     "evalue": "name 'name' is not defined",
     "output_type": "error",
     "traceback": [
      "\u001b[0;31m---------------------------------------------------------------------------\u001b[0m",
      "\u001b[0;31mNameError\u001b[0m                                 Traceback (most recent call last)",
      "\u001b[0;32m<ipython-input-11-64974ac60659>\u001b[0m in \u001b[0;36m<module>\u001b[0;34m\u001b[0m\n\u001b[0;32m----> 1\u001b[0;31m \u001b[0mMJD\u001b[0m \u001b[0;34m=\u001b[0m \u001b[0mnp\u001b[0m\u001b[0;34m.\u001b[0m\u001b[0marray\u001b[0m\u001b[0;34m(\u001b[0m\u001b[0mname\u001b[0m\u001b[0;34m[\u001b[0m\u001b[0;34m:\u001b[0m\u001b[0;34m,\u001b[0m\u001b[0;36m0\u001b[0m\u001b[0;34m]\u001b[0m\u001b[0;34m)\u001b[0m\u001b[0;34m\u001b[0m\u001b[0;34m\u001b[0m\u001b[0m\n\u001b[0m\u001b[1;32m      2\u001b[0m \u001b[0mDM\u001b[0m \u001b[0;34m=\u001b[0m \u001b[0mnp\u001b[0m\u001b[0;34m.\u001b[0m\u001b[0marray\u001b[0m\u001b[0;34m(\u001b[0m\u001b[0mname\u001b[0m\u001b[0;34m[\u001b[0m\u001b[0;34m:\u001b[0m\u001b[0;34m,\u001b[0m\u001b[0;36m1\u001b[0m\u001b[0;34m]\u001b[0m\u001b[0;34m)\u001b[0m\u001b[0;34m\u001b[0m\u001b[0;34m\u001b[0m\u001b[0m\n\u001b[1;32m      3\u001b[0m \u001b[0mDM_err\u001b[0m \u001b[0;34m=\u001b[0m \u001b[0mnp\u001b[0m\u001b[0;34m.\u001b[0m\u001b[0marray\u001b[0m\u001b[0;34m(\u001b[0m\u001b[0mname\u001b[0m\u001b[0;34m[\u001b[0m\u001b[0;34m:\u001b[0m\u001b[0;34m,\u001b[0m\u001b[0;36m2\u001b[0m\u001b[0;34m]\u001b[0m\u001b[0;34m)\u001b[0m\u001b[0;34m\u001b[0m\u001b[0;34m\u001b[0m\u001b[0m\n",
      "\u001b[0;31mNameError\u001b[0m: name 'name' is not defined"
     ]
    }
   ],
   "source": [
    "MJD = np.array(name[:,0])\n",
    "DM = np.array(name[:,1])\n",
    "DM_err = np.array(name[:,2])"
   ]
  },
  {
   "cell_type": "code",
   "execution_count": null,
   "metadata": {},
   "outputs": [],
   "source": []
  },
  {
   "cell_type": "code",
   "execution_count": null,
   "metadata": {},
   "outputs": [],
   "source": []
  }
 ],
 "metadata": {
  "anaconda-cloud": {},
  "kernelspec": {
   "display_name": "Python 3",
   "language": "python",
   "name": "python3"
  },
  "language_info": {
   "codemirror_mode": {
    "name": "ipython",
    "version": 3
   },
   "file_extension": ".py",
   "mimetype": "text/x-python",
   "name": "python",
   "nbconvert_exporter": "python",
   "pygments_lexer": "ipython3",
   "version": "3.8.5"
  }
 },
 "nbformat": 4,
 "nbformat_minor": 4
}
