{
 "cells": [
  {
   "cell_type": "code",
   "execution_count": 165,
   "id": "provincial-staff",
   "metadata": {},
   "outputs": [],
   "source": [
    "%matplotlib inline\n",
    "import matplotlib.pyplot as plt\n",
    "plt.style.use('seaborn-whitegrid')\n",
    "import numpy as np"
   ]
  },
  {
   "cell_type": "markdown",
   "id": "forty-needle",
   "metadata": {},
   "source": [
    "## PF first measurements"
   ]
  },
  {
   "cell_type": "code",
   "execution_count": 166,
   "id": "administrative-empty",
   "metadata": {},
   "outputs": [],
   "source": [
    "file=\"/Users/abubakribrahim/Desktop/observations/xmm-newton/SWJ1818.0-1607/timing_analysis/pulse_profile/xmm_pulsed_fraction_updated_energy.txt\"\n",
    "Data=np.loadtxt(file)\n",
    "x=[1.65,4.5,8]#,5.15]"
   ]
  },
  {
   "cell_type": "code",
   "execution_count": 167,
   "id": "eastern-repeat",
   "metadata": {},
   "outputs": [
    {
     "data": {
      "text/plain": [
       "array([[0.7311641 , 0.01265   , 0.94089729, 0.05476   , 0.70304704,\n",
       "        0.01443   , 0.65501767, 0.02609   ],\n",
       "       [0.73924875, 0.01242   , 0.73626304, 0.04256   , 0.70752335,\n",
       "        0.01448   , 0.90729803, 0.02718   ],\n",
       "       [0.79723167, 0.01412   , 1.        , 0.07102   , 0.74496353,\n",
       "        0.01541   , 0.97066021, 0.03269   ]])"
      ]
     },
     "execution_count": 167,
     "metadata": {},
     "output_type": "execute_result"
    }
   ],
   "source": [
    "Data\n"
   ]
  },
  {
   "cell_type": "code",
   "execution_count": 168,
   "id": "later-pierce",
   "metadata": {},
   "outputs": [
    {
     "data": {
      "text/plain": [
       "array([0.01265, 0.01242, 0.01412])"
      ]
     },
     "execution_count": 168,
     "metadata": {},
     "output_type": "execute_result"
    }
   ],
   "source": [
    "Data[:, 1]"
   ]
  },
  {
   "cell_type": "code",
   "execution_count": 169,
   "id": "accessory-pennsylvania",
   "metadata": {},
   "outputs": [
    {
     "data": {
      "text/plain": [
       "array([0.7311641 , 0.01265   , 0.94089729, 0.05476   , 0.70304704,\n",
       "       0.01443   , 0.65501767, 0.02609   ])"
      ]
     },
     "execution_count": 169,
     "metadata": {},
     "output_type": "execute_result"
    }
   ],
   "source": [
    "Data[0,:]"
   ]
  },
  {
   "cell_type": "code",
   "execution_count": 170,
   "id": "alpine-group",
   "metadata": {},
   "outputs": [],
   "source": [
    "#obs = Data[:,0]\n",
    "\n",
    "PF_obs1 = Data[:,0]\n",
    "Err_obs1 = Data[:,1]\n",
    "\n",
    "PF_obs2 = Data[:,2]\n",
    "Err_obs2 = Data[:,3]\n",
    "\n",
    "PF_obs3 = Data[:,4]\n",
    "Err_obs3 = Data[:,5]\n",
    "\n",
    "PF_obs4 = Data[:,6]\n",
    "Err_obs4 = Data[:,7]\n"
   ]
  },
  {
   "cell_type": "code",
   "execution_count": 171,
   "id": "aquatic-blogger",
   "metadata": {},
   "outputs": [
    {
     "data": {
      "text/plain": [
       "array([0.65501767, 0.90729803, 0.97066021])"
      ]
     },
     "execution_count": 171,
     "metadata": {},
     "output_type": "execute_result"
    }
   ],
   "source": [
    "PF_obs4"
   ]
  },
  {
   "cell_type": "code",
   "execution_count": 172,
   "id": "stock-constant",
   "metadata": {},
   "outputs": [
    {
     "data": {
      "text/plain": [
       "<matplotlib.legend.Legend at 0x7fe9b8b6aeb0>"
      ]
     },
     "execution_count": 172,
     "metadata": {},
     "output_type": "execute_result"
    },
    {
     "data": {
      "image/png": "[encoded data removed]",
      "text/plain": [
       "<Figure size 432x288 with 1 Axes>"
      ]
     },
     "metadata": {},
     "output_type": "display_data"
    }
   ],
   "source": [
    "plt.errorbar(x, PF_obs1, xerr=1.5, yerr=Err_obs1, fmt='.k', label=\"xmm/obs1\");\n",
    "plt.errorbar(x, PF_obs2, xerr=1.5, yerr=Err_obs2, fmt='.r', label=\"xmm/obs2\");\n",
    "plt.errorbar(x, PF_obs3, xerr=2, yerr=Err_obs3, fmt='.m', label=\"xmm/obs3\");\n",
    "plt.errorbar(x, PF_obs4, xerr=5.15, yerr=Err_obs4, fmt='.c', label=\"xmm/obs4\");\n",
    "plt.xlabel('Energy')\n",
    "plt.ylabel('Pulsed Fraction (PF)')\n",
    "plt.savefig('SWJ1818_Pulsed_Fraction.pdf', bbox_inches = 'tight')\n",
    "\n",
    "plt.legend(loc='best') "
   ]
  },
  {
   "cell_type": "code",
   "execution_count": 173,
   "id": "distant-consideration",
   "metadata": {},
   "outputs": [],
   "source": [
    "file2=\"/Users/abubakribrahim/Desktop/observations/xmm-newton/SWJ1818.0-1607/timing_analysis/pulse_profile/xmm_pulsed_fraction_updated.txt\"\n",
    "Data_time=np.loadtxt(file2)"
   ]
  },
  {
   "cell_type": "code",
   "execution_count": 174,
   "id": "signal-island",
   "metadata": {},
   "outputs": [],
   "source": [
    "obs = Data_time[:,0]\n",
    "\n",
    "PF_obs11 = Data_time[:,1]\n",
    "Err_obs11 = Data_time[:,2]\n",
    "\n",
    "PF_obs22 = Data_time[:,3]\n",
    "Err_obs22 = Data_time[:,4]\n",
    "\n",
    "PF_obs33 = Data_time[:,5]\n",
    "Err_obs33 = Data_time[:,6]\n",
    "\n",
    "PF_obs44 = Data_time[:,7]\n",
    "Err_obs44 = Data_time[:,8]"
   ]
  },
  {
   "cell_type": "code",
   "execution_count": 175,
   "id": "related-footwear",
   "metadata": {},
   "outputs": [],
   "source": [
    " X2=[58923.425880, 58943.300330, 59099.840940, 59130.573240]  "
   ]
  },
  {
   "cell_type": "code",
   "execution_count": 176,
   "id": "optional-surge",
   "metadata": {},
   "outputs": [
    {
     "data": {
      "text/plain": [
       "<matplotlib.legend.Legend at 0x7fe9b91c81c0>"
      ]
     },
     "execution_count": 176,
     "metadata": {},
     "output_type": "execute_result"
    },
    {
     "data": {
      "image/png": "[encoded data removed]",
      "text/plain": [
       "<Figure size 432x288 with 1 Axes>"
      ]
     },
     "metadata": {},
     "output_type": "display_data"
    }
   ],
   "source": [
    "plt.errorbar(X2, PF_obs11, yerr=Err_obs11, fmt='.k', label=\"xmm/obs1\");\n",
    "plt.errorbar(X2, PF_obs22, yerr=Err_obs22, fmt='.r', label=\"xmm/obs2\");\n",
    "plt.errorbar(X2, PF_obs33, yerr=Err_obs33, fmt='.m', label=\"xmm/obs3\");\n",
    "plt.errorbar(X2, PF_obs44, yerr=Err_obs44, fmt='.c', label=\"xmm/obs4\");\n",
    "plt.xlabel('MJD')\n",
    "plt.ylabel('Pulsed Fraction (PF)')\n",
    "plt.savefig('SWJ1818_Pulsed_Fraction_in-time.pdf', bbox_inches = 'tight')\n",
    "\n",
    "plt.legend(loc='best') \n"
   ]
  },
  {
   "cell_type": "markdown",
   "id": "behavioral-terminology",
   "metadata": {},
   "source": [
    "## New pulsed fraction"
   ]
  },
  {
   "cell_type": "code",
   "execution_count": 177,
   "id": "distinct-aviation",
   "metadata": {},
   "outputs": [],
   "source": [
    "file_new=\"/Users/abubakribrahim/Desktop/observations/xmm-newton/SWJ1818.0-1607/timing_analysis/pulse_profile/pulse_profile_new.txt\"\n",
    "Datan=np.loadtxt(file_new)\n",
    "x1=[2.5,4,7.5]\n",
    "#1.15"
   ]
  },
  {
   "cell_type": "code",
   "execution_count": 178,
   "id": "featured-letters",
   "metadata": {},
   "outputs": [],
   "source": [
    "PF_obs1n = Datan[:,0]\n",
    "Err_obs1n = Datan[:,1]\n",
    "\n",
    "PF_obs2n = Datan[:,2]\n",
    "Err_obs2n = Datan[:,3]\n",
    "\n",
    "PF_obs3n = Datan[:,4]\n",
    "Err_obs3n = Datan[:,5]\n",
    "\n",
    "PF_obs4n = Datan[:,6]\n",
    "Err_obs4n = Datan[:,7]"
   ]
  },
  {
   "cell_type": "code",
   "execution_count": 179,
   "id": "chronic-shipping",
   "metadata": {},
   "outputs": [
    {
     "data": {
      "text/plain": [
       "array([0.74253732, 0.73104215, 0.66305161])"
      ]
     },
     "execution_count": 179,
     "metadata": {},
     "output_type": "execute_result"
    }
   ],
   "source": [
    "PF_obs2n"
   ]
  },
  {
   "cell_type": "code",
   "execution_count": 180,
   "id": "generous-samuel",
   "metadata": {},
   "outputs": [
    {
     "data": {
      "text/plain": [
       "<matplotlib.legend.Legend at 0x7fe9b9421e20>"
      ]
     },
     "execution_count": 180,
     "metadata": {},
     "output_type": "execute_result"
    },
    {
     "data": {
      "image/png": "[encoded data removed]",
      "text/plain": [
       "<Figure size 432x288 with 1 Axes>"
      ]
     },
     "metadata": {},
     "output_type": "display_data"
    }
   ],
   "source": [
    "plt.errorbar(x1, PF_obs1n, xerr=1.7, yerr=Err_obs1n, fmt='^k', label=\"xmm/obs1\")#,\n",
    "            #fillstyle = 'none',linestyle='-',  mec='k', mew = 5, ms=5);\n",
    "plt.errorbar(x1, PF_obs2n, xerr=1, yerr=Err_obs2n, fmt='sr', label=\"xmm/obs2\"),\n",
    "          #  fillstyle = 'none',linestyle='-',  mec='r', mew = 5, ms=3);\n",
    "plt.errorbar(x1, PF_obs3n, xerr=2, yerr=Err_obs3n, fmt='Dg', label=\"xmm/obs3\"),\n",
    "      #      fillstyle = 'none',linestyle='-',  mec='g', mew = 5, ms=3);\n",
    "plt.errorbar(x1, PF_obs4n, xerr=5, yerr=Err_obs4n, fmt='vb', label=\"xmm/obs4\"),\n",
    "      #      fillstyle = 'none',linestyle='-',  mec='b', mew = 5, ms=3);\n",
    "plt.xlabel('Energy')\n",
    "plt.ylabel('Pulsed Fraction (PF)')\n",
    "plt.savefig('SWJ1818_Pulsed_Fraction_new.pdf', bbox_inches = 'tight')\n",
    "\n",
    "plt.legend(loc='best') "
   ]
  },
  {
   "cell_type": "markdown",
   "id": "advanced-pakistan",
   "metadata": {},
   "source": []
  },
  {
   "cell_type": "markdown",
   "id": "serial-sweet",
   "metadata": {},
   "source": [
    "#  Manually calculating the PF"
   ]
  },
  {
   "cell_type": "markdown",
   "id": "spoken-bristol",
   "metadata": {},
   "source": [
    "## 1- Read the max and min from the data file i.e. .qdp"
   ]
  },
  {
   "cell_type": "code",
   "execution_count": 181,
   "id": "municipal-tablet",
   "metadata": {},
   "outputs": [],
   "source": [
    "#Reading the data\n",
    "f = \"/Users/abubakribrahim/Desktop/observations/xmm-newton/SWJ1818.0-1607/timing_analysis/pulse_profile/1801/new/PNclean_barry_source_filtered_0.3-10kev_0823591801_alice_command.qdp\"\n",
    "Dat = np.loadtxt(f)\n",
    "ph = Dat[:,0]\n",
    "bin_simi= Dat[:,1]\n",
    "intens = Dat[:,2]\n",
    "model_normalization = Dat[:,3]"
   ]
  },
  {
   "cell_type": "code",
   "execution_count": 182,
   "id": "difficult-florence",
   "metadata": {},
   "outputs": [
    {
     "name": "stdout",
     "output_type": "stream",
     "text": [
      "0.534060955 0.0245875884\n",
      "0.639361084 0.0268115662\n",
      "0.763115942 0.0292096622\n",
      "1.06924617 0.0344315246\n",
      "1.08335865 0.0346532837\n",
      "1.3286972 0.0383038074\n",
      "1.68251979 0.0430255905\n",
      "1.68032467 0.0429975875\n",
      "1.78561902 0.0443067737\n",
      "1.44146073 0.0398678705\n",
      "0.949723423 0.0324909203\n",
      "0.649055064 0.02700557\n",
      "0.665364504 0.0273319241\n",
      "0.62088865 0.026434591\n",
      "0.550344467 0.0249444675\n",
      "0.556857884 0.0250857957\n",
      "0.534060955 0.0245875884\n",
      "0.639361084 0.0268115662\n",
      "0.763115942 0.0292096622\n",
      "1.06924617 0.0344315246\n",
      "1.08335865 0.0346532837\n",
      "1.3286972 0.0383038074\n",
      "1.68251979 0.0430255905\n",
      "1.68032467 0.0429975875\n",
      "1.78561902 0.0443067737\n",
      "1.44146073 0.0398678705\n",
      "0.949723423 0.0324909203\n",
      "0.649055064 0.02700557\n",
      "0.665364504 0.0273319241\n",
      "0.62088865 0.026434591\n",
      "0.550344467 0.0249444675\n",
      "0.556857884 0.0250857957\n"
     ]
    }
   ],
   "source": [
    "res = \"\\n\".join(\"{} {}\".format(x, y) for x, y in zip(intens, model_normalization))\n",
    "print(res)"
   ]
  },
  {
   "cell_type": "markdown",
   "id": "considerable-neighborhood",
   "metadata": {},
   "source": [
    "## 2- calculate the PF"
   ]
  },
  {
   "cell_type": "code",
   "execution_count": 183,
   "id": "magnetic-video",
   "metadata": {},
   "outputs": [
    {
     "data": {
      "text/plain": [
       "0.5395391081909909"
      ]
     },
     "execution_count": 183,
     "metadata": {},
     "output_type": "execute_result"
    }
   ],
   "source": [
    "ints_max1 = 1.78561902  \n",
    "ints_min1 = 0.534060955\n",
    "\n",
    "PF_min_max1 = (ints_max1 - ints_min1)/ (ints_max1 + ints_min1)\n",
    "\n",
    "PF_min_max1"
   ]
  },
  {
   "cell_type": "markdown",
   "id": "grateful-script",
   "metadata": {},
   "source": [
    "## 3- Add this value to a file \"pulsed_fraction_max_min_03-3_3-5_5-10kev.txt\""
   ]
  },
  {
   "cell_type": "markdown",
   "id": "plain-persian",
   "metadata": {},
   "source": [
    "## 4- Calculation of the PF uncirtunities"
   ]
  },
  {
   "cell_type": "markdown",
   "id": "suffering-satisfaction",
   "metadata": {},
   "source": [
    "\n",
    "\\begin{equation}\n",
    "PF = \\frac{(F_{max}-F_{min})}{(F_{max}+F_{min})}\n",
    "\\end{equation}\n",
    "\n",
    "\\begin{equation}\n",
    "dPF = \\sqrt{ (\\frac{dPF}{dF_{max}})^2 dF_{max}^2  + (\\frac{dPF}{dF_{min}})^2 dF_{min}^2}\n",
    "\\end{equation}\n",
    "\n",
    "\\begin{equation}\n",
    "\\frac{dPF}{dF_{max}} = \\frac{1}{(F_{max} + F_{min})}  - \\frac{(F_{max}-F_{min})}{(F_{max}+F_{min})^2} \n",
    "\\end{equation}\n",
    "\n",
    "\n",
    "\\begin{equation}\n",
    "\\frac{dPF}{dF_{min}} = -\\frac{1}{(F_{max} + F_{min})}  - \\frac{(F_{max}-F_{min})}{(F_{max}+F_{min})^2} \n",
    "\\end{equation}"
   ]
  },
  {
   "cell_type": "markdown",
   "id": "ecological-january",
   "metadata": {},
   "source": [
    "## 4(a)- check error of first an indivdual value of PF"
   ]
  },
  {
   "cell_type": "code",
   "execution_count": 184,
   "id": "dated-traffic",
   "metadata": {},
   "outputs": [],
   "source": [
    "F_max = 1.78561902 \n",
    "dF_max = 0.0443067737 \n",
    "\n",
    "\n",
    "F_min = 0.534060955  \n",
    "dF_min = 0.0245875884 \n",
    "\n",
    "    "
   ]
  },
  {
   "cell_type": "code",
   "execution_count": 185,
   "id": "sunset-blake",
   "metadata": {},
   "outputs": [
    {
     "data": {
      "text/plain": [
       "0.018537612420959998"
      ]
     },
     "execution_count": 185,
     "metadata": {},
     "output_type": "execute_result"
    }
   ],
   "source": [
    "# Another way to semplfy the estimation of the  PF error\n",
    "pulsef = ((2*F_max*F_min)/(F_max+F_min)**2)* (np.sqrt( (dF_max**2/F_max**2)  + (dF_min**2/F_min**2) ))\n",
    "\n",
    "pulsef"
   ]
  },
  {
   "cell_type": "code",
   "execution_count": 186,
   "id": "occupied-queen",
   "metadata": {},
   "outputs": [],
   "source": [
    "dPF_dfmax = ( 1/(F_max+F_min) ) -  ( (F_max-F_min)/(F_max+F_min)**2 )"
   ]
  },
  {
   "cell_type": "code",
   "execution_count": 187,
   "id": "boxed-experiment",
   "metadata": {},
   "outputs": [],
   "source": [
    "dPF_dfmin = - ( 1/(F_max+F_min) ) -  ( (F_max-F_min)/(F_max+F_min)**2 )"
   ]
  },
  {
   "cell_type": "code",
   "execution_count": 188,
   "id": "identical-thailand",
   "metadata": {},
   "outputs": [],
   "source": [
    "dPF = np.sqrt( (dPF_dfmax**2)*dF_max**2 + (dPF_dfmin**2)*dF_min**2 )"
   ]
  },
  {
   "cell_type": "code",
   "execution_count": 189,
   "id": "eight-bandwidth",
   "metadata": {},
   "outputs": [
    {
     "data": {
      "text/plain": [
       "0.018537612420959994"
      ]
     },
     "execution_count": 189,
     "metadata": {},
     "output_type": "execute_result"
    }
   ],
   "source": [
    "dPF"
   ]
  },
  {
   "cell_type": "markdown",
   "id": "unusual-diploma",
   "metadata": {},
   "source": [
    "## 4(b)- calculate the error from a table  (intensity_min_max_03-3_3-5_5-10kev_to-get_PFerror.txt)"
   ]
  },
  {
   "cell_type": "code",
   "execution_count": 190,
   "id": "preliminary-somerset",
   "metadata": {},
   "outputs": [],
   "source": [
    "file_err=\"/Users/abubakribrahim/Desktop/observations/xmm-newton/SWJ1818.0-1607/timing_analysis/pulse_profile/intensity_min_max_03-3_3-5_5-10kev_to-get_PFerror.txt\"\n",
    "Datamm_err=np.loadtxt(file_err)\n",
    "x_mm_Energy_error=[1.65,4,7.5]"
   ]
  },
  {
   "cell_type": "code",
   "execution_count": 191,
   "id": "capital-shakespeare",
   "metadata": {},
   "outputs": [],
   "source": [
    "F_max = Datamm_err[:,0]\n",
    "dF_max = Datamm_err[:,1]\n",
    "\n",
    "\n",
    "F_min = Datamm_err[:,2]\n",
    "dF_min = Datamm_err[:,3]"
   ]
  },
  {
   "cell_type": "code",
   "execution_count": 192,
   "id": "popular-minnesota",
   "metadata": {},
   "outputs": [
    {
     "data": {
      "text/plain": [
       "array([1.64361906, 1.77779543, 1.87624359])"
      ]
     },
     "execution_count": 192,
     "metadata": {},
     "output_type": "execute_result"
    }
   ],
   "source": [
    "F_max"
   ]
  },
  {
   "cell_type": "code",
   "execution_count": 193,
   "id": "driven-brisbane",
   "metadata": {},
   "outputs": [],
   "source": [
    "dPF_dfmax = ( 1/(F_max+F_min) ) -  ( (F_max-F_min)/(F_max+F_min)**2 )"
   ]
  },
  {
   "cell_type": "code",
   "execution_count": 194,
   "id": "heavy-trinidad",
   "metadata": {},
   "outputs": [],
   "source": [
    "dPF_dfmin = - ( 1/(F_max+F_min) ) -  ( (F_max-F_min)/(F_max+F_min)**2 )"
   ]
  },
  {
   "cell_type": "code",
   "execution_count": 195,
   "id": "unnecessary-happiness",
   "metadata": {},
   "outputs": [],
   "source": [
    "dPF = np.sqrt( (dPF_dfmax**2)*dF_max**2 + (dPF_dfmin**2)*dF_min**2 )"
   ]
  },
  {
   "cell_type": "code",
   "execution_count": 196,
   "id": "consecutive-reception",
   "metadata": {},
   "outputs": [
    {
     "data": {
      "text/plain": [
       "array([0.05855634, 0.02565905, 0.02932284])"
      ]
     },
     "execution_count": 196,
     "metadata": {},
     "output_type": "execute_result"
    }
   ],
   "source": [
    "dPF"
   ]
  },
  {
   "cell_type": "code",
   "execution_count": null,
   "id": "sorted-gambling",
   "metadata": {},
   "outputs": [],
   "source": []
  },
  {
   "cell_type": "code",
   "execution_count": 197,
   "id": "obvious-tribute",
   "metadata": {},
   "outputs": [],
   "source": [
    "F_max2 = Datamm_err[:,4]\n",
    "dF_max2 = Datamm_err[:,5]\n",
    "\n",
    "\n",
    "F_min2 = Datamm_err[:,6]\n",
    "dF_min2 = Datamm_err[:,7]"
   ]
  },
  {
   "cell_type": "code",
   "execution_count": 198,
   "id": "tribal-grammar",
   "metadata": {},
   "outputs": [],
   "source": [
    "dPF_dfmax2 = ( 1/(F_max2+F_min2) ) -  ( (F_max2-F_min2)/(F_max2+F_min2)**2 )"
   ]
  },
  {
   "cell_type": "code",
   "execution_count": 199,
   "id": "religious-warner",
   "metadata": {},
   "outputs": [],
   "source": [
    "dPF_dfmin2 = - ( 1/(F_max2+F_min2) ) -  ( (F_max2-F_min2)/(F_max2+F_min2)**2 )"
   ]
  },
  {
   "cell_type": "code",
   "execution_count": 200,
   "id": "angry-prerequisite",
   "metadata": {},
   "outputs": [],
   "source": [
    "dPF2 = np.sqrt( (dPF_dfmax2**2)*dF_max2**2 + (dPF_dfmin2**2)*dF_min2**2 )"
   ]
  },
  {
   "cell_type": "code",
   "execution_count": 201,
   "id": "stupid-victoria",
   "metadata": {},
   "outputs": [
    {
     "data": {
      "text/plain": [
       "array([0.08903549, 0.03142037, 0.03694437])"
      ]
     },
     "execution_count": 201,
     "metadata": {},
     "output_type": "execute_result"
    }
   ],
   "source": [
    "dPF2"
   ]
  },
  {
   "cell_type": "code",
   "execution_count": 202,
   "id": "ideal-timothy",
   "metadata": {},
   "outputs": [],
   "source": [
    "F_max3 = Datamm_err[:,8]\n",
    "dF_max3 = Datamm_err[:,9]\n",
    "\n",
    "\n",
    "F_min3 = Datamm_err[:,10]\n",
    "dF_min3 = Datamm_err[:,11]"
   ]
  },
  {
   "cell_type": "code",
   "execution_count": 203,
   "id": "insured-radiation",
   "metadata": {},
   "outputs": [],
   "source": [
    "dPF_dfmax3 = ( 1/(F_max3+F_min3) ) -  ( (F_max3-F_min3)/(F_max3+F_min3)**2 )\n",
    "\n",
    "dPF_dfmin3 = - ( 1/(F_max3+F_min3) ) -  ( (F_max3-F_min3)/(F_max3+F_min3)**2 )\n",
    "\n",
    "dPF3 = np.sqrt( (dPF_dfmax3**2)*dF_max3**2 + (dPF_dfmin3**2)*dF_min3**2 )"
   ]
  },
  {
   "cell_type": "code",
   "execution_count": 204,
   "id": "temporal-pioneer",
   "metadata": {},
   "outputs": [
    {
     "data": {
      "text/plain": [
       "array([0.07920997, 0.03892009, 0.03934744])"
      ]
     },
     "execution_count": 204,
     "metadata": {},
     "output_type": "execute_result"
    }
   ],
   "source": [
    "dPF3"
   ]
  },
  {
   "cell_type": "code",
   "execution_count": 205,
   "id": "rocky-craft",
   "metadata": {},
   "outputs": [],
   "source": [
    "F_max4 = Datamm_err[:,12]\n",
    "dF_max4 = Datamm_err[:,13]\n",
    "\n",
    "\n",
    "F_min4 = Datamm_err[:,14]\n",
    "dF_min4 = Datamm_err[:,15]"
   ]
  },
  {
   "cell_type": "code",
   "execution_count": 206,
   "id": "coated-spirituality",
   "metadata": {},
   "outputs": [],
   "source": [
    "dPF_dfmax4 = ( 1/(F_max4+F_min4) ) -  ( (F_max4-F_min4)/(F_max4+F_min4)**2 )\n",
    "\n",
    "dPF_dfmin4 = - ( 1/(F_max4+F_min4) ) -  ( (F_max4-F_min4)/(F_max4+F_min4)**2 )\n",
    "\n",
    "dPF4 = np.sqrt( (dPF_dfmax4**2)*dF_max4**2 + (dPF_dfmin4**2)*dF_min4**2 )"
   ]
  },
  {
   "cell_type": "code",
   "execution_count": 207,
   "id": "ignored-injury",
   "metadata": {},
   "outputs": [
    {
     "data": {
      "text/plain": [
       "array([0.12766052, 0.03509955, 0.06127203])"
      ]
     },
     "execution_count": 207,
     "metadata": {},
     "output_type": "execute_result"
    }
   ],
   "source": [
    "dPF4"
   ]
  },
  {
   "cell_type": "code",
   "execution_count": null,
   "id": "suspected-preparation",
   "metadata": {},
   "outputs": [],
   "source": []
  },
  {
   "cell_type": "code",
   "execution_count": 208,
   "id": "wired-harmony",
   "metadata": {},
   "outputs": [
    {
     "data": {
      "text/plain": [
       "(array([2.05629992, 1.8911984 , 2.23769212]),\n",
       " array([0.17248362, 0.04423598, 0.08487605]))"
      ]
     },
     "execution_count": 208,
     "metadata": {},
     "output_type": "execute_result"
    }
   ],
   "source": [
    "F_max4, dF_min4"
   ]
  },
  {
   "cell_type": "markdown",
   "id": "known-sweden",
   "metadata": {},
   "source": [
    "## 5- PF plotting\n",
    "\n",
    "## 5(a) read the PF from the table"
   ]
  },
  {
   "cell_type": "code",
   "execution_count": 209,
   "id": "protective-sunday",
   "metadata": {},
   "outputs": [],
   "source": [
    "file_mm=\"/Users/abubakribrahim/Desktop/observations/xmm-newton/SWJ1818.0-1607/timing_analysis/pulse_profile/pulsed_fraction_max_min_03-3_3-5_5-10kev..txt\"\n",
    "Datamm=np.loadtxt(file_mm)\n",
    "x_mm_Energy=[1.65,4,7.5]"
   ]
  },
  {
   "cell_type": "code",
   "execution_count": 210,
   "id": "touched-basket",
   "metadata": {},
   "outputs": [],
   "source": [
    "PF1_max_min = Datamm[:,0]\n",
    "Err_obs1mm = Datamm[:,1]\n",
    "\n",
    "PF2_max_min = Datamm[:,2]\n",
    "Err_obs2mm = Datamm[:,3]\n",
    "\n",
    "PF3_max_min = Datamm[:,4]\n",
    "Err_obs3mm = Datamm[:,5]\n",
    "\n",
    "PF4_max_min = Datamm[:,6]\n",
    "Err_obs4mm = Datamm[:,7]"
   ]
  },
  {
   "cell_type": "code",
   "execution_count": 211,
   "id": "pending-retention",
   "metadata": {},
   "outputs": [
    {
     "data": {
      "image/png": "[encoded data removed]",
      "text/plain": [
       "<Figure size 432x288 with 1 Axes>"
      ]
     },
     "metadata": {},
     "output_type": "display_data"
    }
   ],
   "source": [
    "plt.errorbar(x_mm_Energy , PF1_max_min, xerr=0.85, yerr=Err_obs1mm, fmt='^k', label=\"xmm/obs1\",\n",
    "            fillstyle = 'none',linestyle='-',  mec='k', mew = 3, ms=3);\n",
    "plt.errorbar(x_mm_Energy , PF2_max_min, xerr=0.5, yerr=Err_obs2mm, fmt='sr', label=\"xmm/obs2\",\n",
    "          fillstyle = 'none',linestyle='-',  mec='r', mew = 3, ms=3);\n",
    "plt.errorbar(x_mm_Energy , PF3_max_min, xerr=1, yerr=Err_obs3mm, fmt='Db', label=\"xmm/obs3\",\n",
    "           fillstyle = 'none',linestyle='-',  mec='b', mew = 3, ms=3);\n",
    "plt.errorbar(x_mm_Energy , PF4_max_min, xerr=2.5,  yerr=Err_obs4mm, fmt='vg', label=\"xmm/obs4\",\n",
    "           fillstyle = 'none',linestyle='-',  mec='g', mew = 3, ms=3); \n",
    "plt.xlabel('Energy')\n",
    "plt.ylabel('Pulsed Fraction (PF)')\n",
    "plt.legend(loc='upper right') \n",
    "plt.savefig('SWJ1818_Pulsed_Fraction_max-min.pdf', bbox_inches = 'tight')\n",
    "\n"
   ]
  },
  {
   "cell_type": "code",
   "execution_count": null,
   "id": "improving-blowing",
   "metadata": {},
   "outputs": [],
   "source": []
  },
  {
   "cell_type": "code",
   "execution_count": 212,
   "id": "labeled-facial",
   "metadata": {},
   "outputs": [],
   "source": [
    "yuplims=Err_obs2mm[1]"
   ]
  },
  {
   "cell_type": "code",
   "execution_count": 213,
   "id": "massive-planning",
   "metadata": {},
   "outputs": [
    {
     "ename": "NameError",
     "evalue": "name 'uplims' is not defined",
     "output_type": "error",
     "traceback": [
      "\u001b[0;31m---------------------------------------------------------------------------\u001b[0m",
      "\u001b[0;31mNameError\u001b[0m                                 Traceback (most recent call last)",
      "\u001b[0;32m<ipython-input-213-b46428483138>\u001b[0m in \u001b[0;36m<module>\u001b[0;34m\u001b[0m\n\u001b[1;32m      1\u001b[0m \u001b[0;31m# mock up some limits by modifying previous data\u001b[0m\u001b[0;34m\u001b[0m\u001b[0;34m\u001b[0m\u001b[0;34m\u001b[0m\u001b[0m\n\u001b[1;32m      2\u001b[0m \u001b[0;31m#xlolims = lolims\u001b[0m\u001b[0;34m\u001b[0m\u001b[0;34m\u001b[0m\u001b[0;34m\u001b[0m\u001b[0m\n\u001b[0;32m----> 3\u001b[0;31m \u001b[0myuplims\u001b[0m \u001b[0;34m=\u001b[0m \u001b[0muplims\u001b[0m\u001b[0;34m\u001b[0m\u001b[0;34m\u001b[0m\u001b[0m\n\u001b[0m\u001b[1;32m      4\u001b[0m \u001b[0mlolims\u001b[0m \u001b[0;34m=\u001b[0m \u001b[0mnp\u001b[0m\u001b[0;34m.\u001b[0m\u001b[0mzeros_like\u001b[0m\u001b[0;34m(\u001b[0m\u001b[0mx\u001b[0m\u001b[0;34m)\u001b[0m\u001b[0;34m\u001b[0m\u001b[0;34m\u001b[0m\u001b[0m\n\u001b[1;32m      5\u001b[0m \u001b[0muplims\u001b[0m \u001b[0;34m=\u001b[0m \u001b[0mnp\u001b[0m\u001b[0;34m.\u001b[0m\u001b[0mzeros_like\u001b[0m\u001b[0;34m(\u001b[0m\u001b[0mx\u001b[0m\u001b[0;34m)\u001b[0m\u001b[0;34m\u001b[0m\u001b[0;34m\u001b[0m\u001b[0m\n",
      "\u001b[0;31mNameError\u001b[0m: name 'uplims' is not defined"
     ]
    }
   ],
   "source": [
    "# mock up some limits by modifying previous data\n",
    "#xlolims = lolims\n",
    "yuplims = uplims\n",
    "lolims = np.zeros_like(x)\n",
    "uplims = np.zeros_like(x)\n",
    "#lolims[[6]] = True  # only limited at this index\n",
    "uplims[[1]] = True  # only limited at this index"
   ]
  },
  {
   "cell_type": "code",
   "execution_count": null,
   "id": "guided-notebook",
   "metadata": {},
   "outputs": [],
   "source": [
    "uplims"
   ]
  },
  {
   "cell_type": "code",
   "execution_count": null,
   "id": "minor-natural",
   "metadata": {},
   "outputs": [],
   "source": []
  }
 ],
 "metadata": {
  "kernelspec": {
   "display_name": "Python 3",
   "language": "python",
   "name": "python3"
  },
  "language_info": {
   "codemirror_mode": {
    "name": "ipython",
    "version": 3
   },
   "file_extension": ".py",
   "mimetype": "text/x-python",
   "name": "python",
   "nbconvert_exporter": "python",
   "pygments_lexer": "ipython3",
   "version": "3.8.5"
  }
 },
 "nbformat": 4,
 "nbformat_minor": 5
}
