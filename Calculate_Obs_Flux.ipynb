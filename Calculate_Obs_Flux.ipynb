{
 "cells": [
  {
   "cell_type": "code",
   "execution_count": 1,
   "metadata": {},
   "outputs": [
    {
     "name": "stdout",
     "output_type": "stream",
     "text": [
      "/Users/abubakribrahim/Desktop/observations/scripts\r\n"
     ]
    }
   ],
   "source": [
    "import matplotlib.pyplot as plt\n",
    "import numpy as np\n",
    "import sys\n",
    "import math\n",
    "import numpy as np\n",
    "from astropy.time import Time\n",
    "\n",
    "!pwd"
   ]
  },
  {
   "cell_type": "code",
   "execution_count": 2,
   "metadata": {},
   "outputs": [],
   "source": [
    "#Reading the data\n",
    "\n",
    "\n",
    "#file= 'xmm-nustar_J1818_obs-flux.dat'\n",
    "file= 'xmm-nustar_sgr1935_absorbed_flux.dat'\n",
    "\n",
    "Data = np.loadtxt(file)\n",
    "\n",
    "\n",
    "MJD = Data[:,0]\n",
    "log10F = Data[:,1]\n",
    "log10F_lower_error = Data[:,2]\n",
    "log10F_upper_error = Data[:,3]\n",
    "obs_name = Data[:,4]"
   ]
  },
  {
   "cell_type": "code",
   "execution_count": null,
   "metadata": {},
   "outputs": [],
   "source": []
  },
  {
   "cell_type": "code",
   "execution_count": 3,
   "metadata": {},
   "outputs": [
    {
     "name": "stdout",
     "output_type": "stream",
     "text": [
      "### Initial flux values:\n",
      " [1.26240876e-11 1.04857621e-11]\n"
     ]
    }
   ],
   "source": [
    "# get the mjd from \"datetime.ipynb\", get the everage (start+end)/2\n",
    "# To calculate the fux obtained from xspec 10e*flux\n",
    "\n",
    "Flux = 10**log10F\n",
    "print('### Initial flux values:\\n', Flux)"
   ]
  },
  {
   "cell_type": "code",
   "execution_count": 6,
   "metadata": {},
   "outputs": [
    {
     "name": "stdout",
     "output_type": "stream",
     "text": [
      "### initial lower error of the flux:\n",
      " [-10.9049 -10.9864]\n",
      "### initial upper error of the flux:\n",
      " [-10.8927 -10.9724]\n"
     ]
    }
   ],
   "source": [
    "print('### initial lower error of the flux:\\n', log10F_lower_error)\n",
    "print('### initial upper error of the flux:\\n', log10F_upper_error)"
   ]
  },
  {
   "cell_type": "code",
   "execution_count": 8,
   "metadata": {},
   "outputs": [
    {
     "name": "stdout",
     "output_type": "stream",
     "text": [
      "### natural lower error of the flux:\n",
      " [1.24480120e-11 1.03181064e-11]\n",
      "### natural upper error of the flux:\n",
      " [1.28026537e-11 1.06561420e-11]\n"
     ]
    }
   ],
   "source": [
    "# Get the natuaral logrithm for the flux uncertunity\n",
    "\n",
    "print('### natural lower error of the flux:\\n',10**log10F_lower_error)\n",
    "print('### natural upper error of the flux:\\n',10**log10F_upper_error)"
   ]
  },
  {
   "cell_type": "code",
   "execution_count": 12,
   "metadata": {},
   "outputs": [],
   "source": [
    "# Get the natuaral logrithm for the flux uncertunity\n",
    "#Flux_lower = Flux * 10**log10F_lower_error\n",
    "#Flux_upper = Flux * 10**log10F_upper_error\n",
    "\n",
    "Flux_lower = 10**log10F_lower_error\n",
    "Flux_upper = 10**log10F_upper_error\n",
    "\n",
    "#print('### Lower value of the flux :\\n', f_unc_lower)\n",
    "#print('### Upper value of the flux :\\n', f_unc_upper)\n",
    "\n"
   ]
  },
  {
   "cell_type": "code",
   "execution_count": 13,
   "metadata": {},
   "outputs": [
    {
     "name": "stdout",
     "output_type": "stream",
     "text": [
      "### flux of the lower error:\n",
      " [1.76075566e-13 1.67655741e-13]\n",
      "### flux of the upper error:\n",
      " [1.78566133e-13 1.70379928e-13]\n"
     ]
    }
   ],
   "source": [
    "Error_lower = Flux - Flux_lower\n",
    "Error_upper = Flux_upper - Flux  \n",
    "\n",
    "print('### flux of the lower error:\\n', Error_lower)\n",
    "print('### flux of the upper error:\\n', Error_upper)\n"
   ]
  },
  {
   "cell_type": "code",
   "execution_count": 49,
   "metadata": {},
   "outputs": [
    {
     "data": {
      "image/png": "[encoded data removed]",
      "text/plain": [
       "<Figure size 432x288 with 1 Axes>"
      ]
     },
     "metadata": {
      "needs_background": "light"
     },
     "output_type": "display_data"
    }
   ],
   "source": [
    "label = obs_name\n",
    "#Flux Plot\n",
    "plt.figure()\n",
    "plt.xlabel(\"Time [MJD]\")\n",
    "plt.ylabel(r\"Flux [erg cm$^{-2}$s$^{-1}$]\")\n",
    "plt.title(\"Absorbed flux\")\n",
    "plt.errorbar(MJD, Flux, yerr=[Error_lower,Error_upper], fmt='.k', ecolor='black', marker='o')# elinewidth=1,  mfc='k')\n",
    "plt.gca().set_yscale('log')\n",
    "plt.grid(which='both')\n",
    "#plt.legend(p, label)\n",
    "\n",
    "plt.savefig(\"xmm-nustar_J1818_obs-flux.png\")\n",
    "plt.show()"
   ]
  },
  {
   "cell_type": "code",
   "execution_count": 47,
   "metadata": {},
   "outputs": [
    {
     "name": "stdout",
     "output_type": "stream",
     "text": [
      "### Best Luminosity:\n",
      " [3.89397742e-06 3.14770069e-06 2.60791498e-06 2.23920280e-06\n",
      " 1.73098550e-06 1.23763741e-06 1.14549561e-06]\n",
      "### Luminosity with lower uncertunities:\n",
      " [3.89396341e-06 3.14768937e-06 2.60790567e-06 2.23919528e-06\n",
      " 1.73097941e-06 1.23763297e-06 1.14549152e-06]\n",
      "### Luminosity with upper uncertunities:\n",
      " [-3.89396319e-06 -3.14768917e-06 -2.60790537e-06 -2.23919413e-06\n",
      " -1.73097903e-06 -1.23763287e-06 -1.14549139e-06]\n"
     ]
    }
   ],
   "source": [
    "#======================================================\n",
    "\t\t# Calculate the luminosity\n",
    "#======================================================\n",
    "dpc = 4.8 #kpc\n",
    "d = 1.4811252391159E+2 #units\n",
    "L_best = 4 * np.pi * Flux * d**2\n",
    "print('### Best Luminosity:\\n', L_best)\n",
    "\n",
    "L_lower = L_best - Flux_lower \n",
    "L_upper = Flux_upper - L_best\n",
    "\n",
    "print('### Luminosity with lower uncertunities:\\n', L_lower)\n",
    "print('### Luminosity with upper uncertunities:\\n', L_upper)"
   ]
  },
  {
   "cell_type": "code",
   "execution_count": 50,
   "metadata": {},
   "outputs": [
    {
     "data": {
      "image/png": "[encoded data removed]",
      "text/plain": [
       "<Figure size 432x288 with 1 Axes>"
      ]
     },
     "metadata": {
      "needs_background": "light"
     },
     "output_type": "display_data"
    }
   ],
   "source": [
    "#Plot\n",
    "plt.figure()\n",
    "plt.xlabel(\"Time [MJD]\")\n",
    "plt.ylabel(r\"Luminosity [erg s$^{-1}$]\")\n",
    "plt.title(\"Luminosity\")\n",
    "plt.errorbar(MJD, L_best, yerr=[L_lower,L_upper], fmt='.k', ecolor='black')# elinewidth=5,  mfc='k')\n",
    "#plt.gca().set_yscale('log')\n",
    "plt.grid(which='both')\n",
    "plt.savefig(\"xmm-nustar_J1818_obs-flux_luminosity_.png\")\n",
    "plt.show()\n",
    "\n"
   ]
  },
  {
   "cell_type": "code",
   "execution_count": 10,
   "metadata": {},
   "outputs": [
    {
     "name": "stdout",
     "output_type": "stream",
     "text": [
      "/Users/abubakribrahim/Desktop/observations/scripts\r\n"
     ]
    }
   ],
   "source": [
    "!pwd\n"
   ]
  },
  {
   "cell_type": "code",
   "execution_count": 11,
   "metadata": {},
   "outputs": [
    {
     "ename": "NameError",
     "evalue": "name 'name' is not defined",
     "output_type": "error",
     "traceback": [
      "\u001b[0;31m---------------------------------------------------------------------------\u001b[0m",
      "\u001b[0;31mNameError\u001b[0m                                 Traceback (most recent call last)",
      "\u001b[0;32m<ipython-input-11-64974ac60659>\u001b[0m in \u001b[0;36m<module>\u001b[0;34m\u001b[0m\n\u001b[0;32m----> 1\u001b[0;31m \u001b[0mMJD\u001b[0m \u001b[0;34m=\u001b[0m \u001b[0mnp\u001b[0m\u001b[0;34m.\u001b[0m\u001b[0marray\u001b[0m\u001b[0;34m(\u001b[0m\u001b[0mname\u001b[0m\u001b[0;34m[\u001b[0m\u001b[0;34m:\u001b[0m\u001b[0;34m,\u001b[0m\u001b[0;36m0\u001b[0m\u001b[0;34m]\u001b[0m\u001b[0;34m)\u001b[0m\u001b[0;34m\u001b[0m\u001b[0;34m\u001b[0m\u001b[0m\n\u001b[0m\u001b[1;32m      2\u001b[0m \u001b[0mDM\u001b[0m \u001b[0;34m=\u001b[0m \u001b[0mnp\u001b[0m\u001b[0;34m.\u001b[0m\u001b[0marray\u001b[0m\u001b[0;34m(\u001b[0m\u001b[0mname\u001b[0m\u001b[0;34m[\u001b[0m\u001b[0;34m:\u001b[0m\u001b[0;34m,\u001b[0m\u001b[0;36m1\u001b[0m\u001b[0;34m]\u001b[0m\u001b[0;34m)\u001b[0m\u001b[0;34m\u001b[0m\u001b[0;34m\u001b[0m\u001b[0m\n\u001b[1;32m      3\u001b[0m \u001b[0mDM_err\u001b[0m \u001b[0;34m=\u001b[0m \u001b[0mnp\u001b[0m\u001b[0;34m.\u001b[0m\u001b[0marray\u001b[0m\u001b[0;34m(\u001b[0m\u001b[0mname\u001b[0m\u001b[0;34m[\u001b[0m\u001b[0;34m:\u001b[0m\u001b[0;34m,\u001b[0m\u001b[0;36m2\u001b[0m\u001b[0;34m]\u001b[0m\u001b[0;34m)\u001b[0m\u001b[0;34m\u001b[0m\u001b[0;34m\u001b[0m\u001b[0m\n",
      "\u001b[0;31mNameError\u001b[0m: name 'name' is not defined"
     ]
    }
   ],
   "source": [
    "MJD = np.array(name[:,0])\n",
    "DM = np.array(name[:,1])\n",
    "DM_err = np.array(name[:,2])"
   ]
  },
  {
   "cell_type": "code",
   "execution_count": null,
   "metadata": {},
   "outputs": [],
   "source": []
  },
  {
   "cell_type": "code",
   "execution_count": null,
   "metadata": {},
   "outputs": [],
   "source": []
  }
 ],
 "metadata": {
  "anaconda-cloud": {},
  "kernelspec": {
   "display_name": "Python 3",
   "language": "python",
   "name": "python3"
  },
  "language_info": {
   "codemirror_mode": {
    "name": "ipython",
    "version": 3
   },
   "file_extension": ".py",
   "mimetype": "text/x-python",
   "name": "python",
   "nbconvert_exporter": "python",
   "pygments_lexer": "ipython3",
   "version": "3.8.5"
  }
 },
 "nbformat": 4,
 "nbformat_minor": 4
}
