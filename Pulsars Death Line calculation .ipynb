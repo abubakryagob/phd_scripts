{
 "cells": [
  {
   "cell_type": "code",
   "execution_count": 6,
   "id": "becoming-manual",
   "metadata": {},
   "outputs": [],
   "source": [
    "import numpy as np"
   ]
  },
  {
   "cell_type": "code",
   "execution_count": 7,
   "id": "changing-inspection",
   "metadata": {},
   "outputs": [],
   "source": [
    "m= 9.1094e-28\n",
    "c= 2.99792458e10\n",
    "e= 4.8032e-10\n",
    "h= 1.0546e-27\n",
    "R= 1e6\n",
    "Bs=2e13"
   ]
  },
  {
   "cell_type": "code",
   "execution_count": 8,
   "id": "general-equality",
   "metadata": {},
   "outputs": [
    {
     "data": {
      "text/plain": [
       "17.5"
      ]
     },
     "execution_count": 8,
     "metadata": {},
     "output_type": "execute_result"
    }
   ],
   "source": [
    "35/2"
   ]
  },
  {
   "cell_type": "markdown",
   "id": "sustainable-wireless",
   "metadata": {},
   "source": [
    "$$ B^4_p P^{-7.5} = \\frac{16 m^6 c^{17.5}}{15 h^2 e^4 (2pi)^{7.5} R^{9.5} }$$"
   ]
  },
  {
   "cell_type": "code",
   "execution_count": 9,
   "id": "indie-steps",
   "metadata": {},
   "outputs": [
    {
     "data": {
      "text/plain": [
       "2.3479153324665993e+49"
      ]
     },
     "execution_count": 9,
     "metadata": {},
     "output_type": "execute_result"
    }
   ],
   "source": [
    "(16*c**17.5*m**6)/(15*h**2*e**4*(2*np.pi)**7.5*R**9.5) #Eq 6"
   ]
  },
  {
   "cell_type": "code",
   "execution_count": 10,
   "id": "japanese-dominican",
   "metadata": {},
   "outputs": [
    {
     "data": {
      "text/plain": [
       "49.370682431883274"
      ]
     },
     "execution_count": 10,
     "metadata": {},
     "output_type": "execute_result"
    }
   ],
   "source": [
    "np.log10(2.3479153324665993e+49)"
   ]
  },
  {
   "cell_type": "code",
   "execution_count": 11,
   "id": "4bc071a5",
   "metadata": {},
   "outputs": [
    {
     "data": {
      "text/plain": [
       "2.3479153324665998e+106"
      ]
     },
     "execution_count": 11,
     "metadata": {},
     "output_type": "execute_result"
    }
   ],
   "source": [
    "(16*c**17.5*m**6)/(15*h**2*e**4*(2*np.pi)**7.5) #Eq 6 Keeping R"
   ]
  },
  {
   "cell_type": "code",
   "execution_count": 12,
   "id": "0b13c1ad",
   "metadata": {},
   "outputs": [
    {
     "data": {
      "text/plain": [
       "106.37068243188327"
      ]
     },
     "execution_count": 12,
     "metadata": {},
     "output_type": "execute_result"
    }
   ],
   "source": [
    "np.log10(2.3479153324665998e+106)"
   ]
  },
  {
   "cell_type": "markdown",
   "id": "occasional-money",
   "metadata": {},
   "source": [
    "$$ B^4_p P^{-6.5} = \\frac{16 m^6 c^{16.5}}{15 h^2 e^4 (2pi)^{6.5} R^{8.5}} $$"
   ]
  },
  {
   "cell_type": "code",
   "execution_count": 53,
   "id": "radical-encounter",
   "metadata": {},
   "outputs": [
    {
     "data": {
      "text/plain": [
       "4.9208666615141504e+45"
      ]
     },
     "execution_count": 53,
     "metadata": {},
     "output_type": "execute_result"
    }
   ],
   "source": [
    "(16*c**16.5*m**6)/(15*h**2*e**4*(2*np.pi)**6.5*R**8.5) #Eq 8"
   ]
  },
  {
   "cell_type": "code",
   "execution_count": 54,
   "id": "invalid-account",
   "metadata": {},
   "outputs": [
    {
     "data": {
      "text/plain": [
       "45.69204159731346"
      ]
     },
     "execution_count": 54,
     "metadata": {},
     "output_type": "execute_result"
    }
   ],
   "source": [
    "np.log10(4.9208666615141504e+45)"
   ]
  },
  {
   "cell_type": "code",
   "execution_count": 13,
   "id": "99f7d9d7",
   "metadata": {},
   "outputs": [
    {
     "data": {
      "text/plain": [
       "4.920866661514151e+96"
      ]
     },
     "execution_count": 13,
     "metadata": {},
     "output_type": "execute_result"
    }
   ],
   "source": [
    "(16*c**16.5*m**6)/(15*h**2*e**4*(2*np.pi)**6.5) #Eq 8"
   ]
  },
  {
   "cell_type": "code",
   "execution_count": 14,
   "id": "bf9d191f",
   "metadata": {},
   "outputs": [
    {
     "data": {
      "text/plain": [
       "96.69204159731346"
      ]
     },
     "execution_count": 14,
     "metadata": {},
     "output_type": "execute_result"
    }
   ],
   "source": [
    "np.log10(4.920866661514151e+96)"
   ]
  },
  {
   "cell_type": "markdown",
   "id": "welcome-roman",
   "metadata": {},
   "source": [
    "$$ B^{7/2}_p P^{-13/2} = \\frac{m^6 16 c^{16.5}}{15 B_s h^2 e^4 (2pi)^{13/2} R^{17/2}} $$"
   ]
  },
  {
   "cell_type": "code",
   "execution_count": null,
   "id": "34c24e3d",
   "metadata": {},
   "outputs": [],
   "source": []
  },
  {
   "cell_type": "code",
   "execution_count": 15,
   "id": "appropriate-animation",
   "metadata": {},
   "outputs": [
    {
     "data": {
      "text/plain": [
       "4.9208666615141504e+45"
      ]
     },
     "execution_count": 15,
     "metadata": {},
     "output_type": "execute_result"
    }
   ],
   "source": [
    "(16*c**16.5*m**6)/(15*h**2*e**4*R**8.5*(2*np.pi)**6.5) #Eq 9"
   ]
  },
  {
   "cell_type": "code",
   "execution_count": 16,
   "id": "lyric-lambda",
   "metadata": {},
   "outputs": [
    {
     "data": {
      "text/plain": [
       "78.08305319896294"
      ]
     },
     "execution_count": 16,
     "metadata": {},
     "output_type": "execute_result"
    }
   ],
   "source": [
    "np.log10(4.9208666615141504e45)*2 - np.log10(Bs)"
   ]
  },
  {
   "cell_type": "code",
   "execution_count": 17,
   "id": "2528357c",
   "metadata": {},
   "outputs": [
    {
     "data": {
      "text/plain": [
       "4.920866661514151e+96"
      ]
     },
     "execution_count": 17,
     "metadata": {},
     "output_type": "execute_result"
    }
   ],
   "source": [
    "(16*c**16.5*m**6)/(15*h**2*e**4*(2*np.pi)**6.5) #Eq 9 Keeping R"
   ]
  },
  {
   "cell_type": "code",
   "execution_count": 32,
   "id": "naked-visiting",
   "metadata": {},
   "outputs": [
    {
     "data": {
      "text/plain": [
       "180.08305319896294"
      ]
     },
     "execution_count": 32,
     "metadata": {},
     "output_type": "execute_result"
    }
   ],
   "source": [
    "np.log10(4.920866661514151e+96)*2 - np.log10(Bs)"
   ]
  },
  {
   "cell_type": "code",
   "execution_count": 31,
   "id": "hazardous-posting",
   "metadata": {},
   "outputs": [
    {
     "data": {
      "text/plain": [
       "1.8285714285714286e+20"
      ]
     },
     "execution_count": 31,
     "metadata": {},
     "output_type": "execute_result"
    }
   ],
   "source": [
    "(6.4e31/3.5e11)"
   ]
  },
  {
   "cell_type": "markdown",
   "id": "acquired-glenn",
   "metadata": {},
   "source": [
    "$$ B^{4}_p P^{-6} = \\frac{16 m^6 c^{16}}{15 h^2 e^4 (2pi)^{6} R^{8}} $$"
   ]
  },
  {
   "cell_type": "code",
   "execution_count": 20,
   "id": "ultimate-possibility",
   "metadata": {},
   "outputs": [
    {
     "data": {
      "text/plain": [
       "7.12395520575833e+43"
      ]
     },
     "execution_count": 20,
     "metadata": {},
     "output_type": "execute_result"
    }
   ],
   "source": [
    "(16*c**16*m**6)/(15*h**2*e**4*R**8*(2*np.pi)**6) #Eq 10, h=R"
   ]
  },
  {
   "cell_type": "code",
   "execution_count": 21,
   "id": "monthly-reset",
   "metadata": {},
   "outputs": [
    {
     "data": {
      "text/plain": [
       "43.85272118002855"
      ]
     },
     "execution_count": 21,
     "metadata": {},
     "output_type": "execute_result"
    }
   ],
   "source": [
    "np.log10(7.12395520575833e+43)"
   ]
  },
  {
   "cell_type": "code",
   "execution_count": 23,
   "id": "5b39f771",
   "metadata": {},
   "outputs": [
    {
     "data": {
      "text/plain": [
       "7.12395520575833e+91"
      ]
     },
     "execution_count": 23,
     "metadata": {},
     "output_type": "execute_result"
    }
   ],
   "source": [
    "(16*c**16*m**6)/(15*h**2*e**4*(2*np.pi)**6) #Eq 10, h=R #keeping R"
   ]
  },
  {
   "cell_type": "code",
   "execution_count": 24,
   "id": "7583e74b",
   "metadata": {},
   "outputs": [
    {
     "data": {
      "text/plain": [
       "91.85272118002855"
      ]
     },
     "execution_count": 24,
     "metadata": {},
     "output_type": "execute_result"
    }
   ],
   "source": [
    "np.log10(7.12395520575833e+91)"
   ]
  },
  {
   "cell_type": "code",
   "execution_count": 22,
   "id": "abandoned-evolution",
   "metadata": {},
   "outputs": [
    {
     "data": {
      "text/plain": [
       "7.12395520575833e+43"
      ]
     },
     "execution_count": 22,
     "metadata": {},
     "output_type": "execute_result"
    }
   ],
   "source": [
    "(16*c**16*m**6)/(15*h**2*e**4*R**8*(2*np.pi)**6) #Eq 10B, h=R"
   ]
  },
  {
   "cell_type": "markdown",
   "id": "violent-winning",
   "metadata": {},
   "source": [
    "## Eq 8,9 in Zhang& Harding"
   ]
  },
  {
   "cell_type": "code",
   "execution_count": 62,
   "id": "829633ca",
   "metadata": {},
   "outputs": [
    {
     "data": {
      "text/plain": [
       "4.5451506126156886e-08"
      ]
     },
     "execution_count": 62,
     "metadata": {},
     "output_type": "execute_result"
    }
   ],
   "source": [
    "1/((10**9.5*(2*np.pi/c)**0.25*6.4)/3.5)"
   ]
  },
  {
   "cell_type": "code",
   "execution_count": 63,
   "id": "8ec5c432",
   "metadata": {},
   "outputs": [
    {
     "data": {
      "text/plain": [
       "-14.684903441982318"
      ]
     },
     "execution_count": 63,
     "metadata": {},
     "output_type": "execute_result"
    }
   ],
   "source": [
    "2*np.log10(4.5451506126156886e-08)"
   ]
  },
  {
   "cell_type": "code",
   "execution_count": 64,
   "id": "e4ca0a0a",
   "metadata": {},
   "outputs": [
    {
     "data": {
      "text/plain": [
       "1.087105635245289e-26"
      ]
     },
     "execution_count": 64,
     "metadata": {},
     "output_type": "execute_result"
    }
   ],
   "source": [
    "((c/(2*np.pi))**(-0.25))*((1e-23)/(3.5))\n"
   ]
  },
  {
   "cell_type": "code",
   "execution_count": 65,
   "id": "d7a213fa",
   "metadata": {},
   "outputs": [
    {
     "data": {
      "text/plain": [
       "-25.96372825299273"
      ]
     },
     "execution_count": 65,
     "metadata": {},
     "output_type": "execute_result"
    }
   ],
   "source": [
    "np.log10(1.087105635245289e-26)"
   ]
  },
  {
   "cell_type": "code",
   "execution_count": 66,
   "id": "c8c9cc82",
   "metadata": {},
   "outputs": [
    {
     "data": {
      "text/plain": [
       "3.5e+23"
      ]
     },
     "execution_count": 66,
     "metadata": {},
     "output_type": "execute_result"
    }
   ],
   "source": [
    "3.5/1"
   ]
  },
  {
   "cell_type": "code",
   "execution_count": 67,
   "id": "ccf06d8a",
   "metadata": {},
   "outputs": [
    {
     "data": {
      "text/plain": [
       "23.544068044350276"
      ]
     },
     "execution_count": 67,
     "metadata": {},
     "output_type": "execute_result"
    }
   ],
   "source": [
    "np.log10(3.5e+23)"
   ]
  },
  {
   "cell_type": "code",
   "execution_count": null,
   "id": "71b5a348",
   "metadata": {},
   "outputs": [],
   "source": []
  }
 ],
 "metadata": {
  "kernelspec": {
   "display_name": "Python 3 (ipykernel)",
   "language": "python",
   "name": "python3"
  },
  "language_info": {
   "codemirror_mode": {
    "name": "ipython",
    "version": 3
   },
   "file_extension": ".py",
   "mimetype": "text/x-python",
   "name": "python",
   "nbconvert_exporter": "python",
   "pygments_lexer": "ipython3",
   "version": "3.8.16"
  }
 },
 "nbformat": 4,
 "nbformat_minor": 5
}
