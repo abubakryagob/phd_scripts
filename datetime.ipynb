{
 "cells": [
  {
   "cell_type": "code",
   "execution_count": 75,
   "id": "disturbed-brass",
   "metadata": {},
   "outputs": [],
   "source": [
    "import numpy as np\n",
    "from astropy.time import Time\n",
    "import math"
   ]
  },
  {
   "cell_type": "code",
   "execution_count": 85,
   "id": "invisible-consequence",
   "metadata": {},
   "outputs": [
    {
     "data": {
      "text/plain": [
       "array([58921.8666088 , 58927.39804398, 58928.19049769, 58930.10788194,\n",
       "       58932.24418981, 58934.23644676, 58936.1533912 , 58937.68417824,\n",
       "       58940.80386574])"
      ]
     },
     "execution_count": 85,
     "metadata": {},
     "output_type": "execute_result"
    }
   ],
   "source": [
    "time1 = [\n",
    "'2020-03-13T20:47:55'  \n",
    ",'2020-03-19T09:33:11'  \n",
    ",'2020-03-20T04:34:19'  \n",
    ",'2020-03-22T02:35:21'  \n",
    ",'2020-03-24T05:51:38'  \n",
    ",'2020-03-26T05:40:29'  \n",
    ",'2020-03-28T03:40:53'  \n",
    ",'2020-03-29T16:25:13'  \n",
    ",'2020-04-01T19:17:34'  \n",
    "]\n",
    "t1 = Time(time1, format='isot', scale='utc')\n",
    "t1mjd = t1.mjd\n",
    "t1mjd"
   ]
  },
  {
   "cell_type": "code",
   "execution_count": 86,
   "id": "biological-rates",
   "metadata": {},
   "outputs": [
    {
     "data": {
      "text/plain": [
       "array([58921.88975694, 58927.47009259, 58928.20134259, 58930.12634259,\n",
       "       58932.37703704, 58934.97287037, 58936.75550926, 58938.87773148,\n",
       "       58940.80967593])"
      ]
     },
     "execution_count": 86,
     "metadata": {},
     "output_type": "execute_result"
    }
   ],
   "source": [
    "time2 = [\n",
    "'2020-03-13T21:21:15'\n",
    ",'2020-03-19T11:16:56'\n",
    ",'2020-03-20T04:49:56'\n",
    ",'2020-03-22T03:01:56'\n",
    ",'2020-03-24T09:02:56'\n",
    ",'2020-03-26T23:20:56'\n",
    ",'2020-03-28T18:07:56'\n",
    ",'2020-03-30T21:03:56'\n",
    ",'2020-04-01T19:25:56'\n",
    "]\n",
    "t2 = Time(time2, format='isot', scale='utc')\n",
    "t2mjd = t2.mjd\n",
    "t2mjd"
   ]
  },
  {
   "cell_type": "code",
   "execution_count": null,
   "id": "sustained-firmware",
   "metadata": {},
   "outputs": [],
   "source": []
  },
  {
   "cell_type": "code",
   "execution_count": 87,
   "id": "decreased-sheriff",
   "metadata": {},
   "outputs": [],
   "source": [
    "finalmjd = (t1mjd+t2mjd)/2"
   ]
  },
  {
   "cell_type": "code",
   "execution_count": 88,
   "id": "measured-startup",
   "metadata": {},
   "outputs": [
    {
     "name": "stdout",
     "output_type": "stream",
     "text": [
      "[58921.87818287 58927.43406829 58928.19592014 58930.11711227\n",
      " 58932.31061343 58934.60465856 58936.45445023 58938.28095486\n",
      " 58940.80677083]\n"
     ]
    }
   ],
   "source": [
    "print(finalmjd)"
   ]
  },
  {
   "cell_type": "raw",
   "id": "continuous-miracle",
   "metadata": {},
   "source": [
    "XMM\n",
    "start\n",
    ",'2020-03-15T03:58:21'\n",
    ",'2020-04-04T02:09:27'\n",
    ",'2020-05-02T21:04:53'\n",
    ",'2020-06-30T03:02:49'\n",
    ",'2020-07-01T19:18:36'\n",
    ",'2020-09-07T00:52:23'\n",
    "\n",
    "end\n",
    ",'2020-03-15T03:58:21'\n",
    ",'2020-04-04T02:09:27'\n",
    ",'2020-05-02T21:04:53'\n",
    ",'2020-06-30T03:02:49'\n",
    ",'2020-07-01T19:18:36'\n",
    ",'2020-09-07T00:52:23'\n",
    "\n",
    "NuSTAR\n",
    "start\n",
    ",'2020-03-15T07:56:38'\n",
    ",'2020-04-04T03:44:15'\n",
    ",'2020-09-07T15:12:48' \n",
    ",'2020-10-08T10:24:17'\n",
    "\n",
    "end\n",
    ",'2020-03-15T14:40:03' \n",
    ",'2020-04-04T13:32:52' \n",
    ",'2020-09-07T22:38:50' \n",
    ",'2020-10-09T00:49:31'\n",
    "\n",
    "Swift\n",
    "86002 & 2020-03-13T20:47:55 & 2020-03-13T21:21:15 \n",
    "86004 & 2020-03-19T09:33:11 & 2020-03-19T11:16:56 \n",
    "86005 & 2020-03-20T04:34:19 & 2020-03-20T04:49:56 \n",
    "86006 & 2020-03-22T02:35:21 & 2020-03-22T03:01:56 \n",
    "86007 & 2020-03-24T05:51:38 & 2020-03-24T09:02:56 \n",
    "86008 & 2020-03-26T05:40:29 & 2020-03-26T23:20:56 \n",
    "86009 & 2020-03-28T03:40:53 & 2020-03-28T18:07:56 \n",
    "86010 & 2020-03-29T16:25:13 & 2020-03-30T21:03:56 \n",
    "86011 & 2020-04-01T19:17:34 & 2020-04-01T19:25:56 "
   ]
  },
  {
   "cell_type": "code",
   "execution_count": null,
   "id": "micro-battle",
   "metadata": {},
   "outputs": [],
   "source": []
  }
 ],
 "metadata": {
  "kernelspec": {
   "display_name": "Python 3",
   "language": "python",
   "name": "python3"
  },
  "language_info": {
   "codemirror_mode": {
    "name": "ipython",
    "version": 3
   },
   "file_extension": ".py",
   "mimetype": "text/x-python",
   "name": "python",
   "nbconvert_exporter": "python",
   "pygments_lexer": "ipython3",
   "version": "3.8.5"
  }
 },
 "nbformat": 4,
 "nbformat_minor": 5
}
