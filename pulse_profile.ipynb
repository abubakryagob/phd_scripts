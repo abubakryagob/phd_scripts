{
 "cells": [
  {
   "cell_type": "code",
   "execution_count": 15,
   "id": "challenging-wales",
   "metadata": {},
   "outputs": [],
   "source": [
    "import numpy as np\n",
    "import matplotlib.pyplot as plt\n"
   ]
  },
  {
   "cell_type": "markdown",
   "id": "pressed-function",
   "metadata": {},
   "source": [
    "## New plotting"
   ]
  },
  {
   "cell_type": "code",
   "execution_count": 16,
   "id": "figured-details",
   "metadata": {},
   "outputs": [],
   "source": [
    "#Reading the data\n",
    "file1_03_10new = \"/Users/abubakribrahim/Desktop/observations/xmm-newton/SWJ1818.0-1607/timing_analysis/pulse_profile/1801/new/PNclean_barry_source_filtered_0.3-10kev_32bin.qdp\"\n",
    "Data1_03_10new = np.loadtxt(file1_03_10new)\n",
    "phase1_03_10new = Data1_03_10new[:,0]\n",
    "bin_simi_width1_03_10new = Data1_03_10new[:,1]\n",
    "intensity1_03_10new = Data1_03_10new[:,2]\n",
    "model_normalization1_03_10new = Data1_03_10new[:,3]\n",
    "\n",
    "file1_03_2new = \"/Users/abubakribrahim/Desktop/observations/xmm-newton/SWJ1818.0-1607/timing_analysis/pulse_profile/1801/new/PNclean_barry_source_filtered_0.3-2kev.qdp\"\n",
    "Data1_03_2new = np.loadtxt(file1_03_2new)\n",
    "phase1_03_2new = Data1_03_2new[:,0]\n",
    "bin_simi_width1_03_2new = Data1_03_2new[:,1]\n",
    "intensity1_03_2new = Data1_03_2new[:,2]\n",
    "model_normalization1_03_2new = Data1_03_2new[:,3]\n",
    "\n",
    "\n",
    "file1_2_3new = \"/Users/abubakribrahim/Desktop/observations/xmm-newton/SWJ1818.0-1607/timing_analysis/pulse_profile/1801/new/PNclean_barry_source_filtered_2-3kev_16bin.qdp\"\n",
    "Data1_2_3new = np.loadtxt(file1_2_3new)\n",
    "phase1_2_3new = Data1_2_3new[:,0]\n",
    "bin_simi_width1_2_3new = Data1_2_3new[:,1]\n",
    "intensity1_2_3new = Data1_2_3new[:,2]\n",
    "model_normalization1_2_3new = Data1_2_3new[:,3]\n",
    "\n",
    "file1_3_5new = \"/Users/abubakribrahim/Desktop/observations/xmm-newton/SWJ1818.0-1607/timing_analysis/pulse_profile/1801/new/PNclean_barry_source_filtered_3-5kev_0823591801.qdp\"\n",
    "Data1_3_5new  = np.loadtxt(file1_3_5new )\n",
    "phase1_3_5new  = Data1_3_5new [:,0]\n",
    "bin_simi_width1_3_5new  = Data1_3_5new [:,1]\n",
    "intensity1_3_5new  = Data1_3_5new [:,2]\n",
    "model_normalization1_3_5new  = Data1_3_5new [:,3]\n",
    "\n",
    "file1_5_10new = \"/Users/abubakribrahim/Desktop/observations/xmm-newton/SWJ1818.0-1607/timing_analysis/pulse_profile/1801/new/PNclean_barry_source_filtered_5-10kev_0823591801_16bin.qdp\"\n",
    "Data1_5_10new = np.loadtxt(file1_5_10new)\n",
    "phase1_5_10new = Data1_5_10new[:,0]\n",
    "bin_simi_width1_5_10new = Data1_5_10new[:,1]\n",
    "intensity1_5_10new = Data1_5_10new[:,2]\n",
    "model_normalization1_5_10new = Data1_5_10new[:,3]\n",
    "\n",
    "\n"
   ]
  },
  {
   "cell_type": "code",
   "execution_count": 17,
   "id": "specialized-particular",
   "metadata": {},
   "outputs": [
    {
     "ename": "FileNotFoundError",
     "evalue": "/Users/abubakribrahim/Desktop/observations/xmm-newton/SWJ1818.0-1607/timing_analysis/pulse_profile/3901/new/PNclean_barry_source_filtered_2-3kev.qdp not found.",
     "output_type": "error",
     "traceback": [
      "\u001b[0;31m---------------------------------------------------------------------------\u001b[0m",
      "\u001b[0;31mFileNotFoundError\u001b[0m                         Traceback (most recent call last)",
      "Cell \u001b[0;32mIn[17], line 18\u001b[0m\n\u001b[1;32m     14\u001b[0m model_normalization2_03_2new \u001b[38;5;241m=\u001b[39m Data2_03_2new[:,\u001b[38;5;241m3\u001b[39m]\n\u001b[1;32m     17\u001b[0m file2_2_3new \u001b[38;5;241m=\u001b[39m \u001b[38;5;124m\"\u001b[39m\u001b[38;5;124m/Users/abubakribrahim/Desktop/observations/xmm-newton/SWJ1818.0-1607/timing_analysis/pulse_profile/3901/new/PNclean_barry_source_filtered_2-3kev.qdp\u001b[39m\u001b[38;5;124m\"\u001b[39m\n\u001b[0;32m---> 18\u001b[0m Data2_2_3new \u001b[38;5;241m=\u001b[39m \u001b[43mnp\u001b[49m\u001b[38;5;241;43m.\u001b[39;49m\u001b[43mloadtxt\u001b[49m\u001b[43m(\u001b[49m\u001b[43mfile2_2_3new\u001b[49m\u001b[43m)\u001b[49m\n\u001b[1;32m     19\u001b[0m phase2_2_3new\u001b[38;5;241m=\u001b[39m Data2_2_3new[:,\u001b[38;5;241m0\u001b[39m]\n\u001b[1;32m     20\u001b[0m bin_simi_width2_2_3new \u001b[38;5;241m=\u001b[39m Data2_2_3new[:,\u001b[38;5;241m1\u001b[39m]\n",
      "File \u001b[0;32m/usr/local/anaconda3/lib/python3.8/site-packages/numpy/lib/npyio.py:1338\u001b[0m, in \u001b[0;36mloadtxt\u001b[0;34m(fname, dtype, comments, delimiter, converters, skiprows, usecols, unpack, ndmin, encoding, max_rows, quotechar, like)\u001b[0m\n\u001b[1;32m   1335\u001b[0m \u001b[38;5;28;01mif\u001b[39;00m \u001b[38;5;28misinstance\u001b[39m(delimiter, \u001b[38;5;28mbytes\u001b[39m):\n\u001b[1;32m   1336\u001b[0m     delimiter \u001b[38;5;241m=\u001b[39m delimiter\u001b[38;5;241m.\u001b[39mdecode(\u001b[38;5;124m'\u001b[39m\u001b[38;5;124mlatin1\u001b[39m\u001b[38;5;124m'\u001b[39m)\n\u001b[0;32m-> 1338\u001b[0m arr \u001b[38;5;241m=\u001b[39m \u001b[43m_read\u001b[49m\u001b[43m(\u001b[49m\u001b[43mfname\u001b[49m\u001b[43m,\u001b[49m\u001b[43m \u001b[49m\u001b[43mdtype\u001b[49m\u001b[38;5;241;43m=\u001b[39;49m\u001b[43mdtype\u001b[49m\u001b[43m,\u001b[49m\u001b[43m \u001b[49m\u001b[43mcomment\u001b[49m\u001b[38;5;241;43m=\u001b[39;49m\u001b[43mcomment\u001b[49m\u001b[43m,\u001b[49m\u001b[43m \u001b[49m\u001b[43mdelimiter\u001b[49m\u001b[38;5;241;43m=\u001b[39;49m\u001b[43mdelimiter\u001b[49m\u001b[43m,\u001b[49m\n\u001b[1;32m   1339\u001b[0m \u001b[43m            \u001b[49m\u001b[43mconverters\u001b[49m\u001b[38;5;241;43m=\u001b[39;49m\u001b[43mconverters\u001b[49m\u001b[43m,\u001b[49m\u001b[43m \u001b[49m\u001b[43mskiplines\u001b[49m\u001b[38;5;241;43m=\u001b[39;49m\u001b[43mskiprows\u001b[49m\u001b[43m,\u001b[49m\u001b[43m \u001b[49m\u001b[43musecols\u001b[49m\u001b[38;5;241;43m=\u001b[39;49m\u001b[43musecols\u001b[49m\u001b[43m,\u001b[49m\n\u001b[1;32m   1340\u001b[0m \u001b[43m            \u001b[49m\u001b[43munpack\u001b[49m\u001b[38;5;241;43m=\u001b[39;49m\u001b[43munpack\u001b[49m\u001b[43m,\u001b[49m\u001b[43m \u001b[49m\u001b[43mndmin\u001b[49m\u001b[38;5;241;43m=\u001b[39;49m\u001b[43mndmin\u001b[49m\u001b[43m,\u001b[49m\u001b[43m \u001b[49m\u001b[43mencoding\u001b[49m\u001b[38;5;241;43m=\u001b[39;49m\u001b[43mencoding\u001b[49m\u001b[43m,\u001b[49m\n\u001b[1;32m   1341\u001b[0m \u001b[43m            \u001b[49m\u001b[43mmax_rows\u001b[49m\u001b[38;5;241;43m=\u001b[39;49m\u001b[43mmax_rows\u001b[49m\u001b[43m,\u001b[49m\u001b[43m \u001b[49m\u001b[43mquote\u001b[49m\u001b[38;5;241;43m=\u001b[39;49m\u001b[43mquotechar\u001b[49m\u001b[43m)\u001b[49m\n\u001b[1;32m   1343\u001b[0m \u001b[38;5;28;01mreturn\u001b[39;00m arr\n",
      "File \u001b[0;32m/usr/local/anaconda3/lib/python3.8/site-packages/numpy/lib/npyio.py:975\u001b[0m, in \u001b[0;36m_read\u001b[0;34m(fname, delimiter, comment, quote, imaginary_unit, usecols, skiplines, max_rows, converters, ndmin, unpack, dtype, encoding)\u001b[0m\n\u001b[1;32m    973\u001b[0m     fname \u001b[38;5;241m=\u001b[39m os\u001b[38;5;241m.\u001b[39mfspath(fname)\n\u001b[1;32m    974\u001b[0m \u001b[38;5;28;01mif\u001b[39;00m \u001b[38;5;28misinstance\u001b[39m(fname, \u001b[38;5;28mstr\u001b[39m):\n\u001b[0;32m--> 975\u001b[0m     fh \u001b[38;5;241m=\u001b[39m \u001b[43mnp\u001b[49m\u001b[38;5;241;43m.\u001b[39;49m\u001b[43mlib\u001b[49m\u001b[38;5;241;43m.\u001b[39;49m\u001b[43m_datasource\u001b[49m\u001b[38;5;241;43m.\u001b[39;49m\u001b[43mopen\u001b[49m\u001b[43m(\u001b[49m\u001b[43mfname\u001b[49m\u001b[43m,\u001b[49m\u001b[43m \u001b[49m\u001b[38;5;124;43m'\u001b[39;49m\u001b[38;5;124;43mrt\u001b[39;49m\u001b[38;5;124;43m'\u001b[39;49m\u001b[43m,\u001b[49m\u001b[43m \u001b[49m\u001b[43mencoding\u001b[49m\u001b[38;5;241;43m=\u001b[39;49m\u001b[43mencoding\u001b[49m\u001b[43m)\u001b[49m\n\u001b[1;32m    976\u001b[0m     \u001b[38;5;28;01mif\u001b[39;00m encoding \u001b[38;5;129;01mis\u001b[39;00m \u001b[38;5;28;01mNone\u001b[39;00m:\n\u001b[1;32m    977\u001b[0m         encoding \u001b[38;5;241m=\u001b[39m \u001b[38;5;28mgetattr\u001b[39m(fh, \u001b[38;5;124m'\u001b[39m\u001b[38;5;124mencoding\u001b[39m\u001b[38;5;124m'\u001b[39m, \u001b[38;5;124m'\u001b[39m\u001b[38;5;124mlatin1\u001b[39m\u001b[38;5;124m'\u001b[39m)\n",
      "File \u001b[0;32m/usr/local/anaconda3/lib/python3.8/site-packages/numpy/lib/_datasource.py:193\u001b[0m, in \u001b[0;36mopen\u001b[0;34m(path, mode, destpath, encoding, newline)\u001b[0m\n\u001b[1;32m    156\u001b[0m \u001b[38;5;250m\u001b[39m\u001b[38;5;124;03m\"\"\"\u001b[39;00m\n\u001b[1;32m    157\u001b[0m \u001b[38;5;124;03mOpen `path` with `mode` and return the file object.\u001b[39;00m\n\u001b[1;32m    158\u001b[0m \n\u001b[0;32m   (...)\u001b[0m\n\u001b[1;32m    189\u001b[0m \n\u001b[1;32m    190\u001b[0m \u001b[38;5;124;03m\"\"\"\u001b[39;00m\n\u001b[1;32m    192\u001b[0m ds \u001b[38;5;241m=\u001b[39m DataSource(destpath)\n\u001b[0;32m--> 193\u001b[0m \u001b[38;5;28;01mreturn\u001b[39;00m \u001b[43mds\u001b[49m\u001b[38;5;241;43m.\u001b[39;49m\u001b[43mopen\u001b[49m\u001b[43m(\u001b[49m\u001b[43mpath\u001b[49m\u001b[43m,\u001b[49m\u001b[43m \u001b[49m\u001b[43mmode\u001b[49m\u001b[43m,\u001b[49m\u001b[43m \u001b[49m\u001b[43mencoding\u001b[49m\u001b[38;5;241;43m=\u001b[39;49m\u001b[43mencoding\u001b[49m\u001b[43m,\u001b[49m\u001b[43m \u001b[49m\u001b[43mnewline\u001b[49m\u001b[38;5;241;43m=\u001b[39;49m\u001b[43mnewline\u001b[49m\u001b[43m)\u001b[49m\n",
      "File \u001b[0;32m/usr/local/anaconda3/lib/python3.8/site-packages/numpy/lib/_datasource.py:533\u001b[0m, in \u001b[0;36mDataSource.open\u001b[0;34m(self, path, mode, encoding, newline)\u001b[0m\n\u001b[1;32m    530\u001b[0m     \u001b[38;5;28;01mreturn\u001b[39;00m _file_openers[ext](found, mode\u001b[38;5;241m=\u001b[39mmode,\n\u001b[1;32m    531\u001b[0m                               encoding\u001b[38;5;241m=\u001b[39mencoding, newline\u001b[38;5;241m=\u001b[39mnewline)\n\u001b[1;32m    532\u001b[0m \u001b[38;5;28;01melse\u001b[39;00m:\n\u001b[0;32m--> 533\u001b[0m     \u001b[38;5;28;01mraise\u001b[39;00m \u001b[38;5;167;01mFileNotFoundError\u001b[39;00m(\u001b[38;5;124mf\u001b[39m\u001b[38;5;124m\"\u001b[39m\u001b[38;5;132;01m{\u001b[39;00mpath\u001b[38;5;132;01m}\u001b[39;00m\u001b[38;5;124m not found.\u001b[39m\u001b[38;5;124m\"\u001b[39m)\n",
      "\u001b[0;31mFileNotFoundError\u001b[0m: /Users/abubakribrahim/Desktop/observations/xmm-newton/SWJ1818.0-1607/timing_analysis/pulse_profile/3901/new/PNclean_barry_source_filtered_2-3kev.qdp not found."
     ]
    }
   ],
   "source": [
    "#Reading the data\n",
    "file2_03_10new = \"/Users/abubakribrahim/Desktop/observations/xmm-newton/SWJ1818.0-1607/timing_analysis/pulse_profile/3901/new/PNclean_barry_source_filtered_0.3-10kev_16bin_2nd.qdp\"\n",
    "Data2_03_10new = np.loadtxt(file2_03_10new)\n",
    "phase2_03_10new = Data2_03_10new[:,0]\n",
    "bin_simi_width2_03_10new = Data2_03_10new[:,1]\n",
    "intensity2_03_10new = Data2_03_10new[:,2]\n",
    "model_normalization2_03_10new = Data2_03_10new[:,3]\n",
    "\n",
    "file2_03_2new = \"/Users/abubakribrahim/Desktop/observations/xmm-newton/SWJ1818.0-1607/timing_analysis/pulse_profile/3901/new/PNclean_barry_source_filtered_0.3-2kev.qdp\"\n",
    "Data2_03_2new = np.loadtxt(file2_03_2new)\n",
    "phase2_03_2new = Data2_03_2new[:,0]\n",
    "bin_simi_width2_03_2new = Data2_03_2new[:,1]\n",
    "intensity2_03_2new = Data2_03_2new[:,2]\n",
    "model_normalization2_03_2new = Data2_03_2new[:,3]\n",
    "\n",
    "\n",
    "file2_2_3new = \"/Users/abubakribrahim/Desktop/observations/xmm-newton/SWJ1818.0-1607/timing_analysis/pulse_profile/3901/new/PNclean_barry_source_filtered_2-3kev.qdp\"\n",
    "Data2_2_3new = np.loadtxt(file2_2_3new)\n",
    "phase2_2_3new= Data2_2_3new[:,0]\n",
    "bin_simi_width2_2_3new = Data2_2_3new[:,1]\n",
    "intensity2_2_3new = Data2_2_3new[:,2]\n",
    "model_normalization2_2_3new = Data2_2_3new[:,3]\n",
    "\n",
    "file2_3_5new = \"/Users/abubakribrahim/Desktop/observations/xmm-newton/SWJ1818.0-1607/timing_analysis/pulse_profile/3901/new/PNclean_barry_source_filtered_3-5kev_16.qdp\"\n",
    "Data2_3_5new  = np.loadtxt(file2_3_5new )\n",
    "phase2_3_5new  = Data2_3_5new [:,0]\n",
    "bin_simi_width2_3_5new  = Data2_3_5new [:,1]\n",
    "intensity2_3_5new  = Data2_3_5new [:,2]\n",
    "model_normalization2_3_5new  = Data2_3_5new [:,3]\n",
    "\n",
    "file2_5_10new = \"/Users/abubakribrahim/Desktop/observations/xmm-newton/SWJ1818.0-1607/timing_analysis/pulse_profile/3901/new/PNclean_barry_source_filtered_5-10kev_16bin.qdp\"\n",
    "Data2_5_10new = np.loadtxt(file2_5_10new)\n",
    "phase2_5_10new = Data2_5_10new[:,0]\n",
    "bin_simi_width2_5_10new = Data2_5_10new[:,1]\n",
    "intensity2_5_10new = Data2_5_10new[:,2]\n",
    "model_normalization2_5_10new = Data2_5_10new[:,3]"
   ]
  },
  {
   "cell_type": "code",
   "execution_count": null,
   "id": "still-fellow",
   "metadata": {},
   "outputs": [],
   "source": [
    "print(file1_03_10new)"
   ]
  },
  {
   "cell_type": "code",
   "execution_count": null,
   "id": "computational-truck",
   "metadata": {},
   "outputs": [],
   "source": [
    "#Reading the data\n",
    "file3_03_10new = \"/Users/abubakribrahim/Desktop/observations/xmm-newton/SWJ1818.0-1607/timing_analysis/pulse_profile/4001/new/PNclean_barry_source_filtered_0.3-10kev_32bin.qdp\"\n",
    "Data3_03_10new = np.loadtxt(file3_03_10new)\n",
    "phase3_03_10new = Data3_03_10new[:,0]\n",
    "bin_simi_width3_03_10new = Data3_03_10new[:,1]\n",
    "intensity3_03_10new = Data3_03_10new[:,2]\n",
    "model_normalization3_03_10new = Data3_03_10new[:,3]\n",
    "\n",
    "file3_03_2new = \"/Users/abubakribrahim/Desktop/observations/xmm-newton/SWJ1818.0-1607/timing_analysis/pulse_profile/4001/new/PNclean_barry_source_filtered_0.3-2kev_16.qdp\"\n",
    "Data3_03_2new = np.loadtxt(file3_03_2new)\n",
    "phase3_03_2new = Data3_03_2new[:,0]\n",
    "bin_simi_width3_03_2new = Data3_03_2new[:,1]\n",
    "intensity3_03_2new = Data3_03_2new[:,2]\n",
    "model_normalization3_03_2new = Data3_03_2new[:,3]\n",
    "\n",
    "\n",
    "file3_2_3new = \"/Users/abubakribrahim/Desktop/observations/xmm-newton/SWJ1818.0-1607/timing_analysis/pulse_profile/4001/new/PNclean_barry_source_filtered_2-3kev_16bin.qdp\"\n",
    "Data3_2_3new = np.loadtxt(file3_2_3new)\n",
    "phase3_2_3new = Data3_2_3new[:,0]\n",
    "bin_simi_width3_2_3new = Data3_2_3new[:,1]\n",
    "intensity3_2_3new = Data3_2_3new[:,2]\n",
    "model_normalization3_2_3new = Data3_2_3new[:,3]\n",
    "\n",
    "file3_3_5new = \"/Users/abubakribrahim/Desktop/observations/xmm-newton/SWJ1818.0-1607/timing_analysis/pulse_profile/4001/new/PNclean_barry_source_filtered_3-5kev_32.qdp\"\n",
    "Data3_3_5new  = np.loadtxt(file3_3_5new )\n",
    "phase3_3_5new  = Data3_3_5new [:,0]\n",
    "bin_simi_width3_3_5new  = Data3_3_5new [:,1]\n",
    "intensity3_3_5new  = Data3_3_5new [:,2]\n",
    "model_normalization3_3_5new  = Data3_3_5new [:,3]\n",
    "\n",
    "file3_5_10new = \"/Users/abubakribrahim/Desktop/observations/xmm-newton/SWJ1818.0-1607/timing_analysis/pulse_profile/4001/new/PNclean_barry_source_filtered_5-10kev.qdp\"\n",
    "Data3_5_10new = np.loadtxt(file3_5_10new)\n",
    "phase3_5_10new = Data3_5_10new[:,0]\n",
    "bin_simi_width3_5_10new = Data3_5_10new[:,1]\n",
    "intensity3_5_10new = Data3_5_10new[:,2]\n",
    "model_normalization3_5_10new = Data3_5_10new[:,3]"
   ]
  },
  {
   "cell_type": "code",
   "execution_count": null,
   "id": "valued-finland",
   "metadata": {},
   "outputs": [],
   "source": [
    "#Reading the data\n",
    "file4_03_10new = \"/Users/abubakribrahim/Desktop/observations/xmm-newton/SWJ1818.0-1607/timing_analysis/pulse_profile/4201/new/PNclean_barry_source_filtered_0.3-10kev_32bin.qdp\"\n",
    "Data4_03_10new = np.loadtxt(file4_03_10new)\n",
    "phase4_03_10new = Data4_03_10new[:,0]\n",
    "bin_simi_width4_03_10new = Data4_03_10new[:,1]\n",
    "intensity4_03_10new = Data4_03_10new[:,2]\n",
    "model_normalization4_03_10new = Data4_03_10new[:,3]\n",
    "\n",
    "file4_03_2new = \"/Users/abubakribrahim/Desktop/observations/xmm-newton/SWJ1818.0-1607/timing_analysis/pulse_profile/4201/new/PNclean_barry_source_filtered_0.3-2kev_8bin.qdp\"\n",
    "Data4_03_2new = np.loadtxt(file4_03_2new)\n",
    "phase4_03_2new = Data4_03_2new[:,0]\n",
    "bin_simi_width4_03_2new = Data4_03_2new[:,1]\n",
    "intensity4_03_2new = Data4_03_2new[:,2]\n",
    "model_normalization4_03_2new = Data4_03_2new[:,3]\n",
    "\n",
    "\n",
    "file4_2_3new = \"/Users/abubakribrahim/Desktop/observations/xmm-newton/SWJ1818.0-1607/timing_analysis/pulse_profile/4201/new/PNclean_barry_source_filtered_2-3kev.qdp\"\n",
    "Data4_2_3new = np.loadtxt(file4_2_3new)\n",
    "phase4_2_3new = Data4_2_3new[:,0]\n",
    "bin_simi_width4_2_3new = Data4_2_3new[:,1]\n",
    "intensity4_2_3new = Data4_2_3new[:,2]\n",
    "model_normalization4_2_3new = Data4_2_3new[:,3]\n",
    "\n",
    "file4_3_5new = \"/Users/abubakribrahim/Desktop/observations/xmm-newton/SWJ1818.0-1607/timing_analysis/pulse_profile/4201/new/PNclean_barry_source_filtered_3-5kev_16bin.qdp\"\n",
    "Data4_3_5new  = np.loadtxt(file4_3_5new)\n",
    "phase4_3_5new  = Data4_3_5new[:,0]\n",
    "bin_simi_width4_3_5new  = Data4_3_5new[:,1]\n",
    "intensity4_3_5new  = Data4_3_5new[:,2]\n",
    "model_normalization4_3_5new  = Data4_3_5new[:,3]\n",
    "\n",
    "file4_5_10new = \"/Users/abubakribrahim/Desktop/observations/xmm-newton/SWJ1818.0-1607/timing_analysis/pulse_profile/4201/new/PNclean_barry_source_filtered_5-10kev_32bin.qdp\"\n",
    "Data4_5_10new = np.loadtxt(file4_5_10new)\n",
    "phase4_5_10new = Data4_5_10new[:,0]\n",
    "bin_simi_width4_5_10new = Data4_5_10new[:,1]\n",
    "intensity4_5_10new = Data4_5_10new[:,2]\n",
    "model_normalization4_5_10new = Data4_5_10new[:,3]"
   ]
  },
  {
   "cell_type": "markdown",
   "id": "oriental-vacuum",
   "metadata": {},
   "source": [
    "## First Coulmn"
   ]
  },
  {
   "cell_type": "code",
   "execution_count": null,
   "id": "meaningful-nylon",
   "metadata": {},
   "outputs": [],
   "source": [
    "# Now switch to a more OO interface to exercise more features.\n",
    "fig, axs = plt.subplots(nrows=4, ncols=4, sharex=True)\n",
    "\n",
    "ax = axs[0,0]\n",
    "ax.errorbar(phase1_03_2new, intensity1_03_2new, xerr=bin_simi_width1_03_2new, yerr=model_normalization1_03_2new,\n",
    "            fmt = '.', fillstyle = 'none', linestyle='-', drawstyle='steps-mid', mec='black', mew = 2, ms=3, color='black', label = '0.3-2 keV')\n",
    "\n",
    "\n",
    "ax = axs[1,0]\n",
    "ax.errorbar(phase1_2_3new, intensity1_2_3new, xerr=bin_simi_width1_2_3new, yerr=model_normalization1_2_3new,\n",
    "            fmt = '.', fillstyle = 'none', linestyle='-', drawstyle='steps-mid', mec='black', mew = 2, ms=3, color='black', label = '2-3 keV')\n",
    "\n",
    "ax = axs[2,0]\n",
    "ax.errorbar(phase1_3_5new, intensity1_3_5new, xerr=bin_simi_width1_3_5new, yerr=model_normalization1_3_5new,\n",
    "            fmt = '.', fillstyle = 'none', linestyle='-', drawstyle='steps-mid', mec='black', mew = 2, ms=3, color='black', label = '3-5 keV')\n",
    "\n",
    "ax = axs[3,0]\n",
    "ax.errorbar(phase1_5_10new, intensity1_5_10new, xerr=bin_simi_width1_5_10new, yerr=model_normalization1_5_10new,\n",
    "            fmt = '.', fillstyle = 'none', linestyle='-', drawstyle='steps-mid', mec='black', mew = 2, ms=3, color='black', label = '5-10 keV')\n",
    "\n",
    "\n",
    "#fig.suptitle('Variable errorbars') \n",
    "#plt.savefig('SWJ1818_pulse_profile_new.pdf', bbox_inches = 'tight')\n",
    "#fig.show()\n",
    "\n",
    "ax = axs[0,1]\n",
    "ax.errorbar(phase2_03_2new, intensity2_03_2new, xerr=bin_simi_width2_03_2new, yerr=model_normalization2_03_2new,\n",
    "            fmt = '.', fillstyle = 'none', linestyle='-', drawstyle='steps-mid', mec='red', mew = 2, ms=3, color='red', label = '0.3-2 keV')\n",
    "\n",
    "\n",
    " \n",
    "ax = axs[1,1]\n",
    "ax.errorbar(phase2_2_3new, intensity2_2_3new, xerr=bin_simi_width2_2_3new, yerr=model_normalization2_2_3new,\n",
    "            fmt = '.', fillstyle = 'none', linestyle='-', drawstyle='steps-mid', mec='red', mew = 2, ms=3, color='red', label = '2-3 keV')\n",
    "\n",
    "ax = axs[2,1]\n",
    "ax.errorbar(phase2_3_5new, intensity2_3_5new, xerr=bin_simi_width2_3_5new, yerr=model_normalization2_3_5new,\n",
    "            fmt = '.', fillstyle = 'none', linestyle='-', drawstyle='steps-mid', mec='red', mew = 2, ms=3, color='red', label = '3-5 keV')\n",
    "\n",
    "ax = axs[3,1]\n",
    "ax.errorbar(phase2_5_10new, intensity2_5_10new, xerr=bin_simi_width2_5_10new, yerr=model_normalization2_5_10new,\n",
    "            fmt = '.', fillstyle = 'none', linestyle='-', drawstyle='steps-mid', mec='red', mew = 2, ms=3, color='red', label = '5-10 keV')\n",
    "\n",
    "\n",
    "#fig.suptitle('Variable errorbars') \n",
    "#plt.savefig('SWJ1818_pulse_profile_new.pdf', bbox_inches = 'tight')\n",
    "#fig.show()\n",
    "\n",
    "\n",
    "ax = axs[0,2]\n",
    "ax.errorbar(phase3_03_2new, intensity3_03_2new, xerr=bin_simi_width3_03_2new, yerr=model_normalization3_03_2new,\n",
    "           fmt = '.', fillstyle = 'none', linestyle='-', drawstyle='steps-mid', mec='green', mew = 2, ms=3, color='green', label = '1-2 keV')\n",
    "\n",
    "\n",
    "ax = axs[1,2]\n",
    "ax.errorbar(phase3_2_3new, intensity3_2_3new, xerr=bin_simi_width3_2_3new, yerr=model_normalization3_2_3new,\n",
    "            fmt = '.', fillstyle = 'none', linestyle='-', drawstyle='steps-mid', mec='green', mew = 2, ms=3, color='green', label = '2-3 keV')\n",
    "\n",
    "ax = axs[2,2]\n",
    "ax.errorbar(phase3_3_5new, intensity3_3_5new, xerr=bin_simi_width3_3_5new, yerr=model_normalization3_3_5new,\n",
    "            fmt = '.', fillstyle = 'none', linestyle='-', drawstyle='steps-mid', mec='green', mew = 2, ms=3, color='green', label = '3-5 keV')\n",
    "\n",
    "ax = axs[3,2]\n",
    "ax.errorbar(phase3_5_10new, intensity3_5_10new, xerr=bin_simi_width3_5_10new, yerr=model_normalization3_5_10new,\n",
    "            fmt = '.', fillstyle = 'none', linestyle='-', drawstyle='steps-mid', mec='green', mew = 2, ms=3, color='green', label = '5-10 keV')\n",
    "\n",
    "\n",
    "#fig.suptitle('Variable errorbars') \n",
    "#plt.savefig('SWJ1818_pulse_profile_new.pdf', bbox_inches = 'tight')\n",
    "#fig.show()\n",
    "\n",
    "\n",
    "ax = axs[0,3]\n",
    "ax.errorbar(phase4_03_2new, intensity4_03_2new, xerr=bin_simi_width4_03_2new, yerr=model_normalization4_03_2new,\n",
    "           fmt = '.', fillstyle = 'none', linestyle='-', drawstyle='steps-mid', mec='blue', mew = 2, ms=3, color='blue', label = '0.3-2 keV')\n",
    "ax.legend(loc='center left', bbox_to_anchor=(1, 0.5))\n",
    "#ax.legend(loc='right')#, bbox_to_anchor=(0.3, 0.3),ncol=3, fancybox=True, shadow=True)\n",
    "\n",
    "\n",
    "ax = axs[1,3]\n",
    "ax.errorbar(phase4_2_3new, intensity4_2_3new, xerr=bin_simi_width4_2_3new, yerr=model_normalization4_2_3new,\n",
    "            fmt = '.', fillstyle = 'none', linestyle='-', drawstyle='steps-mid', mec='blue', mew = 2, ms=3, color='blue', label = '2-3 keV')\n",
    "#ax.legend(loc='right')#, bbox_to_anchor=(0.3, 0.3),ncol=3, fancybox=True, shadow=True)\n",
    "ax.legend(loc='center left', bbox_to_anchor=(1, 0.5))\n",
    "\n",
    "\n",
    "ax = axs[2,3]\n",
    "ax.errorbar(phase4_3_5new, intensity4_3_5new, xerr=bin_simi_width4_3_5new, yerr=model_normalization4_3_5new,\n",
    "            fmt = '.', fillstyle = 'none', linestyle='-', drawstyle='steps-mid', mec='blue', mew = 2, ms=3, color='blue', label = '3-5 keV')\n",
    "#ax.legend(loc='right')#, bbox_to_anchor=(0.3, 0.3),ncol=3, fancybox=True, shadow=True)\n",
    "ax.legend(loc='center left', bbox_to_anchor=(1, 0.5))\n",
    "\n",
    "\n",
    "ax = axs[3,3]\n",
    "ax.errorbar(phase4_5_10new, intensity4_5_10new, xerr=bin_simi_width4_5_10new, yerr=model_normalization4_5_10new,\n",
    "            fmt = '.', fillstyle = 'none', linestyle='-', drawstyle='steps-mid', mec='blue', mew = 2, ms=3, color='blue', label=\"5-10 keV\")\n",
    "ax.legend(loc='center left', bbox_to_anchor=(1, 0.5))\n",
    "#ax.set_xlabel(\"Phase (cycle)\")\n",
    "#ax.set_ylabel(\"Normalized Intensity\")\n",
    "#ax.legend(loc='right') #, bbox_to_anchor=(0.3, 0.3),ncol=3, fancybox=True, shadow=True)\n",
    "\n",
    "\n",
    "#plt.xlabel(\"Phase (cycle)\")\n",
    "#plt.ylabel(\"Normalized Intensity\")\n",
    "\n",
    "#plt.legend(loc='right', bbox_to_anchor=(1.001, 1.001),\n",
    "#          ncol=3, fancybox=True, shadow=True)\n",
    "plt.savefig('SWJ1818_pulse_profile_new.pdf', bbox_inches = 'tight')\n",
    "plt.show()"
   ]
  },
  {
   "cell_type": "markdown",
   "id": "annoying-stone",
   "metadata": {},
   "source": [
    "## The full energy range 0.3-10 keV"
   ]
  },
  {
   "cell_type": "code",
   "execution_count": null,
   "id": "broken-regulation",
   "metadata": {},
   "outputs": [],
   "source": [
    "fig, axs = plt.subplots(nrows=2, ncols=2, sharex=True)\n",
    "\n",
    "ax = axs[0,0]\n",
    "ax.errorbar(phase1_03_10new, intensity1_03_10new, xerr=bin_simi_width1_03_10new, yerr=model_normalization1_03_10new,\n",
    "            fmt = '.', fillstyle = 'none', linestyle='-', drawstyle='steps-mid', mec='black', mew = 2, ms=3, color='black', label = '0.3-1 keV')\n",
    "\n",
    "\n",
    "ax = axs[0,1]\n",
    "ax.errorbar(phase2_03_10new, intensity2_03_10new, xerr=bin_simi_width2_03_10new, yerr=model_normalization2_03_10new,\n",
    "            fmt = '.', fillstyle = 'none', linestyle='-', drawstyle='steps-mid', mec='red', mew = 2, ms=3, color='red', label = '0.3-1 keV')\n",
    "\n",
    "\n",
    "\n",
    "ax = axs[1,0]\n",
    "ax.errorbar(phase3_03_10new, intensity3_03_10new, xerr=bin_simi_width3_03_10new, yerr=model_normalization3_03_10new,\n",
    "            fmt = '.', fillstyle = 'none', linestyle='-', drawstyle='steps-mid', mec='green', mew = 2, ms=3, color='green', label = '0.3-1 keV')\n",
    "\n",
    "\n",
    "\n",
    "ax = axs[1,1]\n",
    "ax.errorbar(phase4_03_10new, intensity4_03_10new, xerr=bin_simi_width4_03_10new, yerr=model_normalization4_03_10new,\n",
    "            fmt = '.', fillstyle = 'none', linestyle='-', drawstyle='steps-mid', mec='blue', mew = 2, ms=3, color='blue', label = '0.3-1 keV')\n",
    "\n",
    "\n",
    "fig.suptitle('SWJ1818 Pulse Profile') \n",
    "fig.savefig('SWJ1818_pulse_profile_0.3-10keV.pdf', bbox_inches = 'tight')\n",
    "fig.show()"
   ]
  },
  {
   "cell_type": "code",
   "execution_count": null,
   "id": "present-scene",
   "metadata": {},
   "outputs": [],
   "source": [
    "plt.errorbar(phase1_03_10new, intensity1_03_10new, xerr=bin_simi_width1_03_10new, yerr=model_normalization1_03_10new,\n",
    "            fmt = '.', fillstyle = 'none', linestyle='-', drawstyle='steps-mid', mec='black', mew = 2, ms=3, color='black', label = '0.3-1 keV')\n",
    "\n",
    "plt.errorbar(phase2_03_10new, intensity2_03_10new, xerr=bin_simi_width2_03_10new, yerr=model_normalization2_03_10new,\n",
    "            fmt = '.', fillstyle = 'none', linestyle='-', drawstyle='steps-mid', mec='red', mew = 2, ms=3, color='red', label = '0.3-1 keV')\n",
    "\n",
    "\n",
    "plt.errorbar(phase3_03_10new, intensity3_03_10new, xerr=bin_simi_width3_03_10new, yerr=model_normalization3_03_10new,\n",
    "            fmt = '.', fillstyle = 'none', linestyle='-', drawstyle='steps-mid', mec='green', mew = 2, ms=3, color='green', label = '0.3-1 keV')\n",
    "\n",
    "plt.errorbar(phase4_03_10new, intensity4_03_10new, xerr=bin_simi_width4_03_10new, yerr=model_normalization4_03_10new,\n",
    "            fmt = '.', fillstyle = 'none', linestyle='-', drawstyle='steps-mid', mec='blue', mew = 2, ms=3, color='blue', label = '0.3-1 keV')\n",
    "\n",
    "plt.xlabel(\"Phase (cycle)\")\n",
    "plt.ylabel(\"Normalized Intensity\")\n",
    "plt.suptitle('SWJ1818 Pulse Profile') \n",
    "plt.savefig('SWJ1818_pulse_profile_0.3-10keV_all_combined.pdf', bbox_inches = 'tight')\n",
    "plt.show()"
   ]
  },
  {
   "cell_type": "code",
   "execution_count": null,
   "id": "orange-worker",
   "metadata": {},
   "outputs": [],
   "source": [
    "#drawStyles = {'default': '_draw_lines', 'steps': '_draw_steps_pre', 'steps-mid': '_draw_steps_mid', \n",
    "#              'steps-post': '_draw_steps_post', 'steps-pre': '_draw_steps_pre'}"
   ]
  },
  {
   "cell_type": "markdown",
   "id": "driven-screen",
   "metadata": {},
   "source": [
    "## 1801 Plots"
   ]
  },
  {
   "cell_type": "code",
   "execution_count": null,
   "id": "resistant-steps",
   "metadata": {},
   "outputs": [],
   "source": [
    "\n",
    "plt.errorbar(phase1_03_10new, intensity1_03_10new, xerr=bin_simi_width1_03_10new, yerr=model_normalization1_03_10new,\n",
    "            fmt = '.', fillstyle = 'none', linestyle='-', drawstyle='steps-mid', mec='black', mew = 2, ms=3, color='black', label = '0.3-10 keV')\n",
    "\n",
    "plt.xlabel(\"Phase (cycle)\")\n",
    "plt.ylabel(\"Normalized Intensity\")\n",
    "\n",
    "plt.legend(loc='right', bbox_to_anchor=(1.001, 1.001),\n",
    "          ncol=3, fancybox=True, shadow=True)\n",
    "plt.savefig('SWJ1818_pulse_profile1-03-10.pdf', bbox_inches = 'tight')\n",
    "plt.show()"
   ]
  },
  {
   "cell_type": "code",
   "execution_count": null,
   "id": "organizational-fisher",
   "metadata": {},
   "outputs": [],
   "source": [
    "\n",
    "plt.errorbar(phase1_03_2new, intensity1_03_2new, xerr=bin_simi_width1_03_2new, yerr=model_normalization1_03_2new,\n",
    "            fmt = '.', fillstyle = 'none', linestyle='-', drawstyle='steps-mid', mec='black', mew = 2, ms=8, color='black', label = '0.3-2 keV')\n",
    "\n",
    "\n",
    "\n",
    "plt.xlabel(\"Phase (cycle)\")\n",
    "plt.ylabel(\"Normalized Intensity\")\n",
    "\n",
    "plt.legend(loc='right', bbox_to_anchor=(1.001, 1.001),\n",
    "          ncol=3, fancybox=True, shadow=True)\n",
    "plt.savefig('SWJ1818_pulse_profile1-03-2.pdf', bbox_inches = 'tight')\n",
    "plt.show()"
   ]
  },
  {
   "cell_type": "code",
   "execution_count": null,
   "id": "designed-aggregate",
   "metadata": {},
   "outputs": [],
   "source": [
    "plt.errorbar(phase1_2_3new, intensity1_2_3new, xerr=bin_simi_width1_2_3new, yerr=model_normalization1_2_3new,\n",
    "            fmt = '.', fillstyle = 'none', linestyle='-', drawstyle='steps-mid', mec='black', mew = 2, ms=3, color='black', label = '2-3 keV')\n",
    "\n",
    "\n",
    "plt.xlabel(\"Phase (cycle)\")\n",
    "plt.ylabel(\"Normalized Intensity\")\n",
    "\n",
    "plt.legend(loc='right', bbox_to_anchor=(1.001, 1.001),\n",
    "          ncol=3, fancybox=True, shadow=True)\n",
    "plt.savefig('SWJ1818_pulse_profile1-2-3.pdf', bbox_inches = 'tight')\n",
    "plt.show()"
   ]
  },
  {
   "cell_type": "code",
   "execution_count": null,
   "id": "curious-andrew",
   "metadata": {},
   "outputs": [],
   "source": [
    "\n",
    "plt.errorbar(phase1_3_5new, intensity1_3_5new, xerr=bin_simi_width1_3_5new, yerr=model_normalization1_3_5new,\n",
    "            fmt = '.', fillstyle = 'none', linestyle='-', drawstyle='steps-mid', mec='black', mew = 2, ms=3, color='black', label = '3-5 keV')\n",
    "\n",
    "\n",
    "\n",
    "plt.xlabel(\"Phase (cycle)\")\n",
    "plt.ylabel(\"Normalized Intensity\")\n",
    "\n",
    "plt.legend(loc='right', bbox_to_anchor=(1.001, 1.001),\n",
    "          ncol=3, fancybox=True, shadow=True)\n",
    "plt.savefig('SWJ1818_pulse_profile1-3-5.pdf', bbox_inches = 'tight')\n",
    "plt.show()"
   ]
  },
  {
   "cell_type": "code",
   "execution_count": null,
   "id": "animated-tackle",
   "metadata": {},
   "outputs": [],
   "source": [
    "plt.errorbar(phase1_5_10new, intensity1_5_10new, xerr=bin_simi_width1_5_10new, yerr=model_normalization1_5_10new,\n",
    "            fmt = '.', fillstyle = 'none', linestyle='-', drawstyle='steps-mid', mec='black', mew = 2, ms=3, color='black', label = '5-10 keV')\n",
    "\n",
    "plt.xlabel(\"Phase (cycle)\")\n",
    "plt.ylabel(\"Normalized Intensity\")\n",
    "\n",
    "plt.legend(loc='right', bbox_to_anchor=(1.001, 1.001),\n",
    "          ncol=3, fancybox=True, shadow=True)\n",
    "plt.savefig('SWJ1818_pulse_profile1-5-10.pdf', bbox_inches = 'tight')\n",
    "plt.show()"
   ]
  },
  {
   "cell_type": "markdown",
   "id": "abstract-northeast",
   "metadata": {},
   "source": [
    "## 3901"
   ]
  },
  {
   "cell_type": "code",
   "execution_count": null,
   "id": "fluid-bubble",
   "metadata": {},
   "outputs": [],
   "source": [
    "plt.errorbar(phase2_03_10new, intensity2_03_10new, xerr=bin_simi_width2_03_10new, yerr=model_normalization2_03_10new,\n",
    "            fmt = '.', fillstyle = 'none', linestyle='-', drawstyle='steps-mid', mec='red', mew = 2, ms=3, color='red', label = '0.3-10 keV')\n",
    "\n",
    "\n",
    "\n",
    "\n",
    "plt.xlabel(\"Phase (cycle)\")\n",
    "plt.ylabel(\"Normalized Intensity\")\n",
    "\n",
    "plt.legend(loc='right', bbox_to_anchor=(1.001, 1.001),\n",
    "          ncol=3, fancybox=True, shadow=True)\n",
    "plt.savefig('SWJ1818_pulse_profile2-03-10.pdf', bbox_inches = 'tight')\n",
    "plt.show()"
   ]
  },
  {
   "cell_type": "code",
   "execution_count": null,
   "id": "considered-arabic",
   "metadata": {},
   "outputs": [],
   "source": [
    "plt.errorbar(phase2_03_2new, intensity2_03_2new, xerr=bin_simi_width2_03_2new, yerr=model_normalization2_03_2new,\n",
    "            fmt = '.', fillstyle = 'none', linestyle='-', drawstyle='steps-mid', mec='red', mew = 2, ms=3, color='red', label = '0.3-2 keV')\n",
    "\n",
    "plt.xlabel(\"Phase (cycle)\")\n",
    "plt.ylabel(\"Normalized Intensity\")\n",
    "\n",
    "plt.legend(loc='right', bbox_to_anchor=(1.001, 1.001),\n",
    "          ncol=3, fancybox=True, shadow=True)\n",
    "plt.savefig('SWJ1818_pulse_profile2-03-2.pdf', bbox_inches = 'tight')\n",
    "plt.show()"
   ]
  },
  {
   "cell_type": "code",
   "execution_count": null,
   "id": "human-witness",
   "metadata": {},
   "outputs": [],
   "source": [
    "plt.errorbar(phase2_2_3new, intensity2_2_3new, xerr=bin_simi_width2_2_3new, yerr=model_normalization2_2_3new,\n",
    "     \n",
    "            fmt = '.', fillstyle = 'none', linestyle='-', drawstyle='steps-mid', mec='red', mew = 2, ms=3, color='red', label = '2-3 keV')\n",
    "\n",
    "\n",
    "\n",
    "plt.xlabel(\"Phase (cycle)\")\n",
    "plt.ylabel(\"Normalized Intensity\")\n",
    "\n",
    "plt.legend(loc='right', bbox_to_anchor=(1.001, 1.001),\n",
    "          ncol=3, fancybox=True, shadow=True)\n",
    "plt.savefig('SWJ1818_pulse_profile2-2-3.pdf', bbox_inches = 'tight')\n",
    "plt.show()\n"
   ]
  },
  {
   "cell_type": "code",
   "execution_count": null,
   "id": "widespread-background",
   "metadata": {},
   "outputs": [],
   "source": [
    "plt.errorbar(phase2_3_5new, intensity2_3_5new, xerr=bin_simi_width2_3_5new, yerr=model_normalization2_3_5new,\n",
    "            fmt = '.', fillstyle = 'none', linestyle='-', drawstyle='steps-mid', mec='red', mew = 2, ms=3, color='red', label = '3-5 keV')\n",
    "\n",
    "plt.xlabel(\"Phase (cycle)\")\n",
    "plt.ylabel(\"Normalized Intensity\")\n",
    "\n",
    "plt.legend(loc='right', bbox_to_anchor=(1.001, 1.001),\n",
    "          ncol=3, fancybox=True, shadow=True)\n",
    "plt.savefig('SWJ1818_pulse_profile2-3-5.pdf', bbox_inches = 'tight')\n",
    "plt.show()"
   ]
  },
  {
   "cell_type": "code",
   "execution_count": null,
   "id": "junior-picnic",
   "metadata": {},
   "outputs": [],
   "source": [
    "plt.errorbar(phase2_5_10new, intensity2_5_10new, xerr=bin_simi_width2_5_10new, yerr=model_normalization2_5_10new,\n",
    "            fmt = '.', fillstyle = 'none', linestyle='-', drawstyle='steps-mid', mec='red', mew = 2, ms=3, color='red', label = '5-10 keV')\n",
    "\n",
    "\n",
    "plt.xlabel(\"Phase (cycle)\")\n",
    "plt.ylabel(\"Normalized Intensity\")\n",
    "\n",
    "plt.legend(loc='right', bbox_to_anchor=(1.001, 1.001),\n",
    "          ncol=3, fancybox=True, shadow=True)\n",
    "plt.savefig('SWJ1818_pulse_profile2-5-10.pdf', bbox_inches = 'tight')\n",
    "plt.show()"
   ]
  },
  {
   "cell_type": "markdown",
   "id": "extended-smell",
   "metadata": {},
   "source": [
    "## 4001"
   ]
  },
  {
   "cell_type": "code",
   "execution_count": null,
   "id": "satellite-horse",
   "metadata": {},
   "outputs": [],
   "source": [
    "plt.errorbar(phase3_03_10new, intensity3_03_10new, xerr=bin_simi_width3_03_10new, yerr=model_normalization3_03_10new,\n",
    "            fmt = '.', fillstyle = 'none', linestyle='-', drawstyle='steps-mid', mec='green', mew = 2, ms=3, color='green', label = '0.3-10 keV')\n",
    "\n",
    "\n",
    "plt.xlabel(\"Phase (cycle)\")\n",
    "plt.ylabel(\"Normalized Intensity\")\n",
    "\n",
    "plt.legend(loc='right', bbox_to_anchor=(1.001, 1.001),\n",
    "          ncol=3, fancybox=True, shadow=True)\n",
    "plt.savefig('SWJ1818_pulse_profile3-03-10.pdf', bbox_inches = 'tight')\n",
    "plt.show()"
   ]
  },
  {
   "cell_type": "code",
   "execution_count": null,
   "id": "antique-dietary",
   "metadata": {},
   "outputs": [],
   "source": [
    "plt.errorbar(phase3_03_2new, intensity3_03_2new, xerr=bin_simi_width3_03_2new, yerr=model_normalization3_03_2new,\n",
    "           fmt = '.', fillstyle = 'none', linestyle='-', drawstyle='steps-mid', mec='green', mew = 2, ms=3, color='green', label = '0.3-2 keV')\n",
    "\n",
    "\n",
    "plt.xlabel(\"Phase (cycle)\")\n",
    "plt.ylabel(\"Normalized Intensity\")\n",
    "\n",
    "plt.legend(loc='right', bbox_to_anchor=(1.001, 1.001),\n",
    "          ncol=3, fancybox=True, shadow=True)\n",
    "plt.savefig('SWJ1818_pulse_profile3-03-2.pdf', bbox_inches = 'tight')\n",
    "plt.show()"
   ]
  },
  {
   "cell_type": "code",
   "execution_count": null,
   "id": "excessive-stake",
   "metadata": {},
   "outputs": [],
   "source": [
    "plt.errorbar(phase3_2_3new, intensity3_2_3new, xerr=bin_simi_width3_2_3new, yerr=model_normalization3_2_3new,\n",
    "            fmt = '.', fillstyle = 'none', linestyle='-', drawstyle='steps-mid', mec='green', mew = 2, ms=3, color='green', label = '2-3 keV')\n",
    "\n",
    "\n",
    "plt.xlabel(\"Phase (cycle)\")\n",
    "plt.ylabel(\"Normalized Intensity\")\n",
    "\n",
    "plt.legend(loc='right', bbox_to_anchor=(1.001, 1.001),\n",
    "          ncol=3, fancybox=True, shadow=True)\n",
    "plt.savefig('SWJ1818_pulse_profile3-2-3.pdf', bbox_inches = 'tight')\n",
    "plt.show()"
   ]
  },
  {
   "cell_type": "code",
   "execution_count": 14,
   "id": "consecutive-middle",
   "metadata": {},
   "outputs": [
    {
     "ename": "NameError",
     "evalue": "name 'phase3_3_5new' is not defined",
     "output_type": "error",
     "traceback": [
      "\u001b[0;31m---------------------------------------------------------------------------\u001b[0m",
      "\u001b[0;31mNameError\u001b[0m                                 Traceback (most recent call last)",
      "Cell \u001b[0;32mIn[14], line 1\u001b[0m\n\u001b[0;32m----> 1\u001b[0m plt\u001b[38;5;241m.\u001b[39merrorbar(\u001b[43mphase3_3_5new\u001b[49m, intensity3_3_5new, xerr\u001b[38;5;241m=\u001b[39mbin_simi_width3_3_5new, yerr\u001b[38;5;241m=\u001b[39mmodel_normalization3_3_5new,\n\u001b[1;32m      2\u001b[0m             fmt \u001b[38;5;241m=\u001b[39m \u001b[38;5;124m'\u001b[39m\u001b[38;5;124m.\u001b[39m\u001b[38;5;124m'\u001b[39m, fillstyle \u001b[38;5;241m=\u001b[39m \u001b[38;5;124m'\u001b[39m\u001b[38;5;124mnone\u001b[39m\u001b[38;5;124m'\u001b[39m, linestyle\u001b[38;5;241m=\u001b[39m\u001b[38;5;124m'\u001b[39m\u001b[38;5;124m-\u001b[39m\u001b[38;5;124m'\u001b[39m, drawstyle\u001b[38;5;241m=\u001b[39m\u001b[38;5;124m'\u001b[39m\u001b[38;5;124msteps-mid\u001b[39m\u001b[38;5;124m'\u001b[39m, mec\u001b[38;5;241m=\u001b[39m\u001b[38;5;124m'\u001b[39m\u001b[38;5;124mgreen\u001b[39m\u001b[38;5;124m'\u001b[39m, mew \u001b[38;5;241m=\u001b[39m \u001b[38;5;241m2\u001b[39m, ms\u001b[38;5;241m=\u001b[39m\u001b[38;5;241m3\u001b[39m, color\u001b[38;5;241m=\u001b[39m\u001b[38;5;124m'\u001b[39m\u001b[38;5;124mgreen\u001b[39m\u001b[38;5;124m'\u001b[39m, label \u001b[38;5;241m=\u001b[39m \u001b[38;5;124m'\u001b[39m\u001b[38;5;124m3-5 keV\u001b[39m\u001b[38;5;124m'\u001b[39m)\n\u001b[1;32m      5\u001b[0m plt\u001b[38;5;241m.\u001b[39mxlabel(\u001b[38;5;124m\"\u001b[39m\u001b[38;5;124mPhase (cycle)\u001b[39m\u001b[38;5;124m\"\u001b[39m)\n\u001b[1;32m      6\u001b[0m plt\u001b[38;5;241m.\u001b[39mylabel(\u001b[38;5;124m\"\u001b[39m\u001b[38;5;124mNormalized Intensity\u001b[39m\u001b[38;5;124m\"\u001b[39m)\n",
      "\u001b[0;31mNameError\u001b[0m: name 'phase3_3_5new' is not defined"
     ]
    }
   ],
   "source": [
    "plt.errorbar(phase3_3_5new, intensity3_3_5new, xerr=bin_simi_width3_3_5new, yerr=model_normalization3_3_5new,\n",
    "            fmt = '.', fillstyle = 'none', linestyle='-', drawstyle='steps-mid', mec='green', mew = 2, ms=3, color='green', label = '3-5 keV')\n",
    "\n",
    "\n",
    "plt.xlabel(\"Phase (cycle)\")\n",
    "plt.ylabel(\"Normalized Intensity\")\n",
    "\n",
    "plt.legend(loc='right', bbox_to_anchor=(1.001, 1.001),\n",
    "          ncol=3, fancybox=True, shadow=True)\n",
    "plt.savefig('SWJ1818_pulse_profile3-3-5.pdf', bbox_inches = 'tight')\n",
    "plt.show()"
   ]
  },
  {
   "cell_type": "code",
   "execution_count": 6,
   "id": "hired-fence",
   "metadata": {},
   "outputs": [
    {
     "ename": "NameError",
     "evalue": "name 'phase3_5_10new' is not defined",
     "output_type": "error",
     "traceback": [
      "\u001b[0;31m---------------------------------------------------------------------------\u001b[0m",
      "\u001b[0;31mNameError\u001b[0m                                 Traceback (most recent call last)",
      "Cell \u001b[0;32mIn[6], line 1\u001b[0m\n\u001b[0;32m----> 1\u001b[0m plt\u001b[38;5;241m.\u001b[39merrorbar(\u001b[43mphase3_5_10new\u001b[49m, intensity3_5_10new, xerr\u001b[38;5;241m=\u001b[39mbin_simi_width3_5_10new, yerr\u001b[38;5;241m=\u001b[39mmodel_normalization3_5_10new,\n\u001b[1;32m      2\u001b[0m             fmt \u001b[38;5;241m=\u001b[39m \u001b[38;5;124m'\u001b[39m\u001b[38;5;124m.\u001b[39m\u001b[38;5;124m'\u001b[39m, fillstyle \u001b[38;5;241m=\u001b[39m \u001b[38;5;124m'\u001b[39m\u001b[38;5;124mnone\u001b[39m\u001b[38;5;124m'\u001b[39m, linestyle\u001b[38;5;241m=\u001b[39m\u001b[38;5;124m'\u001b[39m\u001b[38;5;124m-\u001b[39m\u001b[38;5;124m'\u001b[39m, drawstyle\u001b[38;5;241m=\u001b[39m\u001b[38;5;124m'\u001b[39m\u001b[38;5;124msteps-mid\u001b[39m\u001b[38;5;124m'\u001b[39m, mec\u001b[38;5;241m=\u001b[39m\u001b[38;5;124m'\u001b[39m\u001b[38;5;124mgreen\u001b[39m\u001b[38;5;124m'\u001b[39m, mew \u001b[38;5;241m=\u001b[39m \u001b[38;5;241m2\u001b[39m, ms\u001b[38;5;241m=\u001b[39m\u001b[38;5;241m3\u001b[39m, color\u001b[38;5;241m=\u001b[39m\u001b[38;5;124m'\u001b[39m\u001b[38;5;124mgreen\u001b[39m\u001b[38;5;124m'\u001b[39m, label \u001b[38;5;241m=\u001b[39m \u001b[38;5;124m'\u001b[39m\u001b[38;5;124m5-10 keV\u001b[39m\u001b[38;5;124m'\u001b[39m)\n\u001b[1;32m      5\u001b[0m plt\u001b[38;5;241m.\u001b[39mxlabel(\u001b[38;5;124m\"\u001b[39m\u001b[38;5;124mPhase (cycle)\u001b[39m\u001b[38;5;124m\"\u001b[39m)\n\u001b[1;32m      6\u001b[0m plt\u001b[38;5;241m.\u001b[39mylabel(\u001b[38;5;124m\"\u001b[39m\u001b[38;5;124mNormalized Intensity\u001b[39m\u001b[38;5;124m\"\u001b[39m)\n",
      "\u001b[0;31mNameError\u001b[0m: name 'phase3_5_10new' is not defined"
     ]
    }
   ],
   "source": [
    "plt.errorbar(phase3_5_10new, intensity3_5_10new, xerr=bin_simi_width3_5_10new, yerr=model_normalization3_5_10new,\n",
    "            fmt = '.', fillstyle = 'none', linestyle='-', drawstyle='steps-mid', mec='green', mew = 2, ms=3, color='green', label = '5-10 keV')\n",
    "\n",
    "\n",
    "plt.xlabel(\"Phase (cycle)\")\n",
    "plt.ylabel(\"Normalized Intensity\")\n",
    "\n",
    "plt.legend(loc='right', bbox_to_anchor=(1.001, 1.001),\n",
    "          ncol=3, fancybox=True, shadow=True)\n",
    "plt.savefig('SWJ1818_pulse_profile3-5-10.pdf', bbox_inches = 'tight')\n",
    "plt.show()"
   ]
  },
  {
   "cell_type": "markdown",
   "id": "parental-contributor",
   "metadata": {},
   "source": [
    "## 4201"
   ]
  },
  {
   "cell_type": "code",
   "execution_count": 7,
   "id": "closed-church",
   "metadata": {},
   "outputs": [
    {
     "ename": "NameError",
     "evalue": "name 'phase4_03_10new' is not defined",
     "output_type": "error",
     "traceback": [
      "\u001b[0;31m---------------------------------------------------------------------------\u001b[0m",
      "\u001b[0;31mNameError\u001b[0m                                 Traceback (most recent call last)",
      "Cell \u001b[0;32mIn[7], line 1\u001b[0m\n\u001b[0;32m----> 1\u001b[0m plt\u001b[38;5;241m.\u001b[39merrorbar(\u001b[43mphase4_03_10new\u001b[49m, intensity4_03_10new, xerr\u001b[38;5;241m=\u001b[39mbin_simi_width4_03_10new, yerr\u001b[38;5;241m=\u001b[39mmodel_normalization4_03_10new,\n\u001b[1;32m      2\u001b[0m             fmt \u001b[38;5;241m=\u001b[39m \u001b[38;5;124m'\u001b[39m\u001b[38;5;124m.\u001b[39m\u001b[38;5;124m'\u001b[39m, fillstyle \u001b[38;5;241m=\u001b[39m \u001b[38;5;124m'\u001b[39m\u001b[38;5;124mnone\u001b[39m\u001b[38;5;124m'\u001b[39m, linestyle\u001b[38;5;241m=\u001b[39m\u001b[38;5;124m'\u001b[39m\u001b[38;5;124m-\u001b[39m\u001b[38;5;124m'\u001b[39m, drawstyle\u001b[38;5;241m=\u001b[39m\u001b[38;5;124m'\u001b[39m\u001b[38;5;124msteps-mid\u001b[39m\u001b[38;5;124m'\u001b[39m, mec\u001b[38;5;241m=\u001b[39m\u001b[38;5;124m'\u001b[39m\u001b[38;5;124mblue\u001b[39m\u001b[38;5;124m'\u001b[39m, mew \u001b[38;5;241m=\u001b[39m \u001b[38;5;241m2\u001b[39m, ms\u001b[38;5;241m=\u001b[39m\u001b[38;5;241m3\u001b[39m, color\u001b[38;5;241m=\u001b[39m\u001b[38;5;124m'\u001b[39m\u001b[38;5;124mblue\u001b[39m\u001b[38;5;124m'\u001b[39m, label \u001b[38;5;241m=\u001b[39m \u001b[38;5;124m'\u001b[39m\u001b[38;5;124m0.3-10 keV\u001b[39m\u001b[38;5;124m'\u001b[39m)\n\u001b[1;32m      6\u001b[0m plt\u001b[38;5;241m.\u001b[39mxlabel(\u001b[38;5;124m\"\u001b[39m\u001b[38;5;124mPhase (cycle)\u001b[39m\u001b[38;5;124m\"\u001b[39m)\n\u001b[1;32m      7\u001b[0m plt\u001b[38;5;241m.\u001b[39mylabel(\u001b[38;5;124m\"\u001b[39m\u001b[38;5;124mNormalized Intensity\u001b[39m\u001b[38;5;124m\"\u001b[39m)\n",
      "\u001b[0;31mNameError\u001b[0m: name 'phase4_03_10new' is not defined"
     ]
    }
   ],
   "source": [
    "plt.errorbar(phase4_03_10new, intensity4_03_10new, xerr=bin_simi_width4_03_10new, yerr=model_normalization4_03_10new,\n",
    "            fmt = '.', fillstyle = 'none', linestyle='-', drawstyle='steps-mid', mec='blue', mew = 2, ms=3, color='blue', label = '0.3-10 keV')\n",
    "\n",
    "\n",
    "\n",
    "plt.xlabel(\"Phase (cycle)\")\n",
    "plt.ylabel(\"Normalized Intensity\")\n",
    "\n",
    "plt.legend(loc='right', bbox_to_anchor=(1.001, 1.001),\n",
    "          ncol=3, fancybox=True, shadow=True)\n",
    "plt.savefig('SWJ1818_pulse_profile4-03-10.pdf', bbox_inches = 'tight')\n",
    "plt.show()"
   ]
  },
  {
   "cell_type": "code",
   "execution_count": 8,
   "id": "preliminary-camping",
   "metadata": {},
   "outputs": [
    {
     "ename": "NameError",
     "evalue": "name 'phase4_03_2new' is not defined",
     "output_type": "error",
     "traceback": [
      "\u001b[0;31m---------------------------------------------------------------------------\u001b[0m",
      "\u001b[0;31mNameError\u001b[0m                                 Traceback (most recent call last)",
      "Cell \u001b[0;32mIn[8], line 1\u001b[0m\n\u001b[0;32m----> 1\u001b[0m plt\u001b[38;5;241m.\u001b[39merrorbar(\u001b[43mphase4_03_2new\u001b[49m, intensity4_03_2new, xerr\u001b[38;5;241m=\u001b[39mbin_simi_width4_03_2new, yerr\u001b[38;5;241m=\u001b[39mmodel_normalization4_03_2new,\n\u001b[1;32m      2\u001b[0m            fmt \u001b[38;5;241m=\u001b[39m \u001b[38;5;124m'\u001b[39m\u001b[38;5;124m.\u001b[39m\u001b[38;5;124m'\u001b[39m, fillstyle \u001b[38;5;241m=\u001b[39m \u001b[38;5;124m'\u001b[39m\u001b[38;5;124mnone\u001b[39m\u001b[38;5;124m'\u001b[39m, linestyle\u001b[38;5;241m=\u001b[39m\u001b[38;5;124m'\u001b[39m\u001b[38;5;124m-\u001b[39m\u001b[38;5;124m'\u001b[39m, drawstyle\u001b[38;5;241m=\u001b[39m\u001b[38;5;124m'\u001b[39m\u001b[38;5;124msteps-mid\u001b[39m\u001b[38;5;124m'\u001b[39m, mec\u001b[38;5;241m=\u001b[39m\u001b[38;5;124m'\u001b[39m\u001b[38;5;124mblue\u001b[39m\u001b[38;5;124m'\u001b[39m, mew \u001b[38;5;241m=\u001b[39m \u001b[38;5;241m2\u001b[39m, ms\u001b[38;5;241m=\u001b[39m\u001b[38;5;241m3\u001b[39m, color\u001b[38;5;241m=\u001b[39m\u001b[38;5;124m'\u001b[39m\u001b[38;5;124mblue\u001b[39m\u001b[38;5;124m'\u001b[39m, label \u001b[38;5;241m=\u001b[39m \u001b[38;5;124m'\u001b[39m\u001b[38;5;124m0.3-2 keV\u001b[39m\u001b[38;5;124m'\u001b[39m)\n\u001b[1;32m      6\u001b[0m plt\u001b[38;5;241m.\u001b[39mxlabel(\u001b[38;5;124m\"\u001b[39m\u001b[38;5;124mPhase (cycle)\u001b[39m\u001b[38;5;124m\"\u001b[39m)\n\u001b[1;32m      7\u001b[0m plt\u001b[38;5;241m.\u001b[39mylabel(\u001b[38;5;124m\"\u001b[39m\u001b[38;5;124mNormalized Intensity\u001b[39m\u001b[38;5;124m\"\u001b[39m)\n",
      "\u001b[0;31mNameError\u001b[0m: name 'phase4_03_2new' is not defined"
     ]
    }
   ],
   "source": [
    "plt.errorbar(phase4_03_2new, intensity4_03_2new, xerr=bin_simi_width4_03_2new, yerr=model_normalization4_03_2new,\n",
    "           fmt = '.', fillstyle = 'none', linestyle='-', drawstyle='steps-mid', mec='blue', mew = 2, ms=3, color='blue', label = '0.3-2 keV')\n",
    "\n",
    "\n",
    "\n",
    "plt.xlabel(\"Phase (cycle)\")\n",
    "plt.ylabel(\"Normalized Intensity\")\n",
    "\n",
    "plt.legend(loc='right', bbox_to_anchor=(1.001, 1.001),\n",
    "          ncol=3, fancybox=True, shadow=True)\n",
    "plt.savefig('SWJ1818_pulse_profile4-03-2.pdf', bbox_inches = 'tight')\n",
    "plt.show()"
   ]
  },
  {
   "cell_type": "code",
   "execution_count": 9,
   "id": "permanent-shower",
   "metadata": {},
   "outputs": [
    {
     "ename": "NameError",
     "evalue": "name 'phase4_2_3new' is not defined",
     "output_type": "error",
     "traceback": [
      "\u001b[0;31m---------------------------------------------------------------------------\u001b[0m",
      "\u001b[0;31mNameError\u001b[0m                                 Traceback (most recent call last)",
      "Cell \u001b[0;32mIn[9], line 1\u001b[0m\n\u001b[0;32m----> 1\u001b[0m plt\u001b[38;5;241m.\u001b[39merrorbar(\u001b[43mphase4_2_3new\u001b[49m, intensity4_2_3new, xerr\u001b[38;5;241m=\u001b[39mbin_simi_width4_2_3new, yerr\u001b[38;5;241m=\u001b[39mmodel_normalization4_2_3new,\n\u001b[1;32m      2\u001b[0m             fmt \u001b[38;5;241m=\u001b[39m \u001b[38;5;124m'\u001b[39m\u001b[38;5;124m.\u001b[39m\u001b[38;5;124m'\u001b[39m, fillstyle \u001b[38;5;241m=\u001b[39m \u001b[38;5;124m'\u001b[39m\u001b[38;5;124mnone\u001b[39m\u001b[38;5;124m'\u001b[39m, linestyle\u001b[38;5;241m=\u001b[39m\u001b[38;5;124m'\u001b[39m\u001b[38;5;124m-\u001b[39m\u001b[38;5;124m'\u001b[39m, drawstyle\u001b[38;5;241m=\u001b[39m\u001b[38;5;124m'\u001b[39m\u001b[38;5;124msteps-mid\u001b[39m\u001b[38;5;124m'\u001b[39m, mec\u001b[38;5;241m=\u001b[39m\u001b[38;5;124m'\u001b[39m\u001b[38;5;124mblue\u001b[39m\u001b[38;5;124m'\u001b[39m, mew \u001b[38;5;241m=\u001b[39m \u001b[38;5;241m2\u001b[39m, ms\u001b[38;5;241m=\u001b[39m\u001b[38;5;241m3\u001b[39m, color\u001b[38;5;241m=\u001b[39m\u001b[38;5;124m'\u001b[39m\u001b[38;5;124mblue\u001b[39m\u001b[38;5;124m'\u001b[39m, label \u001b[38;5;241m=\u001b[39m \u001b[38;5;124m'\u001b[39m\u001b[38;5;124m2-3 keV\u001b[39m\u001b[38;5;124m'\u001b[39m)\n\u001b[1;32m      6\u001b[0m plt\u001b[38;5;241m.\u001b[39mxlabel(\u001b[38;5;124m\"\u001b[39m\u001b[38;5;124mPhase (cycle)\u001b[39m\u001b[38;5;124m\"\u001b[39m)\n\u001b[1;32m      7\u001b[0m plt\u001b[38;5;241m.\u001b[39mylabel(\u001b[38;5;124m\"\u001b[39m\u001b[38;5;124mNormalized Intensity\u001b[39m\u001b[38;5;124m\"\u001b[39m)\n",
      "\u001b[0;31mNameError\u001b[0m: name 'phase4_2_3new' is not defined"
     ]
    }
   ],
   "source": [
    "plt.errorbar(phase4_2_3new, intensity4_2_3new, xerr=bin_simi_width4_2_3new, yerr=model_normalization4_2_3new,\n",
    "            fmt = '.', fillstyle = 'none', linestyle='-', drawstyle='steps-mid', mec='blue', mew = 2, ms=3, color='blue', label = '2-3 keV')\n",
    "\n",
    "\n",
    "\n",
    "plt.xlabel(\"Phase (cycle)\")\n",
    "plt.ylabel(\"Normalized Intensity\")\n",
    "\n",
    "plt.legend(loc='right', bbox_to_anchor=(1.001, 1.001),\n",
    "          ncol=3, fancybox=True, shadow=True)\n",
    "plt.savefig('SWJ1818_pulse_profile4-2-3.pdf', bbox_inches = 'tight')\n",
    "plt.show()"
   ]
  },
  {
   "cell_type": "code",
   "execution_count": 10,
   "id": "demanding-scroll",
   "metadata": {},
   "outputs": [
    {
     "ename": "NameError",
     "evalue": "name 'phase4_3_5new' is not defined",
     "output_type": "error",
     "traceback": [
      "\u001b[0;31m---------------------------------------------------------------------------\u001b[0m",
      "\u001b[0;31mNameError\u001b[0m                                 Traceback (most recent call last)",
      "Cell \u001b[0;32mIn[10], line 1\u001b[0m\n\u001b[0;32m----> 1\u001b[0m plt\u001b[38;5;241m.\u001b[39merrorbar(\u001b[43mphase4_3_5new\u001b[49m, intensity4_3_5new, xerr\u001b[38;5;241m=\u001b[39mbin_simi_width4_3_5new, yerr\u001b[38;5;241m=\u001b[39mmodel_normalization4_3_5new,\n\u001b[1;32m      2\u001b[0m             fmt \u001b[38;5;241m=\u001b[39m \u001b[38;5;124m'\u001b[39m\u001b[38;5;124m.\u001b[39m\u001b[38;5;124m'\u001b[39m, fillstyle \u001b[38;5;241m=\u001b[39m \u001b[38;5;124m'\u001b[39m\u001b[38;5;124mnone\u001b[39m\u001b[38;5;124m'\u001b[39m, linestyle\u001b[38;5;241m=\u001b[39m\u001b[38;5;124m'\u001b[39m\u001b[38;5;124m-\u001b[39m\u001b[38;5;124m'\u001b[39m, drawstyle\u001b[38;5;241m=\u001b[39m\u001b[38;5;124m'\u001b[39m\u001b[38;5;124msteps-mid\u001b[39m\u001b[38;5;124m'\u001b[39m, mec\u001b[38;5;241m=\u001b[39m\u001b[38;5;124m'\u001b[39m\u001b[38;5;124mblue\u001b[39m\u001b[38;5;124m'\u001b[39m, mew \u001b[38;5;241m=\u001b[39m \u001b[38;5;241m2\u001b[39m, ms\u001b[38;5;241m=\u001b[39m\u001b[38;5;241m3\u001b[39m, color\u001b[38;5;241m=\u001b[39m\u001b[38;5;124m'\u001b[39m\u001b[38;5;124mblue\u001b[39m\u001b[38;5;124m'\u001b[39m, label \u001b[38;5;241m=\u001b[39m \u001b[38;5;124m'\u001b[39m\u001b[38;5;124m3-5 keV\u001b[39m\u001b[38;5;124m'\u001b[39m)\n\u001b[1;32m      6\u001b[0m plt\u001b[38;5;241m.\u001b[39mxlabel(\u001b[38;5;124m\"\u001b[39m\u001b[38;5;124mPhase (cycle)\u001b[39m\u001b[38;5;124m\"\u001b[39m)\n\u001b[1;32m      7\u001b[0m plt\u001b[38;5;241m.\u001b[39mylabel(\u001b[38;5;124m\"\u001b[39m\u001b[38;5;124mNormalized Intensity\u001b[39m\u001b[38;5;124m\"\u001b[39m)\n",
      "\u001b[0;31mNameError\u001b[0m: name 'phase4_3_5new' is not defined"
     ]
    }
   ],
   "source": [
    "plt.errorbar(phase4_3_5new, intensity4_3_5new, xerr=bin_simi_width4_3_5new, yerr=model_normalization4_3_5new,\n",
    "            fmt = '.', fillstyle = 'none', linestyle='-', drawstyle='steps-mid', mec='blue', mew = 2, ms=3, color='blue', label = '3-5 keV')\n",
    "\n",
    "\n",
    "\n",
    "plt.xlabel(\"Phase (cycle)\")\n",
    "plt.ylabel(\"Normalized Intensity\")\n",
    "\n",
    "plt.legend(loc='right', bbox_to_anchor=(1.001, 1.001),\n",
    "          ncol=3, fancybox=True, shadow=True)\n",
    "plt.savefig('SWJ1818_pulse_profile4-3-5.pdf', bbox_inches = 'tight')\n",
    "plt.show()"
   ]
  },
  {
   "cell_type": "code",
   "execution_count": 11,
   "id": "located-garden",
   "metadata": {},
   "outputs": [
    {
     "ename": "NameError",
     "evalue": "name 'phase4_5_10new' is not defined",
     "output_type": "error",
     "traceback": [
      "\u001b[0;31m---------------------------------------------------------------------------\u001b[0m",
      "\u001b[0;31mNameError\u001b[0m                                 Traceback (most recent call last)",
      "Cell \u001b[0;32mIn[11], line 1\u001b[0m\n\u001b[0;32m----> 1\u001b[0m plt\u001b[38;5;241m.\u001b[39merrorbar(\u001b[43mphase4_5_10new\u001b[49m, intensity4_5_10new, xerr\u001b[38;5;241m=\u001b[39mbin_simi_width4_5_10new, yerr\u001b[38;5;241m=\u001b[39mmodel_normalization4_5_10new,\n\u001b[1;32m      2\u001b[0m             fmt \u001b[38;5;241m=\u001b[39m \u001b[38;5;124m'\u001b[39m\u001b[38;5;124m.\u001b[39m\u001b[38;5;124m'\u001b[39m, fillstyle \u001b[38;5;241m=\u001b[39m \u001b[38;5;124m'\u001b[39m\u001b[38;5;124mnone\u001b[39m\u001b[38;5;124m'\u001b[39m, linestyle\u001b[38;5;241m=\u001b[39m\u001b[38;5;124m'\u001b[39m\u001b[38;5;124m-\u001b[39m\u001b[38;5;124m'\u001b[39m, drawstyle\u001b[38;5;241m=\u001b[39m\u001b[38;5;124m'\u001b[39m\u001b[38;5;124msteps-mid\u001b[39m\u001b[38;5;124m'\u001b[39m, mec\u001b[38;5;241m=\u001b[39m\u001b[38;5;124m'\u001b[39m\u001b[38;5;124mblue\u001b[39m\u001b[38;5;124m'\u001b[39m, mew \u001b[38;5;241m=\u001b[39m \u001b[38;5;241m2\u001b[39m, ms\u001b[38;5;241m=\u001b[39m\u001b[38;5;241m3\u001b[39m, color\u001b[38;5;241m=\u001b[39m\u001b[38;5;124m'\u001b[39m\u001b[38;5;124mblue\u001b[39m\u001b[38;5;124m'\u001b[39m, label \u001b[38;5;241m=\u001b[39m \u001b[38;5;124m'\u001b[39m\u001b[38;5;124m5-10 keV\u001b[39m\u001b[38;5;124m'\u001b[39m)\n\u001b[1;32m      7\u001b[0m plt\u001b[38;5;241m.\u001b[39mxlabel(\u001b[38;5;124m\"\u001b[39m\u001b[38;5;124mPhase (cycle)\u001b[39m\u001b[38;5;124m\"\u001b[39m)\n\u001b[1;32m      8\u001b[0m plt\u001b[38;5;241m.\u001b[39mylabel(\u001b[38;5;124m\"\u001b[39m\u001b[38;5;124mNormalized Intensity\u001b[39m\u001b[38;5;124m\"\u001b[39m)\n",
      "\u001b[0;31mNameError\u001b[0m: name 'phase4_5_10new' is not defined"
     ]
    }
   ],
   "source": [
    "plt.errorbar(phase4_5_10new, intensity4_5_10new, xerr=bin_simi_width4_5_10new, yerr=model_normalization4_5_10new,\n",
    "            fmt = '.', fillstyle = 'none', linestyle='-', drawstyle='steps-mid', mec='blue', mew = 2, ms=3, color='blue', label = '5-10 keV')\n",
    "\n",
    "\n",
    "\n",
    "\n",
    "plt.xlabel(\"Phase (cycle)\")\n",
    "plt.ylabel(\"Normalized Intensity\")\n",
    "\n",
    "plt.legend(loc='right', bbox_to_anchor=(1.001, 1.001),\n",
    "          ncol=3, fancybox=True, shadow=True)\n",
    "plt.savefig('SWJ1818_pulse_profile4-5-10.pdf', bbox_inches = 'tight')\n",
    "plt.show()"
   ]
  },
  {
   "cell_type": "code",
   "execution_count": null,
   "id": "nutritional-hampton",
   "metadata": {},
   "outputs": [],
   "source": []
  },
  {
   "cell_type": "code",
   "execution_count": 20,
   "id": "sublime-talent",
   "metadata": {},
   "outputs": [],
   "source": [
    "#Reading the data\n",
    "nu1002 = \"/Users/abubakribrahim/Desktop/observations/SGR1935/new1002/1002_nu.qdp\"\n",
    "Data_nu1002 = np.loadtxt(nu1002)\n",
    "phase_nu1002 = Data_nu1002[:,0]\n",
    "bin_simi_width_nu1002 = Data_nu1002[:,1]\n",
    "intensity_nu1002 = Data_nu1002[:,2]\n",
    "model_normalization_nu1002 = Data_nu1002[:,3]"
   ]
  },
  {
   "cell_type": "code",
   "execution_count": 40,
   "id": "48a08779",
   "metadata": {},
   "outputs": [
    {
     "data": {
      "image/png": "[encoded data removed]",
      "text/plain": [
       "<Figure size 640x480 with 1 Axes>"
      ]
     },
     "metadata": {},
     "output_type": "display_data"
    }
   ],
   "source": [
    "plt.errorbar(phase_nu1002, intensity_nu1002, xerr=bin_simi_width_nu1002, yerr=model_normalization_nu1002,\n",
    "            fmt = '.', fillstyle = 'none', linestyle='-', drawstyle='steps-mid', mec='blue', mew = 2, ms=3, color='blue', label = '3-79 keV')\n",
    "\n",
    "\n",
    "\n",
    "\n",
    "plt.xlabel(\"Phase (cycle)\")\n",
    "plt.ylabel(\"Counts/Sec\")\n",
    "\n",
    "plt.legend(loc='right', bbox_to_anchor=(1.001, 1.001),\n",
    "          ncol=3, fancybox=True, shadow=True)\n",
    "plt.savefig('SGR_J1935_nu1002.pdf', bbox_inches = 'tight')\n",
    "plt.show()"
   ]
  },
  {
   "cell_type": "code",
   "execution_count": 41,
   "id": "be57d8e9",
   "metadata": {},
   "outputs": [
    {
     "name": "stdout",
     "output_type": "stream",
     "text": [
      "Pulse Flux: 0.23521094723076924\n"
     ]
    }
   ],
   "source": [
    "import numpy as np\n",
    "\n",
    "# Load data\n",
    "nu1002 = \"/Users/abubakribrahim/Desktop/observations/SGR1935/new1002/1002_nu.qdp\"\n",
    "Data_nu1002 = np.loadtxt(nu1002)\n",
    "phase_nu1002 = Data_nu1002[:, 0]\n",
    "bin_simi_width_nu1002 = Data_nu1002[:, 1]\n",
    "intensity_nu1002 = Data_nu1002[:, 2]\n",
    "model_normalization_nu1002 = Data_nu1002[:, 3]\n",
    "\n",
    "# Determine the pulse phase region (adjust these values based on your data)\n",
    "start_phase = 0.1  # Replace with the appropriate value (between 0 and 1)\n",
    "end_phase = 0.9    # Replace with the appropriate value (between 0 and 1)\n",
    "\n",
    "# Extract the flux values within the pulse phase region\n",
    "in_pulse_phase_region = np.logical_and(phase_nu1002 >= start_phase, phase_nu1002 <= end_phase)\n",
    "pulse_flux_values = intensity_nu1002[in_pulse_phase_region]\n",
    "\n",
    "# Calculate the pulse flux\n",
    "pulse_flux = np.sum(pulse_flux_values) / len(pulse_flux_values)\n",
    "\n",
    "print(\"Pulse Flux:\", pulse_flux)\n"
   ]
  },
  {
   "cell_type": "code",
   "execution_count": 42,
   "id": "8378ddbd",
   "metadata": {},
   "outputs": [
    {
     "data": {
      "image/png": "[encoded data removed]",
      "text/plain": [
       "<Figure size 640x480 with 1 Axes>"
      ]
     },
     "metadata": {},
     "output_type": "display_data"
    },
    {
     "name": "stdout",
     "output_type": "stream",
     "text": [
      "Pulse Flux: 0.23521094723076924\n"
     ]
    }
   ],
   "source": [
    "import numpy as np\n",
    "\n",
    "# Load data\n",
    "nu1004 = \"/Users/abubakribrahim/Desktop/observations/SGR1935/new1004/timing/1004_nu.qdp\"\n",
    "Data_nu1004 = np.loadtxt(nu1004)\n",
    "phase_nu1004 = Data_nu1004[:, 0]\n",
    "bin_simi_width_nu1004 = Data_nu1004[:, 1]\n",
    "intensity_nu1004 = Data_nu1002[:, 2]\n",
    "model_normalization_nu1004 = Data_nu1004[:, 3]\n",
    "\n",
    "\n",
    "plt.errorbar(phase_nu1004, intensity_nu1004, xerr=bin_simi_width_nu1004, yerr=model_normalization_nu1004,\n",
    "            fmt = '.', fillstyle = 'none', linestyle='-', drawstyle='steps-mid', mec='blue', mew = 2, ms=3, color='blue', label = '3-79 keV')\n",
    "\n",
    "\n",
    "\n",
    "\n",
    "plt.xlabel(\"Phase (cycle)\")\n",
    "plt.ylabel(\"Counts/Sec\")\n",
    "\n",
    "plt.legend(loc='right', bbox_to_anchor=(1.001, 1.001),\n",
    "          ncol=3, fancybox=True, shadow=True)\n",
    "plt.savefig('SGR_J1935_nu1004.pdf', bbox_inches = 'tight')\n",
    "plt.show()\n",
    "\n",
    "\n",
    "# Determine the pulse phase region (adjust these values based on your data)\n",
    "start_phase = 0.1  # Replace with the appropriate value (between 0 and 1)\n",
    "end_phase = 0.9    # Replace with the appropriate value (between 0 and 1)\n",
    "\n",
    "# Extract the flux values within the pulse phase region\n",
    "in_pulse_phase_region = np.logical_and(phase_nu1002 >= start_phase, phase_nu1002 <= end_phase)\n",
    "pulse_flux_values = intensity_nu1002[in_pulse_phase_region]\n",
    "\n",
    "# Calculate the pulse flux\n",
    "pulse_flux = np.sum(pulse_flux_values) / len(pulse_flux_values)\n",
    "\n",
    "print(\"Pulse Flux:\", pulse_flux)"
   ]
  },
  {
   "cell_type": "code",
   "execution_count": 52,
   "id": "1c054490",
   "metadata": {},
   "outputs": [
    {
     "name": "stdout",
     "output_type": "stream",
     "text": [
      "[(0.    , 0.03125, 0.17257594, 0.00711087)\n",
      " (0.0625, 0.03125, 0.18811236, 0.0074242 )\n",
      " (0.125 , 0.03125, 0.20187932, 0.00769099)\n",
      " (0.1875, 0.03125, 0.1842726 , 0.00734743)\n",
      " (0.25  , 0.03125, 0.19097733, 0.00747925)\n",
      " (0.3125, 0.03125, 0.16954303, 0.00704597)\n",
      " (0.375 , 0.03125, 0.15872064, 0.00681764)\n",
      " (0.4375, 0.03125, 0.12945656, 0.00615762)\n",
      " (0.5   , 0.03125, 0.12098774, 0.00595342)\n",
      " (0.5625, 0.03125, 0.1338827 , 0.00626277)\n",
      " (0.625 , 0.03125, 0.14942415, 0.00661661)\n",
      " (0.6875, 0.03125, 0.15937975, 0.00683335)\n",
      " (0.75  , 0.03125, 0.16468783, 0.00694694)\n",
      " (0.8125, 0.03125, 0.14559947, 0.00653103)\n",
      " (0.875 , 0.03125, 0.12713729, 0.00610279)\n",
      " (0.9375, 0.03125, 0.13766502, 0.00635001)]\n",
      "Pulse Flux: 0.15154647827148438\n"
     ]
    }
   ],
   "source": [
    "from astropy.io import fits\n",
    "import numpy as np\n",
    "\n",
    "# Load the folded light curve FITS file\n",
    "with fits.open('/Users/abubakribrahim/Desktop/observations/SGR1935/new1002/timing/1002Asrc_bary_filtered_evt_3-14keV_folded_timing.fits') as hdul:\n",
    "    data = hdul[1].data\n",
    "print(data)\n",
    "# Extract relevant columns (assuming 'PHASE' and 'FLUX' are the column names)\n",
    "phase = data['PHASE']\n",
    "flux = data['RATE1']\n",
    "\n",
    "# Define the pulse phase region (adjust these values based on your data)\n",
    "start_phase = 0.2\n",
    "end_phase = 0.7\n",
    "\n",
    "# Extract the flux values within the pulse phase region\n",
    "in_pulse_phase_region = np.logical_and(phase >= start_phase, phase <= end_phase)\n",
    "pulse_flux_values = flux[in_pulse_phase_region]\n",
    "\n",
    "# Calculate the pulse flux\n",
    "pulse_flux = np.sum(pulse_flux_values) / len(pulse_flux_values)\n",
    "\n",
    "print(\"Pulse Flux:\", pulse_flux)\n",
    "\n"
   ]
  },
  {
   "cell_type": "code",
   "execution_count": 51,
   "id": "695afc92",
   "metadata": {},
   "outputs": [
    {
     "name": "stdout",
     "output_type": "stream",
     "text": [
      "[(0.    , 0.03125, 0.11950827, 0.00588775)\n",
      " (0.0625, 0.03125, 0.14473055, 0.00647903)\n",
      " (0.125 , 0.03125, 0.14822435, 0.00655706)\n",
      " (0.1875, 0.03125, 0.14995855, 0.00659517)\n",
      " (0.25  , 0.03125, 0.15367705, 0.0066753 )\n",
      " (0.3125, 0.03125, 0.13690282, 0.00630146)\n",
      " (0.375 , 0.03125, 0.1281941 , 0.00609757)\n",
      " (0.4375, 0.03125, 0.10235808, 0.00544797)\n",
      " (0.5   , 0.03125, 0.09339671, 0.0052048 )\n",
      " (0.5625, 0.03125, 0.10730945, 0.00557875)\n",
      " (0.625 , 0.03125, 0.13102368, 0.00616284)\n",
      " (0.6875, 0.03125, 0.12442484, 0.00600729)\n",
      " (0.75  , 0.03125, 0.12322044, 0.00597707)\n",
      " (0.8125, 0.03125, 0.11397466, 0.00574926)\n",
      " (0.875 , 0.03125, 0.11079981, 0.00566901)\n",
      " (0.9375, 0.03125, 0.11778   , 0.00584532)]\n",
      "Pulse Flux: 0.12216083705425262\n"
     ]
    }
   ],
   "source": [
    "# Load the folded light curve FITS file\n",
    "with fits.open('/Users/abubakribrahim/Desktop/observations/SGR1935/new1004/timing/1004Asrc_bary_filtered_evt_3-14keV_folded_timing.fits') as hdul:\n",
    "    data = hdul[1].data\n",
    "print(data)\n",
    "# Extract relevant columns (assuming 'PHASE' and 'FLUX' are the column names)\n",
    "phase = data['PHASE']\n",
    "flux = data['RATE1']\n",
    "\n",
    "# Define the pulse phase region (adjust these values based on your data)\n",
    "start_phase = 0.2\n",
    "end_phase = 0.7\n",
    "\n",
    "# Extract the flux values within the pulse phase region\n",
    "in_pulse_phase_region = np.logical_and(phase >= start_phase, phase <= end_phase)\n",
    "pulse_flux_values = flux[in_pulse_phase_region]\n",
    "\n",
    "# Calculate the pulse flux\n",
    "pulse_flux = np.sum(pulse_flux_values) / len(pulse_flux_values)\n",
    "\n",
    "print(\"Pulse Flux:\", pulse_flux)"
   ]
  },
  {
   "cell_type": "code",
   "execution_count": null,
   "id": "45bd33cd",
   "metadata": {},
   "outputs": [],
   "source": []
  }
 ],
 "metadata": {
  "kernelspec": {
   "display_name": "Python 3 (ipykernel)",
   "language": "python",
   "name": "python3"
  },
  "language_info": {
   "codemirror_mode": {
    "name": "ipython",
    "version": 3
   },
   "file_extension": ".py",
   "mimetype": "text/x-python",
   "name": "python",
   "nbconvert_exporter": "python",
   "pygments_lexer": "ipython3",
   "version": "3.8.16"
  }
 },
 "nbformat": 4,
 "nbformat_minor": 5
}
